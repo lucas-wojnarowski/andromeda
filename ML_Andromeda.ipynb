{
  "cells": [
    {
      "cell_type": "code",
      "execution_count": 75,
      "id": "a193f156-30b1-4904-b7ae-5a3f20287bc8",
      "metadata": {
        "id": "a193f156-30b1-4904-b7ae-5a3f20287bc8"
      },
      "outputs": [],
      "source": [
        "import pandas as pd\n",
        "import seaborn as sns\n",
        "import numpy as np\n",
        "import matplotlib.pyplot as plt\n",
        "import plotly.subplots as sp\n",
        "import plotly.graph_objs as go\n",
        "import warnings\n",
        "# Suppress all warnings\n",
        "warnings.filterwarnings('ignore')\n"
      ]
    },
    {
      "cell_type": "markdown",
      "source": [
        "# Visualization functions"
      ],
      "metadata": {
        "id": "HYusKVeMCDCA"
      },
      "id": "HYusKVeMCDCA"
    },
    {
      "cell_type": "code",
      "execution_count": 76,
      "id": "d4fd84da-4332-47e7-94d8-95695a8c9d3f",
      "metadata": {
        "id": "d4fd84da-4332-47e7-94d8-95695a8c9d3f"
      },
      "outputs": [],
      "source": [
        "def line_plots(df, number_of_plots):\n",
        "    # Create subplots with 1 row and 2 columns\n",
        "    fig = sp.make_subplots(rows=1, cols=number_of_plots)\n",
        "\n",
        "    # Create an empty list to store the traces\n",
        "    traces = []\n",
        "\n",
        "    for i in range(number_of_plots):\n",
        "        # Add traces to the subplots\n",
        "        trace = go.Scatter(x=df.index, y=df[str(i)], mode='lines')\n",
        "        traces.append(trace)\n",
        "\n",
        "    # Create the figure and add all the traces\n",
        "    fig = go.Figure(data=traces)\n",
        "\n",
        "    # Update layout\n",
        "    fig.update_layout(title='Stacked plots')\n",
        "\n",
        "    fig.show()"
      ]
    },
    {
      "cell_type": "code",
      "execution_count": 77,
      "id": "cd118343-b0a2-4f6c-9e22-44f70275ecdd",
      "metadata": {
        "id": "cd118343-b0a2-4f6c-9e22-44f70275ecdd"
      },
      "outputs": [],
      "source": [
        "def grid_plot(df):\n",
        "    # Create a 9x9 grid of line plots\n",
        "    fig, axes = plt.subplots(9, 9, figsize=(12, 12), sharex=True, sharey=True)\n",
        "\n",
        "    # Loop through the rows and columns to create line plots\n",
        "    for i in range(9):\n",
        "        for j in range(9):\n",
        "            column_name = str(i * 9 + j)\n",
        "            sns.lineplot(data=df[column_name], ax=axes[i, j])\n",
        "            axes[i, j].set_title(f\"({i+1}, {j+1})\")\n",
        "\n",
        "    # Adjust layout\n",
        "    plt.tight_layout()\n",
        "\n",
        "    plt.savefig('readings_1')\n",
        "    # Show the plot\n",
        "    plt.show()"
      ]
    },
    {
      "cell_type": "code",
      "execution_count": 78,
      "id": "669aa5d8-ab86-4f9e-8374-ad83e9f1b7fe",
      "metadata": {
        "id": "669aa5d8-ab86-4f9e-8374-ad83e9f1b7fe"
      },
      "outputs": [],
      "source": [
        "def scatter_plots(df, number_of_plots, y, title, x_names, y_names):\n",
        "    # Create subplots\n",
        "    fig = sp.make_subplots(rows=1, cols=1)\n",
        "\n",
        "    # Create an empty list to store the traces\n",
        "    traces = []\n",
        "\n",
        "    for i in range(number_of_plots):\n",
        "        # Add traces to the subplots\n",
        "        print(df.columns)\n",
        "        trace = go.Scatter(x=df[str(i)], y=df[y], mode='markers')\n",
        "        traces.append(trace)\n",
        "\n",
        "    # Create the figure and add all the traces\n",
        "    fig = go.Figure(data=traces)\n",
        "\n",
        "    # Update layout\n",
        "    fig.update_layout(title=title)\n",
        "    fig.update_xaxes(title_text=x_names)\n",
        "    fig.update_yaxes(title_text=y_names)\n",
        "\n",
        "    fig.show()"
      ]
    },
    {
      "cell_type": "markdown",
      "source": [
        "# Create grid for gathering color recognition data"
      ],
      "metadata": {
        "id": "5tXvUtF6C9ex"
      },
      "id": "5tXvUtF6C9ex"
    },
    {
      "cell_type": "code",
      "execution_count": 79,
      "metadata": {
        "id": "39ebaf3c-12a5-400d-965f-7a6a0d778030"
      },
      "outputs": [],
      "source": [
        "from PIL import Image, ImageDraw\n",
        "\n",
        "# Create a blank 256x256 image\n",
        "image_size = (1024, 1024)\n",
        "image = Image.new(\"L\", image_size)\n",
        "\n",
        "# Create a drawing object\n",
        "draw = ImageDraw.Draw(image)\n",
        "\n",
        "# Define the size of each square\n",
        "square_size = (image_size[0] // 16, image_size[1] // 16)\n",
        "\n",
        "# Initialize grayscale value\n",
        "grayscale_value = 0\n",
        "\n",
        "# Loop through the grid and set pixel values\n",
        "for y in range(16):\n",
        "    for x in range(16):\n",
        "        # Set the pixel value\n",
        "        draw.rectangle(\n",
        "            [x * square_size[0], y * square_size[1], (x + 1) * square_size[0], (y + 1) * square_size[1]],\n",
        "            fill=grayscale_value\n",
        "        )\n",
        "\n",
        "        # Increment grayscale value by 1\n",
        "        grayscale_value += 1\n",
        "\n",
        "# Save the image\n",
        "image.save(\"consecutive_grayscale_grid_1024x1024.png\")\n",
        "\n",
        "# Show the image (optional)\n",
        "image.show()"
      ],
      "id": "39ebaf3c-12a5-400d-965f-7a6a0d778030"
    },
    {
      "cell_type": "markdown",
      "source": [
        "# Data exploration"
      ],
      "metadata": {
        "id": "ojig7yaQCLHo"
      },
      "id": "ojig7yaQCLHo"
    },
    {
      "cell_type": "code",
      "execution_count": 80,
      "id": "1074e63f-d847-44bf-8c02-627c012b051b",
      "metadata": {
        "colab": {
          "base_uri": "https://localhost:8080/",
          "height": 236
        },
        "id": "1074e63f-d847-44bf-8c02-627c012b051b",
        "outputId": "c7380fa2-daaa-43f2-f8d4-56f16d391556"
      },
      "outputs": [
        {
          "output_type": "execute_result",
          "data": {
            "text/plain": [
              "       0      1      2      3      4      5      6      7      8      9  ...  \\\n",
              "0  350.5  562.0  743.5  837.0  905.0  949.0  874.0  960.0  959.0  471.0  ...   \n",
              "1  351.0  561.5  743.5  836.5  905.0  949.0  873.5  960.0  959.0  471.0  ...   \n",
              "2  350.0  561.0  743.5  836.0  905.0  949.0  873.5  960.0  959.0  471.0  ...   \n",
              "3  349.5  561.0  744.0  836.5  905.5  949.0  874.0  960.0  959.0  471.0  ...   \n",
              "4  350.5  561.0  743.5  836.0  905.5  949.0  874.0  960.0  959.0  471.0  ...   \n",
              "\n",
              "      72     73     74     75     76     77     78     79     80  \\\n",
              "0  465.0  529.0  644.0  802.5  795.5  856.0  760.0  931.0  934.5   \n",
              "1  465.0  529.0  644.0  802.5  795.5  856.0  760.0  931.0  934.5   \n",
              "2  465.0  529.0  644.0  802.5  795.5  856.0  760.0  931.0  934.5   \n",
              "3  465.0  528.5  644.0  803.0  795.5  856.0  759.5  931.0  934.0   \n",
              "4  465.5  528.0  644.0  802.5  795.0  856.0  759.5  931.0  934.0   \n",
              "\n",
              "   greyscale_value  \n",
              "0                0  \n",
              "1                0  \n",
              "2                0  \n",
              "3                0  \n",
              "4                0  \n",
              "\n",
              "[5 rows x 82 columns]"
            ],
            "text/html": [
              "\n",
              "  <div id=\"df-1419eeec-27fc-4431-8bcd-8da65041555d\" class=\"colab-df-container\">\n",
              "    <div>\n",
              "<style scoped>\n",
              "    .dataframe tbody tr th:only-of-type {\n",
              "        vertical-align: middle;\n",
              "    }\n",
              "\n",
              "    .dataframe tbody tr th {\n",
              "        vertical-align: top;\n",
              "    }\n",
              "\n",
              "    .dataframe thead th {\n",
              "        text-align: right;\n",
              "    }\n",
              "</style>\n",
              "<table border=\"1\" class=\"dataframe\">\n",
              "  <thead>\n",
              "    <tr style=\"text-align: right;\">\n",
              "      <th></th>\n",
              "      <th>0</th>\n",
              "      <th>1</th>\n",
              "      <th>2</th>\n",
              "      <th>3</th>\n",
              "      <th>4</th>\n",
              "      <th>5</th>\n",
              "      <th>6</th>\n",
              "      <th>7</th>\n",
              "      <th>8</th>\n",
              "      <th>9</th>\n",
              "      <th>...</th>\n",
              "      <th>72</th>\n",
              "      <th>73</th>\n",
              "      <th>74</th>\n",
              "      <th>75</th>\n",
              "      <th>76</th>\n",
              "      <th>77</th>\n",
              "      <th>78</th>\n",
              "      <th>79</th>\n",
              "      <th>80</th>\n",
              "      <th>greyscale_value</th>\n",
              "    </tr>\n",
              "  </thead>\n",
              "  <tbody>\n",
              "    <tr>\n",
              "      <th>0</th>\n",
              "      <td>350.5</td>\n",
              "      <td>562.0</td>\n",
              "      <td>743.5</td>\n",
              "      <td>837.0</td>\n",
              "      <td>905.0</td>\n",
              "      <td>949.0</td>\n",
              "      <td>874.0</td>\n",
              "      <td>960.0</td>\n",
              "      <td>959.0</td>\n",
              "      <td>471.0</td>\n",
              "      <td>...</td>\n",
              "      <td>465.0</td>\n",
              "      <td>529.0</td>\n",
              "      <td>644.0</td>\n",
              "      <td>802.5</td>\n",
              "      <td>795.5</td>\n",
              "      <td>856.0</td>\n",
              "      <td>760.0</td>\n",
              "      <td>931.0</td>\n",
              "      <td>934.5</td>\n",
              "      <td>0</td>\n",
              "    </tr>\n",
              "    <tr>\n",
              "      <th>1</th>\n",
              "      <td>351.0</td>\n",
              "      <td>561.5</td>\n",
              "      <td>743.5</td>\n",
              "      <td>836.5</td>\n",
              "      <td>905.0</td>\n",
              "      <td>949.0</td>\n",
              "      <td>873.5</td>\n",
              "      <td>960.0</td>\n",
              "      <td>959.0</td>\n",
              "      <td>471.0</td>\n",
              "      <td>...</td>\n",
              "      <td>465.0</td>\n",
              "      <td>529.0</td>\n",
              "      <td>644.0</td>\n",
              "      <td>802.5</td>\n",
              "      <td>795.5</td>\n",
              "      <td>856.0</td>\n",
              "      <td>760.0</td>\n",
              "      <td>931.0</td>\n",
              "      <td>934.5</td>\n",
              "      <td>0</td>\n",
              "    </tr>\n",
              "    <tr>\n",
              "      <th>2</th>\n",
              "      <td>350.0</td>\n",
              "      <td>561.0</td>\n",
              "      <td>743.5</td>\n",
              "      <td>836.0</td>\n",
              "      <td>905.0</td>\n",
              "      <td>949.0</td>\n",
              "      <td>873.5</td>\n",
              "      <td>960.0</td>\n",
              "      <td>959.0</td>\n",
              "      <td>471.0</td>\n",
              "      <td>...</td>\n",
              "      <td>465.0</td>\n",
              "      <td>529.0</td>\n",
              "      <td>644.0</td>\n",
              "      <td>802.5</td>\n",
              "      <td>795.5</td>\n",
              "      <td>856.0</td>\n",
              "      <td>760.0</td>\n",
              "      <td>931.0</td>\n",
              "      <td>934.5</td>\n",
              "      <td>0</td>\n",
              "    </tr>\n",
              "    <tr>\n",
              "      <th>3</th>\n",
              "      <td>349.5</td>\n",
              "      <td>561.0</td>\n",
              "      <td>744.0</td>\n",
              "      <td>836.5</td>\n",
              "      <td>905.5</td>\n",
              "      <td>949.0</td>\n",
              "      <td>874.0</td>\n",
              "      <td>960.0</td>\n",
              "      <td>959.0</td>\n",
              "      <td>471.0</td>\n",
              "      <td>...</td>\n",
              "      <td>465.0</td>\n",
              "      <td>528.5</td>\n",
              "      <td>644.0</td>\n",
              "      <td>803.0</td>\n",
              "      <td>795.5</td>\n",
              "      <td>856.0</td>\n",
              "      <td>759.5</td>\n",
              "      <td>931.0</td>\n",
              "      <td>934.0</td>\n",
              "      <td>0</td>\n",
              "    </tr>\n",
              "    <tr>\n",
              "      <th>4</th>\n",
              "      <td>350.5</td>\n",
              "      <td>561.0</td>\n",
              "      <td>743.5</td>\n",
              "      <td>836.0</td>\n",
              "      <td>905.5</td>\n",
              "      <td>949.0</td>\n",
              "      <td>874.0</td>\n",
              "      <td>960.0</td>\n",
              "      <td>959.0</td>\n",
              "      <td>471.0</td>\n",
              "      <td>...</td>\n",
              "      <td>465.5</td>\n",
              "      <td>528.0</td>\n",
              "      <td>644.0</td>\n",
              "      <td>802.5</td>\n",
              "      <td>795.0</td>\n",
              "      <td>856.0</td>\n",
              "      <td>759.5</td>\n",
              "      <td>931.0</td>\n",
              "      <td>934.0</td>\n",
              "      <td>0</td>\n",
              "    </tr>\n",
              "  </tbody>\n",
              "</table>\n",
              "<p>5 rows × 82 columns</p>\n",
              "</div>\n",
              "    <div class=\"colab-df-buttons\">\n",
              "\n",
              "  <div class=\"colab-df-container\">\n",
              "    <button class=\"colab-df-convert\" onclick=\"convertToInteractive('df-1419eeec-27fc-4431-8bcd-8da65041555d')\"\n",
              "            title=\"Convert this dataframe to an interactive table.\"\n",
              "            style=\"display:none;\">\n",
              "\n",
              "  <svg xmlns=\"http://www.w3.org/2000/svg\" height=\"24px\" viewBox=\"0 -960 960 960\">\n",
              "    <path d=\"M120-120v-720h720v720H120Zm60-500h600v-160H180v160Zm220 220h160v-160H400v160Zm0 220h160v-160H400v160ZM180-400h160v-160H180v160Zm440 0h160v-160H620v160ZM180-180h160v-160H180v160Zm440 0h160v-160H620v160Z\"/>\n",
              "  </svg>\n",
              "    </button>\n",
              "\n",
              "  <style>\n",
              "    .colab-df-container {\n",
              "      display:flex;\n",
              "      gap: 12px;\n",
              "    }\n",
              "\n",
              "    .colab-df-convert {\n",
              "      background-color: #E8F0FE;\n",
              "      border: none;\n",
              "      border-radius: 50%;\n",
              "      cursor: pointer;\n",
              "      display: none;\n",
              "      fill: #1967D2;\n",
              "      height: 32px;\n",
              "      padding: 0 0 0 0;\n",
              "      width: 32px;\n",
              "    }\n",
              "\n",
              "    .colab-df-convert:hover {\n",
              "      background-color: #E2EBFA;\n",
              "      box-shadow: 0px 1px 2px rgba(60, 64, 67, 0.3), 0px 1px 3px 1px rgba(60, 64, 67, 0.15);\n",
              "      fill: #174EA6;\n",
              "    }\n",
              "\n",
              "    .colab-df-buttons div {\n",
              "      margin-bottom: 4px;\n",
              "    }\n",
              "\n",
              "    [theme=dark] .colab-df-convert {\n",
              "      background-color: #3B4455;\n",
              "      fill: #D2E3FC;\n",
              "    }\n",
              "\n",
              "    [theme=dark] .colab-df-convert:hover {\n",
              "      background-color: #434B5C;\n",
              "      box-shadow: 0px 1px 3px 1px rgba(0, 0, 0, 0.15);\n",
              "      filter: drop-shadow(0px 1px 2px rgba(0, 0, 0, 0.3));\n",
              "      fill: #FFFFFF;\n",
              "    }\n",
              "  </style>\n",
              "\n",
              "    <script>\n",
              "      const buttonEl =\n",
              "        document.querySelector('#df-1419eeec-27fc-4431-8bcd-8da65041555d button.colab-df-convert');\n",
              "      buttonEl.style.display =\n",
              "        google.colab.kernel.accessAllowed ? 'block' : 'none';\n",
              "\n",
              "      async function convertToInteractive(key) {\n",
              "        const element = document.querySelector('#df-1419eeec-27fc-4431-8bcd-8da65041555d');\n",
              "        const dataTable =\n",
              "          await google.colab.kernel.invokeFunction('convertToInteractive',\n",
              "                                                    [key], {});\n",
              "        if (!dataTable) return;\n",
              "\n",
              "        const docLinkHtml = 'Like what you see? Visit the ' +\n",
              "          '<a target=\"_blank\" href=https://colab.research.google.com/notebooks/data_table.ipynb>data table notebook</a>'\n",
              "          + ' to learn more about interactive tables.';\n",
              "        element.innerHTML = '';\n",
              "        dataTable['output_type'] = 'display_data';\n",
              "        await google.colab.output.renderOutput(dataTable, element);\n",
              "        const docLink = document.createElement('div');\n",
              "        docLink.innerHTML = docLinkHtml;\n",
              "        element.appendChild(docLink);\n",
              "      }\n",
              "    </script>\n",
              "  </div>\n",
              "\n",
              "\n",
              "<div id=\"df-0bf940e5-f24a-45df-bdcf-487af44bd235\">\n",
              "  <button class=\"colab-df-quickchart\" onclick=\"quickchart('df-0bf940e5-f24a-45df-bdcf-487af44bd235')\"\n",
              "            title=\"Suggest charts\"\n",
              "            style=\"display:none;\">\n",
              "\n",
              "<svg xmlns=\"http://www.w3.org/2000/svg\" height=\"24px\"viewBox=\"0 0 24 24\"\n",
              "     width=\"24px\">\n",
              "    <g>\n",
              "        <path d=\"M19 3H5c-1.1 0-2 .9-2 2v14c0 1.1.9 2 2 2h14c1.1 0 2-.9 2-2V5c0-1.1-.9-2-2-2zM9 17H7v-7h2v7zm4 0h-2V7h2v10zm4 0h-2v-4h2v4z\"/>\n",
              "    </g>\n",
              "</svg>\n",
              "  </button>\n",
              "\n",
              "<style>\n",
              "  .colab-df-quickchart {\n",
              "      --bg-color: #E8F0FE;\n",
              "      --fill-color: #1967D2;\n",
              "      --hover-bg-color: #E2EBFA;\n",
              "      --hover-fill-color: #174EA6;\n",
              "      --disabled-fill-color: #AAA;\n",
              "      --disabled-bg-color: #DDD;\n",
              "  }\n",
              "\n",
              "  [theme=dark] .colab-df-quickchart {\n",
              "      --bg-color: #3B4455;\n",
              "      --fill-color: #D2E3FC;\n",
              "      --hover-bg-color: #434B5C;\n",
              "      --hover-fill-color: #FFFFFF;\n",
              "      --disabled-bg-color: #3B4455;\n",
              "      --disabled-fill-color: #666;\n",
              "  }\n",
              "\n",
              "  .colab-df-quickchart {\n",
              "    background-color: var(--bg-color);\n",
              "    border: none;\n",
              "    border-radius: 50%;\n",
              "    cursor: pointer;\n",
              "    display: none;\n",
              "    fill: var(--fill-color);\n",
              "    height: 32px;\n",
              "    padding: 0;\n",
              "    width: 32px;\n",
              "  }\n",
              "\n",
              "  .colab-df-quickchart:hover {\n",
              "    background-color: var(--hover-bg-color);\n",
              "    box-shadow: 0 1px 2px rgba(60, 64, 67, 0.3), 0 1px 3px 1px rgba(60, 64, 67, 0.15);\n",
              "    fill: var(--button-hover-fill-color);\n",
              "  }\n",
              "\n",
              "  .colab-df-quickchart-complete:disabled,\n",
              "  .colab-df-quickchart-complete:disabled:hover {\n",
              "    background-color: var(--disabled-bg-color);\n",
              "    fill: var(--disabled-fill-color);\n",
              "    box-shadow: none;\n",
              "  }\n",
              "\n",
              "  .colab-df-spinner {\n",
              "    border: 2px solid var(--fill-color);\n",
              "    border-color: transparent;\n",
              "    border-bottom-color: var(--fill-color);\n",
              "    animation:\n",
              "      spin 1s steps(1) infinite;\n",
              "  }\n",
              "\n",
              "  @keyframes spin {\n",
              "    0% {\n",
              "      border-color: transparent;\n",
              "      border-bottom-color: var(--fill-color);\n",
              "      border-left-color: var(--fill-color);\n",
              "    }\n",
              "    20% {\n",
              "      border-color: transparent;\n",
              "      border-left-color: var(--fill-color);\n",
              "      border-top-color: var(--fill-color);\n",
              "    }\n",
              "    30% {\n",
              "      border-color: transparent;\n",
              "      border-left-color: var(--fill-color);\n",
              "      border-top-color: var(--fill-color);\n",
              "      border-right-color: var(--fill-color);\n",
              "    }\n",
              "    40% {\n",
              "      border-color: transparent;\n",
              "      border-right-color: var(--fill-color);\n",
              "      border-top-color: var(--fill-color);\n",
              "    }\n",
              "    60% {\n",
              "      border-color: transparent;\n",
              "      border-right-color: var(--fill-color);\n",
              "    }\n",
              "    80% {\n",
              "      border-color: transparent;\n",
              "      border-right-color: var(--fill-color);\n",
              "      border-bottom-color: var(--fill-color);\n",
              "    }\n",
              "    90% {\n",
              "      border-color: transparent;\n",
              "      border-bottom-color: var(--fill-color);\n",
              "    }\n",
              "  }\n",
              "</style>\n",
              "\n",
              "  <script>\n",
              "    async function quickchart(key) {\n",
              "      const quickchartButtonEl =\n",
              "        document.querySelector('#' + key + ' button');\n",
              "      quickchartButtonEl.disabled = true;  // To prevent multiple clicks.\n",
              "      quickchartButtonEl.classList.add('colab-df-spinner');\n",
              "      try {\n",
              "        const charts = await google.colab.kernel.invokeFunction(\n",
              "            'suggestCharts', [key], {});\n",
              "      } catch (error) {\n",
              "        console.error('Error during call to suggestCharts:', error);\n",
              "      }\n",
              "      quickchartButtonEl.classList.remove('colab-df-spinner');\n",
              "      quickchartButtonEl.classList.add('colab-df-quickchart-complete');\n",
              "    }\n",
              "    (() => {\n",
              "      let quickchartButtonEl =\n",
              "        document.querySelector('#df-0bf940e5-f24a-45df-bdcf-487af44bd235 button');\n",
              "      quickchartButtonEl.style.display =\n",
              "        google.colab.kernel.accessAllowed ? 'block' : 'none';\n",
              "    })();\n",
              "  </script>\n",
              "</div>\n",
              "    </div>\n",
              "  </div>\n"
            ],
            "application/vnd.google.colaboratory.intrinsic+json": {
              "type": "dataframe",
              "variable_name": "df"
            }
          },
          "metadata": {},
          "execution_count": 80
        }
      ],
      "source": [
        "# Check grayscale grid readings:\n",
        "df = pd.read_csv(\"Colab_files/black_flat_sensor_grayscale_grid_1.csv\", index_col='Unnamed: 0')\n",
        "df.head()"
      ]
    },
    {
      "cell_type": "code",
      "source": [
        "df.describe()"
      ],
      "metadata": {
        "colab": {
          "base_uri": "https://localhost:8080/",
          "height": 330
        },
        "id": "xIn4BNjeDZEh",
        "outputId": "855940d8-e547-4612-94b5-b4de4c6ac72b"
      },
      "id": "xIn4BNjeDZEh",
      "execution_count": 8,
      "outputs": [
        {
          "output_type": "execute_result",
          "data": {
            "text/plain": [
              "                0          1           2           3           4           5  \\\n",
              "count  712.000000  712.00000  712.000000  712.000000  712.000000  712.000000   \n",
              "mean   670.379916  773.11236  902.881320  892.150281  955.613764  949.815309   \n",
              "std    195.559562   89.06623   47.724769   55.899346   14.052057    7.809346   \n",
              "min    303.000000  561.00000  743.000000  749.500000  893.000000  886.500000   \n",
              "25%    506.000000  717.37500  891.000000  865.000000  957.000000  950.000000   \n",
              "50%    693.000000  825.00000  931.000000  925.000000  961.000000  951.000000   \n",
              "75%    863.500000  843.00000  933.000000  932.000000  963.000000  953.000000   \n",
              "max    933.000000  845.00000  935.500000  934.000000  964.000000  955.000000   \n",
              "\n",
              "                6           7           8           9  ...          72  \\\n",
              "count  712.000000  712.000000  712.000000  712.000000  ...  712.000000   \n",
              "mean   940.188202  963.521067  959.843399  789.919944  ...  400.304073   \n",
              "std     32.436572    1.465105    0.602140  164.118206  ...  432.040545   \n",
              "min    853.000000  960.000000  955.000000  440.000000  ...   -5.000000   \n",
              "25%    931.000000  962.000000  960.000000  632.500000  ...   -2.000000   \n",
              "50%    958.000000  964.000000  960.000000  839.500000  ...   63.000000   \n",
              "75%    962.000000  965.000000  960.000000  949.000000  ...  918.000000   \n",
              "max    963.000000  965.000000  961.000000  959.000000  ...  919.000000   \n",
              "\n",
              "               73          74          75          76          77          78  \\\n",
              "count  712.000000  712.000000  712.000000  712.000000  712.000000  712.000000   \n",
              "mean   532.482444  641.837781  634.163624  609.027388  535.379213  516.826545   \n",
              "std    424.274135  433.131746  434.115076  430.834536  387.231026  413.101981   \n",
              "min     -2.500000    0.000000    0.000000    0.000000   -4.000000   -1.000000   \n",
              "25%      0.000000    1.000000    0.500000    4.500000    1.000000    1.000000   \n",
              "50%    865.000000  968.000000  954.000000  924.250000  771.000000  696.000000   \n",
              "75%    910.000000  970.000000  956.000000  954.000000  861.000000  922.000000   \n",
              "max    917.000000  979.000000  960.000000  955.000000  864.000000  930.000000   \n",
              "\n",
              "               79          80  greyscale_value  \n",
              "count  712.000000  712.000000       712.000000  \n",
              "mean   541.794242  462.544944        64.488764  \n",
              "std    450.564126  421.277474        39.229282  \n",
              "min     -2.000000   -2.000000         0.000000  \n",
              "25%     -1.000000    0.000000        30.750000  \n",
              "50%    928.000000  503.250000        62.000000  \n",
              "75%    933.000000  928.000000        98.000000  \n",
              "max    933.000000  940.000000       135.000000  \n",
              "\n",
              "[8 rows x 82 columns]"
            ],
            "text/html": [
              "\n",
              "  <div id=\"df-573858ba-9104-4a75-9259-4d054acfa24f\" class=\"colab-df-container\">\n",
              "    <div>\n",
              "<style scoped>\n",
              "    .dataframe tbody tr th:only-of-type {\n",
              "        vertical-align: middle;\n",
              "    }\n",
              "\n",
              "    .dataframe tbody tr th {\n",
              "        vertical-align: top;\n",
              "    }\n",
              "\n",
              "    .dataframe thead th {\n",
              "        text-align: right;\n",
              "    }\n",
              "</style>\n",
              "<table border=\"1\" class=\"dataframe\">\n",
              "  <thead>\n",
              "    <tr style=\"text-align: right;\">\n",
              "      <th></th>\n",
              "      <th>0</th>\n",
              "      <th>1</th>\n",
              "      <th>2</th>\n",
              "      <th>3</th>\n",
              "      <th>4</th>\n",
              "      <th>5</th>\n",
              "      <th>6</th>\n",
              "      <th>7</th>\n",
              "      <th>8</th>\n",
              "      <th>9</th>\n",
              "      <th>...</th>\n",
              "      <th>72</th>\n",
              "      <th>73</th>\n",
              "      <th>74</th>\n",
              "      <th>75</th>\n",
              "      <th>76</th>\n",
              "      <th>77</th>\n",
              "      <th>78</th>\n",
              "      <th>79</th>\n",
              "      <th>80</th>\n",
              "      <th>greyscale_value</th>\n",
              "    </tr>\n",
              "  </thead>\n",
              "  <tbody>\n",
              "    <tr>\n",
              "      <th>count</th>\n",
              "      <td>712.000000</td>\n",
              "      <td>712.00000</td>\n",
              "      <td>712.000000</td>\n",
              "      <td>712.000000</td>\n",
              "      <td>712.000000</td>\n",
              "      <td>712.000000</td>\n",
              "      <td>712.000000</td>\n",
              "      <td>712.000000</td>\n",
              "      <td>712.000000</td>\n",
              "      <td>712.000000</td>\n",
              "      <td>...</td>\n",
              "      <td>712.000000</td>\n",
              "      <td>712.000000</td>\n",
              "      <td>712.000000</td>\n",
              "      <td>712.000000</td>\n",
              "      <td>712.000000</td>\n",
              "      <td>712.000000</td>\n",
              "      <td>712.000000</td>\n",
              "      <td>712.000000</td>\n",
              "      <td>712.000000</td>\n",
              "      <td>712.000000</td>\n",
              "    </tr>\n",
              "    <tr>\n",
              "      <th>mean</th>\n",
              "      <td>670.379916</td>\n",
              "      <td>773.11236</td>\n",
              "      <td>902.881320</td>\n",
              "      <td>892.150281</td>\n",
              "      <td>955.613764</td>\n",
              "      <td>949.815309</td>\n",
              "      <td>940.188202</td>\n",
              "      <td>963.521067</td>\n",
              "      <td>959.843399</td>\n",
              "      <td>789.919944</td>\n",
              "      <td>...</td>\n",
              "      <td>400.304073</td>\n",
              "      <td>532.482444</td>\n",
              "      <td>641.837781</td>\n",
              "      <td>634.163624</td>\n",
              "      <td>609.027388</td>\n",
              "      <td>535.379213</td>\n",
              "      <td>516.826545</td>\n",
              "      <td>541.794242</td>\n",
              "      <td>462.544944</td>\n",
              "      <td>64.488764</td>\n",
              "    </tr>\n",
              "    <tr>\n",
              "      <th>std</th>\n",
              "      <td>195.559562</td>\n",
              "      <td>89.06623</td>\n",
              "      <td>47.724769</td>\n",
              "      <td>55.899346</td>\n",
              "      <td>14.052057</td>\n",
              "      <td>7.809346</td>\n",
              "      <td>32.436572</td>\n",
              "      <td>1.465105</td>\n",
              "      <td>0.602140</td>\n",
              "      <td>164.118206</td>\n",
              "      <td>...</td>\n",
              "      <td>432.040545</td>\n",
              "      <td>424.274135</td>\n",
              "      <td>433.131746</td>\n",
              "      <td>434.115076</td>\n",
              "      <td>430.834536</td>\n",
              "      <td>387.231026</td>\n",
              "      <td>413.101981</td>\n",
              "      <td>450.564126</td>\n",
              "      <td>421.277474</td>\n",
              "      <td>39.229282</td>\n",
              "    </tr>\n",
              "    <tr>\n",
              "      <th>min</th>\n",
              "      <td>303.000000</td>\n",
              "      <td>561.00000</td>\n",
              "      <td>743.000000</td>\n",
              "      <td>749.500000</td>\n",
              "      <td>893.000000</td>\n",
              "      <td>886.500000</td>\n",
              "      <td>853.000000</td>\n",
              "      <td>960.000000</td>\n",
              "      <td>955.000000</td>\n",
              "      <td>440.000000</td>\n",
              "      <td>...</td>\n",
              "      <td>-5.000000</td>\n",
              "      <td>-2.500000</td>\n",
              "      <td>0.000000</td>\n",
              "      <td>0.000000</td>\n",
              "      <td>0.000000</td>\n",
              "      <td>-4.000000</td>\n",
              "      <td>-1.000000</td>\n",
              "      <td>-2.000000</td>\n",
              "      <td>-2.000000</td>\n",
              "      <td>0.000000</td>\n",
              "    </tr>\n",
              "    <tr>\n",
              "      <th>25%</th>\n",
              "      <td>506.000000</td>\n",
              "      <td>717.37500</td>\n",
              "      <td>891.000000</td>\n",
              "      <td>865.000000</td>\n",
              "      <td>957.000000</td>\n",
              "      <td>950.000000</td>\n",
              "      <td>931.000000</td>\n",
              "      <td>962.000000</td>\n",
              "      <td>960.000000</td>\n",
              "      <td>632.500000</td>\n",
              "      <td>...</td>\n",
              "      <td>-2.000000</td>\n",
              "      <td>0.000000</td>\n",
              "      <td>1.000000</td>\n",
              "      <td>0.500000</td>\n",
              "      <td>4.500000</td>\n",
              "      <td>1.000000</td>\n",
              "      <td>1.000000</td>\n",
              "      <td>-1.000000</td>\n",
              "      <td>0.000000</td>\n",
              "      <td>30.750000</td>\n",
              "    </tr>\n",
              "    <tr>\n",
              "      <th>50%</th>\n",
              "      <td>693.000000</td>\n",
              "      <td>825.00000</td>\n",
              "      <td>931.000000</td>\n",
              "      <td>925.000000</td>\n",
              "      <td>961.000000</td>\n",
              "      <td>951.000000</td>\n",
              "      <td>958.000000</td>\n",
              "      <td>964.000000</td>\n",
              "      <td>960.000000</td>\n",
              "      <td>839.500000</td>\n",
              "      <td>...</td>\n",
              "      <td>63.000000</td>\n",
              "      <td>865.000000</td>\n",
              "      <td>968.000000</td>\n",
              "      <td>954.000000</td>\n",
              "      <td>924.250000</td>\n",
              "      <td>771.000000</td>\n",
              "      <td>696.000000</td>\n",
              "      <td>928.000000</td>\n",
              "      <td>503.250000</td>\n",
              "      <td>62.000000</td>\n",
              "    </tr>\n",
              "    <tr>\n",
              "      <th>75%</th>\n",
              "      <td>863.500000</td>\n",
              "      <td>843.00000</td>\n",
              "      <td>933.000000</td>\n",
              "      <td>932.000000</td>\n",
              "      <td>963.000000</td>\n",
              "      <td>953.000000</td>\n",
              "      <td>962.000000</td>\n",
              "      <td>965.000000</td>\n",
              "      <td>960.000000</td>\n",
              "      <td>949.000000</td>\n",
              "      <td>...</td>\n",
              "      <td>918.000000</td>\n",
              "      <td>910.000000</td>\n",
              "      <td>970.000000</td>\n",
              "      <td>956.000000</td>\n",
              "      <td>954.000000</td>\n",
              "      <td>861.000000</td>\n",
              "      <td>922.000000</td>\n",
              "      <td>933.000000</td>\n",
              "      <td>928.000000</td>\n",
              "      <td>98.000000</td>\n",
              "    </tr>\n",
              "    <tr>\n",
              "      <th>max</th>\n",
              "      <td>933.000000</td>\n",
              "      <td>845.00000</td>\n",
              "      <td>935.500000</td>\n",
              "      <td>934.000000</td>\n",
              "      <td>964.000000</td>\n",
              "      <td>955.000000</td>\n",
              "      <td>963.000000</td>\n",
              "      <td>965.000000</td>\n",
              "      <td>961.000000</td>\n",
              "      <td>959.000000</td>\n",
              "      <td>...</td>\n",
              "      <td>919.000000</td>\n",
              "      <td>917.000000</td>\n",
              "      <td>979.000000</td>\n",
              "      <td>960.000000</td>\n",
              "      <td>955.000000</td>\n",
              "      <td>864.000000</td>\n",
              "      <td>930.000000</td>\n",
              "      <td>933.000000</td>\n",
              "      <td>940.000000</td>\n",
              "      <td>135.000000</td>\n",
              "    </tr>\n",
              "  </tbody>\n",
              "</table>\n",
              "<p>8 rows × 82 columns</p>\n",
              "</div>\n",
              "    <div class=\"colab-df-buttons\">\n",
              "\n",
              "  <div class=\"colab-df-container\">\n",
              "    <button class=\"colab-df-convert\" onclick=\"convertToInteractive('df-573858ba-9104-4a75-9259-4d054acfa24f')\"\n",
              "            title=\"Convert this dataframe to an interactive table.\"\n",
              "            style=\"display:none;\">\n",
              "\n",
              "  <svg xmlns=\"http://www.w3.org/2000/svg\" height=\"24px\" viewBox=\"0 -960 960 960\">\n",
              "    <path d=\"M120-120v-720h720v720H120Zm60-500h600v-160H180v160Zm220 220h160v-160H400v160Zm0 220h160v-160H400v160ZM180-400h160v-160H180v160Zm440 0h160v-160H620v160ZM180-180h160v-160H180v160Zm440 0h160v-160H620v160Z\"/>\n",
              "  </svg>\n",
              "    </button>\n",
              "\n",
              "  <style>\n",
              "    .colab-df-container {\n",
              "      display:flex;\n",
              "      gap: 12px;\n",
              "    }\n",
              "\n",
              "    .colab-df-convert {\n",
              "      background-color: #E8F0FE;\n",
              "      border: none;\n",
              "      border-radius: 50%;\n",
              "      cursor: pointer;\n",
              "      display: none;\n",
              "      fill: #1967D2;\n",
              "      height: 32px;\n",
              "      padding: 0 0 0 0;\n",
              "      width: 32px;\n",
              "    }\n",
              "\n",
              "    .colab-df-convert:hover {\n",
              "      background-color: #E2EBFA;\n",
              "      box-shadow: 0px 1px 2px rgba(60, 64, 67, 0.3), 0px 1px 3px 1px rgba(60, 64, 67, 0.15);\n",
              "      fill: #174EA6;\n",
              "    }\n",
              "\n",
              "    .colab-df-buttons div {\n",
              "      margin-bottom: 4px;\n",
              "    }\n",
              "\n",
              "    [theme=dark] .colab-df-convert {\n",
              "      background-color: #3B4455;\n",
              "      fill: #D2E3FC;\n",
              "    }\n",
              "\n",
              "    [theme=dark] .colab-df-convert:hover {\n",
              "      background-color: #434B5C;\n",
              "      box-shadow: 0px 1px 3px 1px rgba(0, 0, 0, 0.15);\n",
              "      filter: drop-shadow(0px 1px 2px rgba(0, 0, 0, 0.3));\n",
              "      fill: #FFFFFF;\n",
              "    }\n",
              "  </style>\n",
              "\n",
              "    <script>\n",
              "      const buttonEl =\n",
              "        document.querySelector('#df-573858ba-9104-4a75-9259-4d054acfa24f button.colab-df-convert');\n",
              "      buttonEl.style.display =\n",
              "        google.colab.kernel.accessAllowed ? 'block' : 'none';\n",
              "\n",
              "      async function convertToInteractive(key) {\n",
              "        const element = document.querySelector('#df-573858ba-9104-4a75-9259-4d054acfa24f');\n",
              "        const dataTable =\n",
              "          await google.colab.kernel.invokeFunction('convertToInteractive',\n",
              "                                                    [key], {});\n",
              "        if (!dataTable) return;\n",
              "\n",
              "        const docLinkHtml = 'Like what you see? Visit the ' +\n",
              "          '<a target=\"_blank\" href=https://colab.research.google.com/notebooks/data_table.ipynb>data table notebook</a>'\n",
              "          + ' to learn more about interactive tables.';\n",
              "        element.innerHTML = '';\n",
              "        dataTable['output_type'] = 'display_data';\n",
              "        await google.colab.output.renderOutput(dataTable, element);\n",
              "        const docLink = document.createElement('div');\n",
              "        docLink.innerHTML = docLinkHtml;\n",
              "        element.appendChild(docLink);\n",
              "      }\n",
              "    </script>\n",
              "  </div>\n",
              "\n",
              "\n",
              "<div id=\"df-a43ce4e2-6aac-4e28-8970-d74e7e34c1ed\">\n",
              "  <button class=\"colab-df-quickchart\" onclick=\"quickchart('df-a43ce4e2-6aac-4e28-8970-d74e7e34c1ed')\"\n",
              "            title=\"Suggest charts\"\n",
              "            style=\"display:none;\">\n",
              "\n",
              "<svg xmlns=\"http://www.w3.org/2000/svg\" height=\"24px\"viewBox=\"0 0 24 24\"\n",
              "     width=\"24px\">\n",
              "    <g>\n",
              "        <path d=\"M19 3H5c-1.1 0-2 .9-2 2v14c0 1.1.9 2 2 2h14c1.1 0 2-.9 2-2V5c0-1.1-.9-2-2-2zM9 17H7v-7h2v7zm4 0h-2V7h2v10zm4 0h-2v-4h2v4z\"/>\n",
              "    </g>\n",
              "</svg>\n",
              "  </button>\n",
              "\n",
              "<style>\n",
              "  .colab-df-quickchart {\n",
              "      --bg-color: #E8F0FE;\n",
              "      --fill-color: #1967D2;\n",
              "      --hover-bg-color: #E2EBFA;\n",
              "      --hover-fill-color: #174EA6;\n",
              "      --disabled-fill-color: #AAA;\n",
              "      --disabled-bg-color: #DDD;\n",
              "  }\n",
              "\n",
              "  [theme=dark] .colab-df-quickchart {\n",
              "      --bg-color: #3B4455;\n",
              "      --fill-color: #D2E3FC;\n",
              "      --hover-bg-color: #434B5C;\n",
              "      --hover-fill-color: #FFFFFF;\n",
              "      --disabled-bg-color: #3B4455;\n",
              "      --disabled-fill-color: #666;\n",
              "  }\n",
              "\n",
              "  .colab-df-quickchart {\n",
              "    background-color: var(--bg-color);\n",
              "    border: none;\n",
              "    border-radius: 50%;\n",
              "    cursor: pointer;\n",
              "    display: none;\n",
              "    fill: var(--fill-color);\n",
              "    height: 32px;\n",
              "    padding: 0;\n",
              "    width: 32px;\n",
              "  }\n",
              "\n",
              "  .colab-df-quickchart:hover {\n",
              "    background-color: var(--hover-bg-color);\n",
              "    box-shadow: 0 1px 2px rgba(60, 64, 67, 0.3), 0 1px 3px 1px rgba(60, 64, 67, 0.15);\n",
              "    fill: var(--button-hover-fill-color);\n",
              "  }\n",
              "\n",
              "  .colab-df-quickchart-complete:disabled,\n",
              "  .colab-df-quickchart-complete:disabled:hover {\n",
              "    background-color: var(--disabled-bg-color);\n",
              "    fill: var(--disabled-fill-color);\n",
              "    box-shadow: none;\n",
              "  }\n",
              "\n",
              "  .colab-df-spinner {\n",
              "    border: 2px solid var(--fill-color);\n",
              "    border-color: transparent;\n",
              "    border-bottom-color: var(--fill-color);\n",
              "    animation:\n",
              "      spin 1s steps(1) infinite;\n",
              "  }\n",
              "\n",
              "  @keyframes spin {\n",
              "    0% {\n",
              "      border-color: transparent;\n",
              "      border-bottom-color: var(--fill-color);\n",
              "      border-left-color: var(--fill-color);\n",
              "    }\n",
              "    20% {\n",
              "      border-color: transparent;\n",
              "      border-left-color: var(--fill-color);\n",
              "      border-top-color: var(--fill-color);\n",
              "    }\n",
              "    30% {\n",
              "      border-color: transparent;\n",
              "      border-left-color: var(--fill-color);\n",
              "      border-top-color: var(--fill-color);\n",
              "      border-right-color: var(--fill-color);\n",
              "    }\n",
              "    40% {\n",
              "      border-color: transparent;\n",
              "      border-right-color: var(--fill-color);\n",
              "      border-top-color: var(--fill-color);\n",
              "    }\n",
              "    60% {\n",
              "      border-color: transparent;\n",
              "      border-right-color: var(--fill-color);\n",
              "    }\n",
              "    80% {\n",
              "      border-color: transparent;\n",
              "      border-right-color: var(--fill-color);\n",
              "      border-bottom-color: var(--fill-color);\n",
              "    }\n",
              "    90% {\n",
              "      border-color: transparent;\n",
              "      border-bottom-color: var(--fill-color);\n",
              "    }\n",
              "  }\n",
              "</style>\n",
              "\n",
              "  <script>\n",
              "    async function quickchart(key) {\n",
              "      const quickchartButtonEl =\n",
              "        document.querySelector('#' + key + ' button');\n",
              "      quickchartButtonEl.disabled = true;  // To prevent multiple clicks.\n",
              "      quickchartButtonEl.classList.add('colab-df-spinner');\n",
              "      try {\n",
              "        const charts = await google.colab.kernel.invokeFunction(\n",
              "            'suggestCharts', [key], {});\n",
              "      } catch (error) {\n",
              "        console.error('Error during call to suggestCharts:', error);\n",
              "      }\n",
              "      quickchartButtonEl.classList.remove('colab-df-spinner');\n",
              "      quickchartButtonEl.classList.add('colab-df-quickchart-complete');\n",
              "    }\n",
              "    (() => {\n",
              "      let quickchartButtonEl =\n",
              "        document.querySelector('#df-a43ce4e2-6aac-4e28-8970-d74e7e34c1ed button');\n",
              "      quickchartButtonEl.style.display =\n",
              "        google.colab.kernel.accessAllowed ? 'block' : 'none';\n",
              "    })();\n",
              "  </script>\n",
              "</div>\n",
              "    </div>\n",
              "  </div>\n"
            ],
            "application/vnd.google.colaboratory.intrinsic+json": {
              "type": "dataframe"
            }
          },
          "metadata": {},
          "execution_count": 8
        }
      ]
    },
    {
      "cell_type": "markdown",
      "id": "9c3cf80c-4ca6-430e-92e7-fca918beaf7e",
      "metadata": {
        "id": "9c3cf80c-4ca6-430e-92e7-fca918beaf7e"
      },
      "source": [
        "# Import files for regression"
      ]
    },
    {
      "cell_type": "code",
      "execution_count": 81,
      "id": "95fdbc22-4589-45c1-a453-ab73087360c4",
      "metadata": {
        "colab": {
          "base_uri": "https://localhost:8080/",
          "height": 560
        },
        "id": "95fdbc22-4589-45c1-a453-ab73087360c4",
        "outputId": "9308dfad-d73a-4b27-8413-8e323cf95145"
      },
      "outputs": [
        {
          "output_type": "stream",
          "name": "stdout",
          "text": [
            "Index(['0', 'greyscale_value_0'], dtype='object')\n"
          ]
        },
        {
          "output_type": "display_data",
          "data": {
            "text/html": [
              "<html>\n",
              "<head><meta charset=\"utf-8\" /></head>\n",
              "<body>\n",
              "    <div>            <script src=\"https://cdnjs.cloudflare.com/ajax/libs/mathjax/2.7.5/MathJax.js?config=TeX-AMS-MML_SVG\"></script><script type=\"text/javascript\">if (window.MathJax && window.MathJax.Hub && window.MathJax.Hub.Config) {window.MathJax.Hub.Config({SVG: {font: \"STIX-Web\"}});}</script>                <script type=\"text/javascript\">window.PlotlyConfig = {MathJaxConfig: 'local'};</script>\n",
              "        <script charset=\"utf-8\" src=\"https://cdn.plot.ly/plotly-2.24.1.min.js\"></script>                <div id=\"20764b2d-2ca6-4491-8e80-bf5c387cfa55\" class=\"plotly-graph-div\" style=\"height:525px; width:100%;\"></div>            <script type=\"text/javascript\">                                    window.PLOTLYENV=window.PLOTLYENV || {};                                    if (document.getElementById(\"20764b2d-2ca6-4491-8e80-bf5c387cfa55\")) {                    Plotly.newPlot(                        \"20764b2d-2ca6-4491-8e80-bf5c387cfa55\",                        [{\"mode\":\"markers\",\"x\":[350.5,351.0,350.0,349.5,350.5,349.5,350.0,331.0,331.5,332.0,332.0,328.5,328.5,328.5,327.5,327.5,343.0,343.0,343.0,343.0,343.0,303.0,304.0,304.0,305.0,305.0,309.0,309.5,309.5,310.0,310.0,303.0,303.0,303.0,304.0,304.0,326.5,327.0,327.0,327.0,326.5,318.5,317.5,318.0,318.0,326.0,326.0,326.0,326.0,325.5,326.0,326.0,352.0,352.0,352.5,417.0,417.0,417.0,416.5,416.5,391.0,391.0,391.0,391.0,390.5,391.0,401.0,401.0,400.5,400.5,419.0,419.0,418.5,417.5,418.0,417.5,417.5,433.5,433.0,433.5,434.0,434.0,433.5,431.5,431.5,431.5,431.5,432.0,433.0,432.5,433.0,421.5,421.5,422.5,423.0,423.0,442.0,442.0,442.0,442.0,451.0,451.0,450.5,451.0,451.0,450.5,463.0,463.0,464.0,464.5,465.0,465.0,465.0,465.0,464.5,464.5,459.5,459.5,459.0,459.0,459.5,434.5,434.5,435.0,435.0,434.5,435.0,434.5,438.0,438.0,437.5,438.0,437.5,437.5,436.5,446.0,446.0,446.0,446.0,446.0,446.0,446.0,446.0,486.0,486.5,487.0,487.0,486.5,486.5,468.0,468.0,467.5,467.5,467.5,467.5,486.5,486.5,486.0,486.0,486.0,496.0,496.0,496.0,496.0,496.0,496.0,496.0,484.0,483.5,483.0,483.0,483.0,515.0,515.0,515.5,515.5,515.0,515.0,530.0,530.0,530.0,530.0,530.0,530.0,530.0,530.0,530.0,530.0,506.5,506.0,506.5,507.0,529.0,529.0,529.5,529.5,529.5,518.5,518.0,518.5,519.0,519.0,519.0,519.0,506.0,505.5,505.5,506.0,506.0,505.5,520.0,520.0,520.0,520.0,508.0,508.0,508.0,509.0,509.0,510.0,510.0,509.5,508.5,508.5,512.0,512.0,512.0,512.0,512.0,511.5,510.5,510.0,510.0,531.5,531.5,531.0,531.0,530.5,530.5,548.5,548.5,548.0,548.0,548.0,548.0,548.5,579.5,578.5,578.5,578.5,579.0,578.5,605.5,605.5,605.5,555.5,555.5,556.5,557.0,557.5,557.0,577.0,576.0,577.0,577.0,577.0,576.5,576.5,588.0,587.5,587.5,587.0,587.5,587.5,595.0,594.0,594.0,594.0,595.0,594.0,594.0,595.0,602.5,602.5,602.5,603.0,603.0,603.0,616.5,616.0,616.0,616.0,616.0,620.5,620.5,620.5,620.5,621.5,620.5,620.0,643.5,644.0,644.0,644.0,633.5,633.5,633.0,633.0,633.5,632.5,617.5,618.5,618.5,618.5,619.0,619.5,619.0,608.0,608.0,609.0,639.0,639.0,639.0,669.5,669.5,670.0,669.5,669.5,690.0,689.5,688.0,688.0,693.0,693.0,692.5,692.5,692.5,692.5,692.5,669.0,669.0,668.0,668.0,667.0,666.5,684.0,684.5,685.0,685.0,680.0,680.0,680.0,680.5,696.0,696.0,696.0,696.0,696.0,696.0,696.0,694.0,694.5,694.0,694.0,694.5,695.0,695.0,695.0,695.0,715.0,715.0,715.0,714.5,727.0,727.0,728.0,728.0,729.0,732.0,732.0,732.0,732.0,732.0,744.0,744.0,744.0,744.0,744.0,711.0,711.0,711.0,711.5,711.5,692.5,692.5,692.0,691.5,724.0,724.0,724.5,724.5,725.0,725.0,707.0,707.0,707.0,707.0,707.0,739.0,739.0,739.5,739.5,745.0,745.0,744.0,745.0,745.0,749.0,749.5,750.0,750.0,750.0,741.5,741.5,741.5,741.5,744.0,744.0,744.0,744.0,744.0,761.0,761.0,762.5,761.5,761.5,763.0,763.0,763.0,763.0,763.0,781.0,781.0,780.5,780.5,780.0,878.5,878.5,878.5,878.5,878.5,811.5,811.5,811.5,812.5,812.0,788.0,788.0,788.0,788.5,794.0,794.0,794.0,796.5,794.0,794.0,818.5,818.5,818.5,818.5,819.0,796.5,797.0,796.5,797.0,797.0,786.0,786.0,786.5,786.0,786.5,795.5,796.0,796.0,796.0,799.0,799.0,799.0,799.0,791.0,791.0,810.0,810.5,810.5,810.5,790.5,791.5,790.5,790.0,808.5,808.0,808.0,807.0,815.0,815.0,814.5,813.5,813.5,835.5,835.5,835.5,836.0,836.0,816.0,816.0,816.0,816.0,816.0,826.0,825.0,826.0,827.0,840.0,840.0,840.0,881.0,881.0,881.0,881.0,881.5,863.5,863.5,863.0,863.5,863.5,864.5,864.5,864.5,864.5,864.5,882.0,886.0,882.0,882.0,836.0,836.5,837.0,837.5,865.0,865.0,863.0,863.0,863.5,864.5,863.5,863.5,859.0,859.0,859.0,859.0,859.0,880.0,880.0,873.0,873.0,881.0,876.5,876.5,876.5,876.5,904.5,905.0,910.5,910.5,905.0,891.0,890.0,890.0,890.0,904.0,904.0,904.0,904.5,904.5,896.5,897.0,897.0,897.0,897.0,912.0,912.0,910.0,910.0,910.0,909.5,906.0,905.5,905.0,905.5,905.0,919.0,919.5,919.5,920.0,924.0,926.0,926.0,924.0,924.0,925.0,922.5,925.0,923.0,923.0,920.0,920.5,921.0,921.0,921.0,911.5,914.0,914.5,910.5,910.5,911.5,911.5,913.5,913.0,913.5,913.5,913.5,913.5,919.5,920.5,919.5,920.0,921.5,921.0,921.0,921.0,921.0,916.0,913.5,913.5,913.5,913.5,926.0,923.5,920.5,921.0,928.0,929.0,929.0,929.0,929.0,929.0,929.0,928.5,929.0,929.0,931.0,931.0,931.0,931.0,931.0,928.0,928.0,928.0,928.0,928.0,930.0,930.0,930.0,930.0,930.0,930.5,931.0,931.0,931.0,931.0,931.0,931.0,931.0,931.0,931.0,931.0,931.0,931.5,931.0,930.5,930.0,930.5,930.0,930.0,930.0,933.0,933.0,933.0,933.0,931.0,930.5,930.5,930.5,931.0,931.0,931.0,931.5,932.0,931.0,931.0,931.0,931.0],\"y\":[0,0,0,0,0,0,0,1,1,1,1,2,2,2,2,2,3,3,3,3,3,4,4,4,4,4,5,5,5,5,5,6,6,6,6,6,7,7,7,7,7,8,8,8,8,9,9,9,9,9,9,9,10,10,10,11,11,11,11,11,12,12,12,12,12,12,13,13,13,13,14,14,14,14,14,14,14,15,15,15,15,15,15,16,16,16,16,16,16,16,16,17,17,17,17,17,18,18,18,18,19,19,19,19,19,19,20,20,20,20,20,20,20,20,20,20,21,21,21,21,21,22,22,22,22,22,22,22,23,23,23,23,23,23,23,24,24,24,24,24,24,24,24,25,25,25,25,25,25,26,26,26,26,26,26,27,27,27,27,27,28,28,28,28,28,28,28,29,29,29,29,29,30,30,30,30,30,30,31,31,31,31,31,31,31,31,31,31,32,32,32,32,33,33,33,33,33,34,34,34,34,34,34,34,35,35,35,35,35,35,36,36,36,36,37,37,37,37,37,37,37,37,37,37,38,38,38,39,39,39,39,39,39,40,40,40,40,40,40,41,41,41,41,41,41,41,42,42,42,42,42,42,43,43,43,44,44,44,44,44,44,45,45,45,45,45,45,45,46,46,46,46,46,46,47,47,47,47,47,47,47,47,48,48,48,48,48,48,49,49,49,49,49,50,50,50,50,50,50,50,51,51,51,51,52,52,52,52,52,52,53,53,53,53,53,53,53,54,54,54,55,55,55,56,56,56,56,56,57,57,57,57,58,58,58,58,58,58,58,59,59,59,59,59,59,60,60,60,60,61,61,61,61,62,62,62,62,62,62,62,63,63,63,63,63,63,63,63,63,64,64,64,64,65,65,65,65,65,66,66,66,66,66,67,67,67,67,67,68,68,68,68,68,69,69,69,69,70,70,70,70,70,70,71,71,71,71,71,72,72,72,72,73,73,73,73,73,74,74,74,74,74,75,75,75,75,76,76,76,76,76,77,77,77,77,77,78,78,78,78,78,79,79,79,79,79,80,80,80,80,80,81,81,81,81,81,82,82,82,82,83,83,83,83,83,83,84,84,84,84,84,85,85,85,85,85,86,86,86,86,86,87,87,87,87,88,88,88,88,88,88,89,89,89,89,90,90,90,90,91,91,91,91,92,92,92,92,92,93,93,93,93,93,94,94,94,94,94,95,95,95,95,96,96,96,97,97,97,97,97,98,98,98,98,98,99,99,99,99,99,100,100,100,100,101,101,101,101,102,102,102,102,103,103,103,103,104,104,104,104,104,105,105,105,105,105,106,106,106,106,107,107,107,107,107,108,108,108,108,109,109,109,109,109,110,110,110,110,110,111,111,111,111,111,111,112,112,112,112,112,113,113,113,113,114,114,114,114,114,115,115,115,115,115,116,116,116,116,116,117,117,117,118,118,118,118,119,119,119,119,119,119,120,120,120,120,121,121,121,121,121,122,122,122,122,122,123,123,123,123,124,124,124,124,124,125,125,125,125,125,126,126,126,126,126,127,127,127,127,127,128,128,128,128,128,129,129,129,129,129,129,130,130,130,130,130,131,131,131,131,131,131,131,131,131,132,132,132,132,133,133,133,133,134,134,134,134,134,135,135,135,135],\"type\":\"scatter\"}],                        {\"template\":{\"data\":{\"histogram2dcontour\":[{\"type\":\"histogram2dcontour\",\"colorbar\":{\"outlinewidth\":0,\"ticks\":\"\"},\"colorscale\":[[0.0,\"#0d0887\"],[0.1111111111111111,\"#46039f\"],[0.2222222222222222,\"#7201a8\"],[0.3333333333333333,\"#9c179e\"],[0.4444444444444444,\"#bd3786\"],[0.5555555555555556,\"#d8576b\"],[0.6666666666666666,\"#ed7953\"],[0.7777777777777778,\"#fb9f3a\"],[0.8888888888888888,\"#fdca26\"],[1.0,\"#f0f921\"]]}],\"choropleth\":[{\"type\":\"choropleth\",\"colorbar\":{\"outlinewidth\":0,\"ticks\":\"\"}}],\"histogram2d\":[{\"type\":\"histogram2d\",\"colorbar\":{\"outlinewidth\":0,\"ticks\":\"\"},\"colorscale\":[[0.0,\"#0d0887\"],[0.1111111111111111,\"#46039f\"],[0.2222222222222222,\"#7201a8\"],[0.3333333333333333,\"#9c179e\"],[0.4444444444444444,\"#bd3786\"],[0.5555555555555556,\"#d8576b\"],[0.6666666666666666,\"#ed7953\"],[0.7777777777777778,\"#fb9f3a\"],[0.8888888888888888,\"#fdca26\"],[1.0,\"#f0f921\"]]}],\"heatmap\":[{\"type\":\"heatmap\",\"colorbar\":{\"outlinewidth\":0,\"ticks\":\"\"},\"colorscale\":[[0.0,\"#0d0887\"],[0.1111111111111111,\"#46039f\"],[0.2222222222222222,\"#7201a8\"],[0.3333333333333333,\"#9c179e\"],[0.4444444444444444,\"#bd3786\"],[0.5555555555555556,\"#d8576b\"],[0.6666666666666666,\"#ed7953\"],[0.7777777777777778,\"#fb9f3a\"],[0.8888888888888888,\"#fdca26\"],[1.0,\"#f0f921\"]]}],\"heatmapgl\":[{\"type\":\"heatmapgl\",\"colorbar\":{\"outlinewidth\":0,\"ticks\":\"\"},\"colorscale\":[[0.0,\"#0d0887\"],[0.1111111111111111,\"#46039f\"],[0.2222222222222222,\"#7201a8\"],[0.3333333333333333,\"#9c179e\"],[0.4444444444444444,\"#bd3786\"],[0.5555555555555556,\"#d8576b\"],[0.6666666666666666,\"#ed7953\"],[0.7777777777777778,\"#fb9f3a\"],[0.8888888888888888,\"#fdca26\"],[1.0,\"#f0f921\"]]}],\"contourcarpet\":[{\"type\":\"contourcarpet\",\"colorbar\":{\"outlinewidth\":0,\"ticks\":\"\"}}],\"contour\":[{\"type\":\"contour\",\"colorbar\":{\"outlinewidth\":0,\"ticks\":\"\"},\"colorscale\":[[0.0,\"#0d0887\"],[0.1111111111111111,\"#46039f\"],[0.2222222222222222,\"#7201a8\"],[0.3333333333333333,\"#9c179e\"],[0.4444444444444444,\"#bd3786\"],[0.5555555555555556,\"#d8576b\"],[0.6666666666666666,\"#ed7953\"],[0.7777777777777778,\"#fb9f3a\"],[0.8888888888888888,\"#fdca26\"],[1.0,\"#f0f921\"]]}],\"surface\":[{\"type\":\"surface\",\"colorbar\":{\"outlinewidth\":0,\"ticks\":\"\"},\"colorscale\":[[0.0,\"#0d0887\"],[0.1111111111111111,\"#46039f\"],[0.2222222222222222,\"#7201a8\"],[0.3333333333333333,\"#9c179e\"],[0.4444444444444444,\"#bd3786\"],[0.5555555555555556,\"#d8576b\"],[0.6666666666666666,\"#ed7953\"],[0.7777777777777778,\"#fb9f3a\"],[0.8888888888888888,\"#fdca26\"],[1.0,\"#f0f921\"]]}],\"mesh3d\":[{\"type\":\"mesh3d\",\"colorbar\":{\"outlinewidth\":0,\"ticks\":\"\"}}],\"scatter\":[{\"fillpattern\":{\"fillmode\":\"overlay\",\"size\":10,\"solidity\":0.2},\"type\":\"scatter\"}],\"parcoords\":[{\"type\":\"parcoords\",\"line\":{\"colorbar\":{\"outlinewidth\":0,\"ticks\":\"\"}}}],\"scatterpolargl\":[{\"type\":\"scatterpolargl\",\"marker\":{\"colorbar\":{\"outlinewidth\":0,\"ticks\":\"\"}}}],\"bar\":[{\"error_x\":{\"color\":\"#2a3f5f\"},\"error_y\":{\"color\":\"#2a3f5f\"},\"marker\":{\"line\":{\"color\":\"#E5ECF6\",\"width\":0.5},\"pattern\":{\"fillmode\":\"overlay\",\"size\":10,\"solidity\":0.2}},\"type\":\"bar\"}],\"scattergeo\":[{\"type\":\"scattergeo\",\"marker\":{\"colorbar\":{\"outlinewidth\":0,\"ticks\":\"\"}}}],\"scatterpolar\":[{\"type\":\"scatterpolar\",\"marker\":{\"colorbar\":{\"outlinewidth\":0,\"ticks\":\"\"}}}],\"histogram\":[{\"marker\":{\"pattern\":{\"fillmode\":\"overlay\",\"size\":10,\"solidity\":0.2}},\"type\":\"histogram\"}],\"scattergl\":[{\"type\":\"scattergl\",\"marker\":{\"colorbar\":{\"outlinewidth\":0,\"ticks\":\"\"}}}],\"scatter3d\":[{\"type\":\"scatter3d\",\"line\":{\"colorbar\":{\"outlinewidth\":0,\"ticks\":\"\"}},\"marker\":{\"colorbar\":{\"outlinewidth\":0,\"ticks\":\"\"}}}],\"scattermapbox\":[{\"type\":\"scattermapbox\",\"marker\":{\"colorbar\":{\"outlinewidth\":0,\"ticks\":\"\"}}}],\"scatterternary\":[{\"type\":\"scatterternary\",\"marker\":{\"colorbar\":{\"outlinewidth\":0,\"ticks\":\"\"}}}],\"scattercarpet\":[{\"type\":\"scattercarpet\",\"marker\":{\"colorbar\":{\"outlinewidth\":0,\"ticks\":\"\"}}}],\"carpet\":[{\"aaxis\":{\"endlinecolor\":\"#2a3f5f\",\"gridcolor\":\"white\",\"linecolor\":\"white\",\"minorgridcolor\":\"white\",\"startlinecolor\":\"#2a3f5f\"},\"baxis\":{\"endlinecolor\":\"#2a3f5f\",\"gridcolor\":\"white\",\"linecolor\":\"white\",\"minorgridcolor\":\"white\",\"startlinecolor\":\"#2a3f5f\"},\"type\":\"carpet\"}],\"table\":[{\"cells\":{\"fill\":{\"color\":\"#EBF0F8\"},\"line\":{\"color\":\"white\"}},\"header\":{\"fill\":{\"color\":\"#C8D4E3\"},\"line\":{\"color\":\"white\"}},\"type\":\"table\"}],\"barpolar\":[{\"marker\":{\"line\":{\"color\":\"#E5ECF6\",\"width\":0.5},\"pattern\":{\"fillmode\":\"overlay\",\"size\":10,\"solidity\":0.2}},\"type\":\"barpolar\"}],\"pie\":[{\"automargin\":true,\"type\":\"pie\"}]},\"layout\":{\"autotypenumbers\":\"strict\",\"colorway\":[\"#636efa\",\"#EF553B\",\"#00cc96\",\"#ab63fa\",\"#FFA15A\",\"#19d3f3\",\"#FF6692\",\"#B6E880\",\"#FF97FF\",\"#FECB52\"],\"font\":{\"color\":\"#2a3f5f\"},\"hovermode\":\"closest\",\"hoverlabel\":{\"align\":\"left\"},\"paper_bgcolor\":\"white\",\"plot_bgcolor\":\"#E5ECF6\",\"polar\":{\"bgcolor\":\"#E5ECF6\",\"angularaxis\":{\"gridcolor\":\"white\",\"linecolor\":\"white\",\"ticks\":\"\"},\"radialaxis\":{\"gridcolor\":\"white\",\"linecolor\":\"white\",\"ticks\":\"\"}},\"ternary\":{\"bgcolor\":\"#E5ECF6\",\"aaxis\":{\"gridcolor\":\"white\",\"linecolor\":\"white\",\"ticks\":\"\"},\"baxis\":{\"gridcolor\":\"white\",\"linecolor\":\"white\",\"ticks\":\"\"},\"caxis\":{\"gridcolor\":\"white\",\"linecolor\":\"white\",\"ticks\":\"\"}},\"coloraxis\":{\"colorbar\":{\"outlinewidth\":0,\"ticks\":\"\"}},\"colorscale\":{\"sequential\":[[0.0,\"#0d0887\"],[0.1111111111111111,\"#46039f\"],[0.2222222222222222,\"#7201a8\"],[0.3333333333333333,\"#9c179e\"],[0.4444444444444444,\"#bd3786\"],[0.5555555555555556,\"#d8576b\"],[0.6666666666666666,\"#ed7953\"],[0.7777777777777778,\"#fb9f3a\"],[0.8888888888888888,\"#fdca26\"],[1.0,\"#f0f921\"]],\"sequentialminus\":[[0.0,\"#0d0887\"],[0.1111111111111111,\"#46039f\"],[0.2222222222222222,\"#7201a8\"],[0.3333333333333333,\"#9c179e\"],[0.4444444444444444,\"#bd3786\"],[0.5555555555555556,\"#d8576b\"],[0.6666666666666666,\"#ed7953\"],[0.7777777777777778,\"#fb9f3a\"],[0.8888888888888888,\"#fdca26\"],[1.0,\"#f0f921\"]],\"diverging\":[[0,\"#8e0152\"],[0.1,\"#c51b7d\"],[0.2,\"#de77ae\"],[0.3,\"#f1b6da\"],[0.4,\"#fde0ef\"],[0.5,\"#f7f7f7\"],[0.6,\"#e6f5d0\"],[0.7,\"#b8e186\"],[0.8,\"#7fbc41\"],[0.9,\"#4d9221\"],[1,\"#276419\"]]},\"xaxis\":{\"gridcolor\":\"white\",\"linecolor\":\"white\",\"ticks\":\"\",\"title\":{\"standoff\":15},\"zerolinecolor\":\"white\",\"automargin\":true,\"zerolinewidth\":2},\"yaxis\":{\"gridcolor\":\"white\",\"linecolor\":\"white\",\"ticks\":\"\",\"title\":{\"standoff\":15},\"zerolinecolor\":\"white\",\"automargin\":true,\"zerolinewidth\":2},\"scene\":{\"xaxis\":{\"backgroundcolor\":\"#E5ECF6\",\"gridcolor\":\"white\",\"linecolor\":\"white\",\"showbackground\":true,\"ticks\":\"\",\"zerolinecolor\":\"white\",\"gridwidth\":2},\"yaxis\":{\"backgroundcolor\":\"#E5ECF6\",\"gridcolor\":\"white\",\"linecolor\":\"white\",\"showbackground\":true,\"ticks\":\"\",\"zerolinecolor\":\"white\",\"gridwidth\":2},\"zaxis\":{\"backgroundcolor\":\"#E5ECF6\",\"gridcolor\":\"white\",\"linecolor\":\"white\",\"showbackground\":true,\"ticks\":\"\",\"zerolinecolor\":\"white\",\"gridwidth\":2}},\"shapedefaults\":{\"line\":{\"color\":\"#2a3f5f\"}},\"annotationdefaults\":{\"arrowcolor\":\"#2a3f5f\",\"arrowhead\":0,\"arrowwidth\":1},\"geo\":{\"bgcolor\":\"white\",\"landcolor\":\"#E5ECF6\",\"subunitcolor\":\"white\",\"showland\":true,\"showlakes\":true,\"lakecolor\":\"white\"},\"title\":{\"x\":0.05},\"mapbox\":{\"style\":\"light\"}}},\"title\":{\"text\":\"Sensor nr 0 readings\"},\"xaxis\":{\"title\":{\"text\":\"Raw value\"}},\"yaxis\":{\"title\":{\"text\":\"Greyscale color\"}}},                        {\"responsive\": true}                    ).then(function(){\n",
              "                            \n",
              "var gd = document.getElementById('20764b2d-2ca6-4491-8e80-bf5c387cfa55');\n",
              "var x = new MutationObserver(function (mutations, observer) {{\n",
              "        var display = window.getComputedStyle(gd).display;\n",
              "        if (!display || display === 'none') {{\n",
              "            console.log([gd, 'removed!']);\n",
              "            Plotly.purge(gd);\n",
              "            observer.disconnect();\n",
              "        }}\n",
              "}});\n",
              "\n",
              "// Listen for the removal of the full notebook cells\n",
              "var notebookContainer = gd.closest('#notebook-container');\n",
              "if (notebookContainer) {{\n",
              "    x.observe(notebookContainer, {childList: true});\n",
              "}}\n",
              "\n",
              "// Listen for the clearing of the current output cell\n",
              "var outputEl = gd.closest('.output');\n",
              "if (outputEl) {{\n",
              "    x.observe(outputEl, {childList: true});\n",
              "}}\n",
              "\n",
              "                        })                };                            </script>        </div>\n",
              "</body>\n",
              "</html>"
            ]
          },
          "metadata": {}
        }
      ],
      "source": [
        "df_stones = pd.DataFrame()\n",
        "nr_of_files = 1\n",
        "for file_nr in range(1, nr_of_files + 1):\n",
        "    df = pd.read_csv(f\"Colab_files/black_flat_sensor_grayscale_grid_{file_nr}.csv\", index_col='Unnamed: 0')\n",
        "    df_stones[f\"{str(file_nr-1)}\"] = df[['0']]\n",
        "    df_stones[f\"greyscale_value_{str(file_nr-1)}\"] = df[['greyscale_value']]\n",
        "\n",
        "scatter_plots(df_stones, nr_of_files, 'greyscale_value_0', 'Sensor nr 0 readings', 'Raw value', 'Greyscale color')\n"
      ]
    },
    {
      "cell_type": "markdown",
      "id": "e15ed221-5b83-4fdb-a44d-1e54ada4fded",
      "metadata": {
        "id": "e15ed221-5b83-4fdb-a44d-1e54ada4fded"
      },
      "source": [
        "# Data cleaning"
      ]
    },
    {
      "cell_type": "code",
      "execution_count": 82,
      "id": "e244738c-5462-481e-8b6a-9cebed5dedfc",
      "metadata": {
        "id": "e244738c-5462-481e-8b6a-9cebed5dedfc"
      },
      "outputs": [],
      "source": [
        "# Drop rows where the measurement was done incorrectly\n",
        "df_stones = df_stones[df_stones['greyscale_value_0'] != 80]\n",
        "df_stones = df_stones[df_stones['greyscale_value_0'] != 97]\n",
        "df_stones = df_stones[df_stones['greyscale_value_0'] != 0]"
      ]
    },
    {
      "cell_type": "markdown",
      "id": "f8bfc8c3-3997-40e7-be95-be7523b4e06c",
      "metadata": {
        "id": "f8bfc8c3-3997-40e7-be95-be7523b4e06c"
      },
      "source": [
        "# Data visualization"
      ]
    },
    {
      "cell_type": "code",
      "execution_count": 83,
      "id": "2ab48c29-f700-4590-863f-a9ed3ce606e6",
      "metadata": {
        "id": "2ab48c29-f700-4590-863f-a9ed3ce606e6",
        "outputId": "0323c307-ba06-4613-9621-54d9a48bd985",
        "colab": {
          "base_uri": "https://localhost:8080/",
          "height": 472
        }
      },
      "outputs": [
        {
          "output_type": "display_data",
          "data": {
            "text/plain": [
              "<Figure size 640x480 with 1 Axes>"
            ],
            "image/png": "[encoded data removed]"
          },
          "metadata": {}
        }
      ],
      "source": [
        "sns.scatterplot(x = '0', y = 'greyscale_value_0', data = df_stones);\n",
        "\n",
        "# Set title and axis labels\n",
        "plt.title('Sensor 0 data')\n",
        "plt.xlabel('Sensor reading')\n",
        "plt.ylabel('Grayscale value')\n",
        "\n",
        "# Show the plot\n",
        "plt.show()"
      ]
    },
    {
      "cell_type": "markdown",
      "id": "dedceb74-269a-4167-afac-ae8a29bd5309",
      "metadata": {
        "id": "dedceb74-269a-4167-afac-ae8a29bd5309"
      },
      "source": [
        "# Regression"
      ]
    },
    {
      "cell_type": "code",
      "execution_count": 84,
      "id": "baee0e75-9c6a-4b05-b78d-824e2bcd076c",
      "metadata": {
        "id": "baee0e75-9c6a-4b05-b78d-824e2bcd076c"
      },
      "outputs": [],
      "source": [
        "# Sklearn\n",
        "from sklearn.linear_model import LinearRegression\n",
        "from sklearn.model_selection import train_test_split\n",
        "from sklearn.preprocessing import StandardScaler\n",
        "from sklearn.compose import ColumnTransformer\n",
        "from sklearn.preprocessing import PolynomialFeatures\n",
        "from sklearn.model_selection import GridSearchCV\n",
        "from sklearn.pipeline import Pipeline\n",
        "\n",
        "X = df_stones[['0']]\n",
        "y = df_stones[['greyscale_value_0']]"
      ]
    },
    {
      "cell_type": "markdown",
      "id": "ea5aa8eb-0efb-4d66-a53d-8e2fc8588351",
      "metadata": {
        "id": "ea5aa8eb-0efb-4d66-a53d-8e2fc8588351"
      },
      "source": [
        "## Train, test, validation split"
      ]
    },
    {
      "cell_type": "code",
      "execution_count": 85,
      "id": "a0018358-d076-4021-9257-5a910b691256",
      "metadata": {
        "id": "a0018358-d076-4021-9257-5a910b691256"
      },
      "outputs": [],
      "source": [
        "X_train, X_test, y_train, y_test = train_test_split(X,\n",
        "                                                    y,\n",
        "                                                    test_size=0.2,\n",
        "                                                    random_state=42)"
      ]
    },
    {
      "cell_type": "markdown",
      "id": "1cfeec76-aaea-4c7b-b88f-d4083c64d69a",
      "metadata": {
        "id": "1cfeec76-aaea-4c7b-b88f-d4083c64d69a"
      },
      "source": [
        "## Preprocessing"
      ]
    },
    {
      "cell_type": "markdown",
      "id": "33fb4164-65b5-4dd2-bea0-c1d0962f47da",
      "metadata": {
        "id": "33fb4164-65b5-4dd2-bea0-c1d0962f47da"
      },
      "source": [
        "## Training"
      ]
    },
    {
      "cell_type": "code",
      "execution_count": 86,
      "id": "f51c2811-48fa-44bb-8a7e-d522b13c3f13",
      "metadata": {
        "id": "f51c2811-48fa-44bb-8a7e-d522b13c3f13",
        "outputId": "ea0b9798-866f-4eb7-8be4-60cbb405a07e",
        "colab": {
          "base_uri": "https://localhost:8080/",
          "height": 1000
        }
      },
      "outputs": [
        {
          "output_type": "stream",
          "name": "stdout",
          "text": [
            "Fitting 10 folds for each of 10 candidates, totalling 100 fits\n",
            "[CV 1/10] END poly__degree=0;, score=(train=0.000, test=-0.000) total time=   0.0s\n",
            "[CV 2/10] END poly__degree=0;, score=(train=0.000, test=-0.107) total time=   0.0s\n",
            "[CV 3/10] END poly__degree=0;, score=(train=0.000, test=-0.001) total time=   0.0s\n",
            "[CV 4/10] END poly__degree=0;, score=(train=0.000, test=-0.006) total time=   0.0s\n",
            "[CV 5/10] END poly__degree=0;, score=(train=0.000, test=-0.006) total time=   0.0s\n",
            "[CV 6/10] END poly__degree=0;, score=(train=0.000, test=-0.033) total time=   0.0s\n",
            "[CV 7/10] END poly__degree=0;, score=(train=0.000, test=-0.002) total time=   0.0s\n",
            "[CV 8/10] END poly__degree=0;, score=(train=0.000, test=-0.105) total time=   0.0s\n",
            "[CV 9/10] END poly__degree=0;, score=(train=0.000, test=-0.043) total time=   0.0s\n",
            "[CV 10/10] END poly__degree=0;, score=(train=0.000, test=-0.004) total time=   0.0s\n",
            "[CV 1/10] END poly__degree=1;, score=(train=0.971, test=0.970) total time=   0.0s\n",
            "[CV 2/10] END poly__degree=1;, score=(train=0.971, test=0.967) total time=   0.0s\n",
            "[CV 3/10] END poly__degree=1;, score=(train=0.970, test=0.976) total time=   0.0s\n",
            "[CV 4/10] END poly__degree=1;, score=(train=0.971, test=0.966) total time=   0.0s\n",
            "[CV 5/10] END poly__degree=1;, score=(train=0.971, test=0.970) total time=   0.0s\n",
            "[CV 6/10] END poly__degree=1;, score=(train=0.970, test=0.974) total time=   0.0s\n",
            "[CV 7/10] END poly__degree=1;, score=(train=0.971, test=0.965) total time=   0.0s\n",
            "[CV 8/10] END poly__degree=1;, score=(train=0.970, test=0.971) total time=   0.0s\n",
            "[CV 9/10] END poly__degree=1;, score=(train=0.971, test=0.965) total time=   0.0s\n",
            "[CV 10/10] END poly__degree=1;, score=(train=0.971, test=0.972) total time=   0.0s\n",
            "[CV 1/10] END poly__degree=2;, score=(train=0.988, test=0.987) total time=   0.0s\n",
            "[CV 2/10] END poly__degree=2;, score=(train=0.987, test=0.990) total time=   0.0s\n",
            "[CV 3/10] END poly__degree=2;, score=(train=0.988, test=0.987) total time=   0.0s\n",
            "[CV 4/10] END poly__degree=2;, score=(train=0.987, test=0.989) total time=   0.0s\n",
            "[CV 5/10] END poly__degree=2;, score=(train=0.988, test=0.988) total time=   0.0s\n",
            "[CV 6/10] END poly__degree=2;, score=(train=0.988, test=0.988) total time=   0.0s\n",
            "[CV 7/10] END poly__degree=2;, score=(train=0.988, test=0.985) total time=   0.0s\n",
            "[CV 8/10] END poly__degree=2;, score=(train=0.988, test=0.984) total time=   0.0s\n",
            "[CV 9/10] END poly__degree=2;, score=(train=0.988, test=0.985) total time=   0.0s\n",
            "[CV 10/10] END poly__degree=2;, score=(train=0.988, test=0.988) total time=   0.0s\n",
            "[CV 1/10] END poly__degree=3;, score=(train=0.989, test=0.990) total time=   0.0s\n",
            "[CV 2/10] END poly__degree=3;, score=(train=0.989, test=0.991) total time=   0.0s\n",
            "[CV 3/10] END poly__degree=3;, score=(train=0.989, test=0.990) total time=   0.0s\n",
            "[CV 4/10] END poly__degree=3;, score=(train=0.989, test=0.991) total time=   0.0s\n",
            "[CV 5/10] END poly__degree=3;, score=(train=0.989, test=0.989) total time=   0.0s\n",
            "[CV 6/10] END poly__degree=3;, score=(train=0.989, test=0.990) total time=   0.0s\n",
            "[CV 7/10] END poly__degree=3;, score=(train=0.989, test=0.988) total time=   0.0s\n",
            "[CV 8/10] END poly__degree=3;, score=(train=0.990, test=0.985) total time=   0.0s\n",
            "[CV 9/10] END poly__degree=3;, score=(train=0.990, test=0.986) total time=   0.0s\n",
            "[CV 10/10] END poly__degree=3;, score=(train=0.989, test=0.989) total time=   0.0s\n",
            "[CV 1/10] END poly__degree=4;, score=(train=0.991, test=0.992) total time=   0.0s\n",
            "[CV 2/10] END poly__degree=4;, score=(train=0.991, test=0.993) total time=   0.0s\n",
            "[CV 3/10] END poly__degree=4;, score=(train=0.991, test=0.992) total time=   0.0s\n",
            "[CV 4/10] END poly__degree=4;, score=(train=0.991, test=0.992) total time=   0.0s\n",
            "[CV 5/10] END poly__degree=4;, score=(train=0.991, test=0.991) total time=   0.0s\n",
            "[CV 6/10] END poly__degree=4;, score=(train=0.991, test=0.992) total time=   0.0s\n",
            "[CV 7/10] END poly__degree=4;, score=(train=0.991, test=0.987) total time=   0.0s\n",
            "[CV 8/10] END poly__degree=4;, score=(train=0.991, test=0.987) total time=   0.0s\n",
            "[CV 9/10] END poly__degree=4;, score=(train=0.991, test=0.989) total time=   0.0s\n",
            "[CV 10/10] END poly__degree=4;, score=(train=0.991, test=0.991) total time=   0.0s\n",
            "[CV 1/10] END poly__degree=5;, score=(train=0.991, test=0.992) total time=   0.0s\n",
            "[CV 2/10] END poly__degree=5;, score=(train=0.991, test=0.993) total time=   0.0s\n",
            "[CV 3/10] END poly__degree=5;, score=(train=0.991, test=0.992) total time=   0.0s\n",
            "[CV 4/10] END poly__degree=5;, score=(train=0.991, test=0.992) total time=   0.0s\n",
            "[CV 5/10] END poly__degree=5;, score=(train=0.991, test=0.991) total time=   0.0s\n",
            "[CV 6/10] END poly__degree=5;, score=(train=0.991, test=0.992) total time=   0.0s\n",
            "[CV 7/10] END poly__degree=5;, score=(train=0.991, test=0.987) total time=   0.0s\n",
            "[CV 8/10] END poly__degree=5;, score=(train=0.991, test=0.987) total time=   0.0s\n",
            "[CV 9/10] END poly__degree=5;, score=(train=0.991, test=0.989) total time=   0.0s\n",
            "[CV 10/10] END poly__degree=5;, score=(train=0.991, test=0.991) total time=   0.0s\n",
            "[CV 1/10] END poly__degree=6;, score=(train=0.992, test=0.993) total time=   0.0s\n",
            "[CV 2/10] END poly__degree=6;, score=(train=0.992, test=0.993) total time=   0.0s\n",
            "[CV 3/10] END poly__degree=6;, score=(train=0.992, test=0.992) total time=   0.0s\n",
            "[CV 4/10] END poly__degree=6;, score=(train=0.992, test=0.993) total time=   0.0s\n",
            "[CV 5/10] END poly__degree=6;, score=(train=0.992, test=0.991) total time=   0.0s\n",
            "[CV 6/10] END poly__degree=6;, score=(train=0.992, test=0.993) total time=   0.0s\n",
            "[CV 7/10] END poly__degree=6;, score=(train=0.992, test=0.989) total time=   0.0s\n",
            "[CV 8/10] END poly__degree=6;, score=(train=0.992, test=0.988) total time=   0.0s\n",
            "[CV 9/10] END poly__degree=6;, score=(train=0.992, test=0.989) total time=   0.0s\n",
            "[CV 10/10] END poly__degree=6;, score=(train=0.992, test=0.993) total time=   0.0s\n",
            "[CV 1/10] END poly__degree=7;, score=(train=0.993, test=0.994) total time=   0.0s\n",
            "[CV 2/10] END poly__degree=7;, score=(train=0.993, test=0.994) total time=   0.0s\n",
            "[CV 3/10] END poly__degree=7;, score=(train=0.993, test=0.993) total time=   0.0s\n",
            "[CV 4/10] END poly__degree=7;, score=(train=0.993, test=0.994) total time=   0.0s\n",
            "[CV 5/10] END poly__degree=7;, score=(train=0.993, test=0.992) total time=   0.0s\n",
            "[CV 6/10] END poly__degree=7;, score=(train=0.993, test=0.994) total time=   0.0s\n",
            "[CV 7/10] END poly__degree=7;, score=(train=0.993, test=0.989) total time=   0.0s\n",
            "[CV 8/10] END poly__degree=7;, score=(train=0.993, test=0.990) total time=   0.0s\n",
            "[CV 9/10] END poly__degree=7;, score=(train=0.993, test=0.991) total time=   0.0s\n",
            "[CV 10/10] END poly__degree=7;, score=(train=0.993, test=0.994) total time=   0.0s\n",
            "[CV 1/10] END poly__degree=8;, score=(train=0.993, test=0.994) total time=   0.0s\n",
            "[CV 2/10] END poly__degree=8;, score=(train=0.993, test=0.994) total time=   0.0s\n",
            "[CV 3/10] END poly__degree=8;, score=(train=0.993, test=0.993) total time=   0.0s\n",
            "[CV 4/10] END poly__degree=8;, score=(train=0.993, test=0.994) total time=   0.0s\n",
            "[CV 5/10] END poly__degree=8;, score=(train=0.993, test=0.992) total time=   0.0s\n",
            "[CV 6/10] END poly__degree=8;, score=(train=0.993, test=0.994) total time=   0.0s\n",
            "[CV 7/10] END poly__degree=8;, score=(train=0.993, test=0.988) total time=   0.0s\n",
            "[CV 8/10] END poly__degree=8;, score=(train=0.993, test=0.990) total time=   0.0s\n",
            "[CV 9/10] END poly__degree=8;, score=(train=0.993, test=0.991) total time=   0.0s\n",
            "[CV 10/10] END poly__degree=8;, score=(train=0.993, test=0.994) total time=   0.0s\n",
            "[CV 1/10] END poly__degree=9;, score=(train=0.993, test=0.994) total time=   0.0s\n",
            "[CV 2/10] END poly__degree=9;, score=(train=0.993, test=0.994) total time=   0.0s\n",
            "[CV 3/10] END poly__degree=9;, score=(train=0.993, test=0.993) total time=   0.0s\n",
            "[CV 4/10] END poly__degree=9;, score=(train=0.993, test=0.994) total time=   0.0s\n",
            "[CV 5/10] END poly__degree=9;, score=(train=0.993, test=0.993) total time=   0.0s\n",
            "[CV 6/10] END poly__degree=9;, score=(train=0.993, test=0.993) total time=   0.0s\n",
            "[CV 7/10] END poly__degree=9;, score=(train=0.993, test=0.989) total time=   0.0s\n",
            "[CV 8/10] END poly__degree=9;, score=(train=0.993, test=0.990) total time=   0.0s\n",
            "[CV 9/10] END poly__degree=9;, score=(train=0.993, test=0.991) total time=   0.0s\n",
            "[CV 10/10] END poly__degree=9;, score=(train=0.993, test=0.994) total time=   0.0s\n"
          ]
        },
        {
          "output_type": "execute_result",
          "data": {
            "text/plain": [
              "GridSearchCV(cv=10,\n",
              "             estimator=Pipeline(steps=[('sc', StandardScaler()),\n",
              "                                       ('poly', PolynomialFeatures()),\n",
              "                                       ('lr', LinearRegression())]),\n",
              "             param_grid={'poly__degree': array([0, 1, 2, 3, 4, 5, 6, 7, 8, 9])},\n",
              "             return_train_score=True, verbose=3)"
            ],
            "text/html": [
              "<style>#sk-container-id-5 {color: black;background-color: white;}#sk-container-id-5 pre{padding: 0;}#sk-container-id-5 div.sk-toggleable {background-color: white;}#sk-container-id-5 label.sk-toggleable__label {cursor: pointer;display: block;width: 100%;margin-bottom: 0;padding: 0.3em;box-sizing: border-box;text-align: center;}#sk-container-id-5 label.sk-toggleable__label-arrow:before {content: \"▸\";float: left;margin-right: 0.25em;color: #696969;}#sk-container-id-5 label.sk-toggleable__label-arrow:hover:before {color: black;}#sk-container-id-5 div.sk-estimator:hover label.sk-toggleable__label-arrow:before {color: black;}#sk-container-id-5 div.sk-toggleable__content {max-height: 0;max-width: 0;overflow: hidden;text-align: left;background-color: #f0f8ff;}#sk-container-id-5 div.sk-toggleable__content pre {margin: 0.2em;color: black;border-radius: 0.25em;background-color: #f0f8ff;}#sk-container-id-5 input.sk-toggleable__control:checked~div.sk-toggleable__content {max-height: 200px;max-width: 100%;overflow: auto;}#sk-container-id-5 input.sk-toggleable__control:checked~label.sk-toggleable__label-arrow:before {content: \"▾\";}#sk-container-id-5 div.sk-estimator input.sk-toggleable__control:checked~label.sk-toggleable__label {background-color: #d4ebff;}#sk-container-id-5 div.sk-label input.sk-toggleable__control:checked~label.sk-toggleable__label {background-color: #d4ebff;}#sk-container-id-5 input.sk-hidden--visually {border: 0;clip: rect(1px 1px 1px 1px);clip: rect(1px, 1px, 1px, 1px);height: 1px;margin: -1px;overflow: hidden;padding: 0;position: absolute;width: 1px;}#sk-container-id-5 div.sk-estimator {font-family: monospace;background-color: #f0f8ff;border: 1px dotted black;border-radius: 0.25em;box-sizing: border-box;margin-bottom: 0.5em;}#sk-container-id-5 div.sk-estimator:hover {background-color: #d4ebff;}#sk-container-id-5 div.sk-parallel-item::after {content: \"\";width: 100%;border-bottom: 1px solid gray;flex-grow: 1;}#sk-container-id-5 div.sk-label:hover label.sk-toggleable__label {background-color: #d4ebff;}#sk-container-id-5 div.sk-serial::before {content: \"\";position: absolute;border-left: 1px solid gray;box-sizing: border-box;top: 0;bottom: 0;left: 50%;z-index: 0;}#sk-container-id-5 div.sk-serial {display: flex;flex-direction: column;align-items: center;background-color: white;padding-right: 0.2em;padding-left: 0.2em;position: relative;}#sk-container-id-5 div.sk-item {position: relative;z-index: 1;}#sk-container-id-5 div.sk-parallel {display: flex;align-items: stretch;justify-content: center;background-color: white;position: relative;}#sk-container-id-5 div.sk-item::before, #sk-container-id-5 div.sk-parallel-item::before {content: \"\";position: absolute;border-left: 1px solid gray;box-sizing: border-box;top: 0;bottom: 0;left: 50%;z-index: -1;}#sk-container-id-5 div.sk-parallel-item {display: flex;flex-direction: column;z-index: 1;position: relative;background-color: white;}#sk-container-id-5 div.sk-parallel-item:first-child::after {align-self: flex-end;width: 50%;}#sk-container-id-5 div.sk-parallel-item:last-child::after {align-self: flex-start;width: 50%;}#sk-container-id-5 div.sk-parallel-item:only-child::after {width: 0;}#sk-container-id-5 div.sk-dashed-wrapped {border: 1px dashed gray;margin: 0 0.4em 0.5em 0.4em;box-sizing: border-box;padding-bottom: 0.4em;background-color: white;}#sk-container-id-5 div.sk-label label {font-family: monospace;font-weight: bold;display: inline-block;line-height: 1.2em;}#sk-container-id-5 div.sk-label-container {text-align: center;}#sk-container-id-5 div.sk-container {/* jupyter's `normalize.less` sets `[hidden] { display: none; }` but bootstrap.min.css set `[hidden] { display: none !important; }` so we also need the `!important` here to be able to override the default hidden behavior on the sphinx rendered scikit-learn.org. See: https://github.com/scikit-learn/scikit-learn/issues/21755 */display: inline-block !important;position: relative;}#sk-container-id-5 div.sk-text-repr-fallback {display: none;}</style><div id=\"sk-container-id-5\" class=\"sk-top-container\"><div class=\"sk-text-repr-fallback\"><pre>GridSearchCV(cv=10,\n",
              "             estimator=Pipeline(steps=[(&#x27;sc&#x27;, StandardScaler()),\n",
              "                                       (&#x27;poly&#x27;, PolynomialFeatures()),\n",
              "                                       (&#x27;lr&#x27;, LinearRegression())]),\n",
              "             param_grid={&#x27;poly__degree&#x27;: array([0, 1, 2, 3, 4, 5, 6, 7, 8, 9])},\n",
              "             return_train_score=True, verbose=3)</pre><b>In a Jupyter environment, please rerun this cell to show the HTML representation or trust the notebook. <br />On GitHub, the HTML representation is unable to render, please try loading this page with nbviewer.org.</b></div><div class=\"sk-container\" hidden><div class=\"sk-item sk-dashed-wrapped\"><div class=\"sk-label-container\"><div class=\"sk-label sk-toggleable\"><input class=\"sk-toggleable__control sk-hidden--visually\" id=\"sk-estimator-id-19\" type=\"checkbox\" ><label for=\"sk-estimator-id-19\" class=\"sk-toggleable__label sk-toggleable__label-arrow\">GridSearchCV</label><div class=\"sk-toggleable__content\"><pre>GridSearchCV(cv=10,\n",
              "             estimator=Pipeline(steps=[(&#x27;sc&#x27;, StandardScaler()),\n",
              "                                       (&#x27;poly&#x27;, PolynomialFeatures()),\n",
              "                                       (&#x27;lr&#x27;, LinearRegression())]),\n",
              "             param_grid={&#x27;poly__degree&#x27;: array([0, 1, 2, 3, 4, 5, 6, 7, 8, 9])},\n",
              "             return_train_score=True, verbose=3)</pre></div></div></div><div class=\"sk-parallel\"><div class=\"sk-parallel-item\"><div class=\"sk-item\"><div class=\"sk-label-container\"><div class=\"sk-label sk-toggleable\"><input class=\"sk-toggleable__control sk-hidden--visually\" id=\"sk-estimator-id-20\" type=\"checkbox\" ><label for=\"sk-estimator-id-20\" class=\"sk-toggleable__label sk-toggleable__label-arrow\">estimator: Pipeline</label><div class=\"sk-toggleable__content\"><pre>Pipeline(steps=[(&#x27;sc&#x27;, StandardScaler()), (&#x27;poly&#x27;, PolynomialFeatures()),\n",
              "                (&#x27;lr&#x27;, LinearRegression())])</pre></div></div></div><div class=\"sk-serial\"><div class=\"sk-item\"><div class=\"sk-serial\"><div class=\"sk-item\"><div class=\"sk-estimator sk-toggleable\"><input class=\"sk-toggleable__control sk-hidden--visually\" id=\"sk-estimator-id-21\" type=\"checkbox\" ><label for=\"sk-estimator-id-21\" class=\"sk-toggleable__label sk-toggleable__label-arrow\">StandardScaler</label><div class=\"sk-toggleable__content\"><pre>StandardScaler()</pre></div></div></div><div class=\"sk-item\"><div class=\"sk-estimator sk-toggleable\"><input class=\"sk-toggleable__control sk-hidden--visually\" id=\"sk-estimator-id-22\" type=\"checkbox\" ><label for=\"sk-estimator-id-22\" class=\"sk-toggleable__label sk-toggleable__label-arrow\">PolynomialFeatures</label><div class=\"sk-toggleable__content\"><pre>PolynomialFeatures()</pre></div></div></div><div class=\"sk-item\"><div class=\"sk-estimator sk-toggleable\"><input class=\"sk-toggleable__control sk-hidden--visually\" id=\"sk-estimator-id-23\" type=\"checkbox\" ><label for=\"sk-estimator-id-23\" class=\"sk-toggleable__label sk-toggleable__label-arrow\">LinearRegression</label><div class=\"sk-toggleable__content\"><pre>LinearRegression()</pre></div></div></div></div></div></div></div></div></div></div></div></div>"
            ]
          },
          "metadata": {},
          "execution_count": 86
        }
      ],
      "source": [
        "pipe = Pipeline([('sc', StandardScaler()),\n",
        "                 ('poly', PolynomialFeatures()),\n",
        "                 ('lr', LinearRegression())\n",
        "                 ])\n",
        "params = {'poly__degree': np.arange(10)}\n",
        "gs = GridSearchCV(pipe,\n",
        "                  param_grid = params,\n",
        "                  cv = 10,\n",
        "                  verbose = 3,\n",
        "                  return_train_score=True,\n",
        "                  refit=True\n",
        ")\n",
        "gs.fit(X_train, y_train)"
      ]
    },
    {
      "cell_type": "code",
      "execution_count": 87,
      "id": "6db1ff4e-f036-4ead-8a69-430bde58c834",
      "metadata": {
        "id": "6db1ff4e-f036-4ead-8a69-430bde58c834",
        "outputId": "b6101295-9bbd-4438-be3f-95c9e4795b0d",
        "colab": {
          "base_uri": "https://localhost:8080/"
        }
      },
      "outputs": [
        {
          "output_type": "execute_result",
          "data": {
            "text/plain": [
              "0.9930577963889095"
            ]
          },
          "metadata": {},
          "execution_count": 87
        }
      ],
      "source": [
        "gs.score(X_train, y_train)"
      ]
    },
    {
      "cell_type": "markdown",
      "id": "8147dcc3-f7bd-4fe5-8d2f-882a4315070b",
      "metadata": {
        "id": "8147dcc3-f7bd-4fe5-8d2f-882a4315070b"
      },
      "source": [
        "## Model validation"
      ]
    },
    {
      "cell_type": "code",
      "execution_count": 88,
      "id": "c6d65ac8-e59e-4005-b80c-24079cb79b74",
      "metadata": {
        "id": "c6d65ac8-e59e-4005-b80c-24079cb79b74",
        "outputId": "99edf4ae-30e9-477d-bfde-4a85b7b9d6b6",
        "colab": {
          "base_uri": "https://localhost:8080/"
        }
      },
      "outputs": [
        {
          "output_type": "execute_result",
          "data": {
            "text/plain": [
              "0.9931734082087877"
            ]
          },
          "metadata": {},
          "execution_count": 88
        }
      ],
      "source": [
        "gs.score(X_test, y_test)\n"
      ]
    },
    {
      "cell_type": "code",
      "execution_count": 89,
      "id": "7a564914-105e-4ba5-884c-68c6f99a1401",
      "metadata": {
        "id": "7a564914-105e-4ba5-884c-68c6f99a1401",
        "outputId": "1313ec1d-99c6-40e8-d02c-0840fb0084cb",
        "colab": {
          "base_uri": "https://localhost:8080/"
        }
      },
      "outputs": [
        {
          "output_type": "execute_result",
          "data": {
            "text/plain": [
              "{'poly__degree': 9}"
            ]
          },
          "metadata": {},
          "execution_count": 89
        }
      ],
      "source": [
        "gs.best_params_"
      ]
    },
    {
      "cell_type": "code",
      "execution_count": 90,
      "id": "29a711f5-baa1-45ea-8bc7-b2b35c2e9b56",
      "metadata": {
        "id": "29a711f5-baa1-45ea-8bc7-b2b35c2e9b56",
        "outputId": "d1e62853-50ff-4d8f-a81f-5076527f0c69",
        "colab": {
          "base_uri": "https://localhost:8080/",
          "height": 449
        }
      },
      "outputs": [
        {
          "output_type": "execute_result",
          "data": {
            "text/plain": [
              "[<matplotlib.lines.Line2D at 0x7f4fccf8fca0>]"
            ]
          },
          "metadata": {},
          "execution_count": 90
        },
        {
          "output_type": "display_data",
          "data": {
            "text/plain": [
              "<Figure size 640x480 with 1 Axes>"
            ],
            "image/png": "[encoded data removed]"
          },
          "metadata": {}
        }
      ],
      "source": [
        "plt.plot(X, y, '.')\n",
        "plt.plot(X_train, gs.predict(X_train), '.')"
      ]
    },
    {
      "cell_type": "markdown",
      "id": "c5f5b66b-201c-4e11-83fa-b22b5e790685",
      "metadata": {
        "id": "c5f5b66b-201c-4e11-83fa-b22b5e790685"
      },
      "source": [
        "## Export model"
      ]
    },
    {
      "cell_type": "code",
      "execution_count": 91,
      "id": "3985c37c-0457-445d-bcb3-f2ac90f27412",
      "metadata": {
        "id": "3985c37c-0457-445d-bcb3-f2ac90f27412",
        "outputId": "240aebd7-a03b-4242-bdd8-f47323500d50",
        "colab": {
          "base_uri": "https://localhost:8080/"
        }
      },
      "outputs": [
        {
          "output_type": "execute_result",
          "data": {
            "text/plain": [
              "['ADC_to_color.pkl']"
            ]
          },
          "metadata": {},
          "execution_count": 91
        }
      ],
      "source": [
        "import joblib\n",
        "joblib.dump(gs.best_estimator_, 'ADC_to_color.pkl')"
      ]
    },
    {
      "cell_type": "markdown",
      "id": "2b60a57a-150b-49fd-b74e-8797c13b450b",
      "metadata": {
        "id": "2b60a57a-150b-49fd-b74e-8797c13b450b"
      },
      "source": [
        "## Import model test"
      ]
    },
    {
      "cell_type": "code",
      "execution_count": 92,
      "id": "c9db30d5-17e4-4669-a07b-13ea43cc87fc",
      "metadata": {
        "id": "c9db30d5-17e4-4669-a07b-13ea43cc87fc"
      },
      "outputs": [],
      "source": [
        "gs = joblib.load(\"ADC_to_color.pkl\")"
      ]
    },
    {
      "cell_type": "code",
      "execution_count": 93,
      "id": "53899e12-f1ef-4046-b728-80d6f7d448c9",
      "metadata": {
        "id": "53899e12-f1ef-4046-b728-80d6f7d448c9",
        "outputId": "7a6b0d5b-b3c8-4d77-9c62-48f06b5a0d90",
        "colab": {
          "base_uri": "https://localhost:8080/",
          "height": 469
        }
      },
      "outputs": [
        {
          "output_type": "execute_result",
          "data": {
            "text/plain": [
              "Text(0, 0.5, 'Grayscale color')"
            ]
          },
          "metadata": {},
          "execution_count": 93
        },
        {
          "output_type": "display_data",
          "data": {
            "text/plain": [
              "<Figure size 640x480 with 1 Axes>"
            ],
            "image/png": "[encoded data removed]"
          },
          "metadata": {}
        }
      ],
      "source": [
        "plt.plot(X, y, '.')\n",
        "plt.plot(X_train, gs.predict(X_train), '.')\n",
        "plt.xlabel(\"Measurements\")\n",
        "plt.ylabel(\"Grayscale color\")"
      ]
    },
    {
      "cell_type": "markdown",
      "source": [
        "## Test prediction"
      ],
      "metadata": {
        "id": "459E_Nk_YfLK"
      },
      "id": "459E_Nk_YfLK"
    },
    {
      "cell_type": "code",
      "execution_count": 94,
      "id": "1c0b21a1-c0ed-46ff-8991-0f9254b28480",
      "metadata": {
        "id": "1c0b21a1-c0ed-46ff-8991-0f9254b28480",
        "outputId": "91839685-b59d-4826-a669-95b9b72b7790",
        "colab": {
          "base_uri": "https://localhost:8080/"
        }
      },
      "outputs": [
        {
          "output_type": "stream",
          "name": "stdout",
          "text": [
            "47\n"
          ]
        }
      ],
      "source": [
        "print(gs.predict(pd.DataFrame([600])).astype(int)[0][0])"
      ]
    },
    {
      "cell_type": "markdown",
      "id": "ba8c0281-c0dd-4bc8-9dc0-9a6d52cc2653",
      "metadata": {
        "id": "ba8c0281-c0dd-4bc8-9dc0-9a6d52cc2653"
      },
      "source": [
        "# Color classification"
      ]
    },
    {
      "cell_type": "markdown",
      "id": "3a2d1f97-a9f9-4b10-9cdb-841f077b684e",
      "metadata": {
        "id": "3a2d1f97-a9f9-4b10-9cdb-841f077b684e"
      },
      "source": [
        "## Data import"
      ]
    },
    {
      "cell_type": "code",
      "execution_count": 96,
      "id": "9eecb59e-8690-44eb-b98f-5b89a1cc564d",
      "metadata": {
        "id": "9eecb59e-8690-44eb-b98f-5b89a1cc564d"
      },
      "outputs": [],
      "source": [
        "df_stones = pd.DataFrame()\n",
        "nr_of_files = 4\n",
        "sensors_saved = ['0', '2', '18', '20']\n",
        "sensors_saved_2 = ['0']\n",
        "colors_saved = [str(f\"color_{i}\") for i in sensors_saved]\n",
        "\n",
        "for file_nr in range(1, nr_of_files + 1):\n",
        "    df = pd.read_csv(f\"Colab_files/stone_classification_4_sensors_{file_nr}.csv\", index_col='Unnamed: 0')\n",
        "    df_stones = pd.concat([df_stones, df], ignore_index=True)\n",
        "\n",
        "df_stones = df_stones[sensors_saved+colors_saved]\n",
        "df_stones= df_stones.replace({\"w\": \"white\", \"b\": \"black\", \"n\": \"none\"})"
      ]
    },
    {
      "cell_type": "markdown",
      "source": [
        "## Data cleaning"
      ],
      "metadata": {
        "id": "WXTgb4xPKEUz"
      },
      "id": "WXTgb4xPKEUz"
    },
    {
      "cell_type": "code",
      "execution_count": 97,
      "id": "9a135ed6-9d0d-4d51-aaa4-e44d1ffe1b1e",
      "metadata": {
        "id": "9a135ed6-9d0d-4d51-aaa4-e44d1ffe1b1e"
      },
      "outputs": [],
      "source": [
        "# Remove readings that were ambiguous\n",
        "df_2_stones = df_stones[['0', 'color_0']]\n",
        "df_2_stones = df_2_stones.loc[(df_2_stones['color_0'] != 'black') | (df_2_stones['0'] > -200)]\n",
        "df_2_stones = df_2_stones.loc[(df_2_stones['color_0'] != 'none') | (df_2_stones['0'] < -5000)]"
      ]
    },
    {
      "cell_type": "markdown",
      "id": "1af41834-739c-428d-a267-d728141746c0",
      "metadata": {
        "id": "1af41834-739c-428d-a267-d728141746c0"
      },
      "source": [
        "## Data exploration"
      ]
    },
    {
      "cell_type": "code",
      "execution_count": 98,
      "id": "35b25471-c998-4dbd-b25e-e15db6a3eb57",
      "metadata": {
        "colab": {
          "base_uri": "https://localhost:8080/",
          "height": 467
        },
        "id": "35b25471-c998-4dbd-b25e-e15db6a3eb57",
        "outputId": "6b0481f9-c8fe-4efe-d0d5-22878e8a6a0f"
      },
      "outputs": [
        {
          "output_type": "execute_result",
          "data": {
            "text/plain": [
              "Text(0.5, 0, 'Stone color')"
            ]
          },
          "metadata": {},
          "execution_count": 98
        },
        {
          "output_type": "display_data",
          "data": {
            "text/plain": [
              "<Figure size 640x480 with 1 Axes>"
            ],
            "image/png": "[encoded data removed]"
          },
          "metadata": {}
        }
      ],
      "source": [
        "sns.countplot(data=df_2_stones, x='color_0')\n",
        "plt.xlabel(\"Stone color\")"
      ]
    },
    {
      "cell_type": "code",
      "source": [
        "plt.figure(figsize = (9, 6))\n",
        "sns.boxplot(x = 'color_0', y = '0', data = df_2_stones.loc[(df_2_stones['color_0'] != 'none')]);\n",
        "plt.title(\"Data distribution\")\n",
        "plt.ylabel(\"Measurements\")\n",
        "plt.xlabel(\"Stone color\")"
      ],
      "metadata": {
        "colab": {
          "base_uri": "https://localhost:8080/",
          "height": 582
        },
        "id": "fIubYS9CpfRQ",
        "outputId": "d3337763-22f9-42d3-abfa-2acdf2cbe53c"
      },
      "id": "fIubYS9CpfRQ",
      "execution_count": 99,
      "outputs": [
        {
          "output_type": "execute_result",
          "data": {
            "text/plain": [
              "Text(0.5, 0, 'Stone color')"
            ]
          },
          "metadata": {},
          "execution_count": 99
        },
        {
          "output_type": "display_data",
          "data": {
            "text/plain": [
              "<Figure size 900x600 with 1 Axes>"
            ],
            "image/png": "[encoded data removed]"
          },
          "metadata": {}
        }
      ]
    },
    {
      "cell_type": "code",
      "execution_count": 100,
      "id": "79c6a796-0449-4120-9221-90c9d6000107",
      "metadata": {
        "colab": {
          "base_uri": "https://localhost:8080/",
          "height": 582
        },
        "id": "79c6a796-0449-4120-9221-90c9d6000107",
        "outputId": "99ba1bf6-11bf-4ab3-bbbb-45fee7b6f454"
      },
      "outputs": [
        {
          "output_type": "execute_result",
          "data": {
            "text/plain": [
              "Text(0.5, 0, 'Stone color')"
            ]
          },
          "metadata": {},
          "execution_count": 100
        },
        {
          "output_type": "display_data",
          "data": {
            "text/plain": [
              "<Figure size 900x600 with 1 Axes>"
            ],
            "image/png": "[encoded data removed]"
          },
          "metadata": {}
        }
      ],
      "source": [
        "plt.figure(figsize = (9, 6))\n",
        "sns.boxplot(x = 'color_0', y = '0', data = df_2_stones);\n",
        "plt.title(\"Data distribution\")\n",
        "plt.ylabel(\"Measurements\")\n",
        "plt.xlabel(\"Stone color\")"
      ]
    },
    {
      "cell_type": "code",
      "execution_count": 101,
      "id": "f4d42e53-fb23-4932-bafc-7308dd3c04cb",
      "metadata": {
        "id": "f4d42e53-fb23-4932-bafc-7308dd3c04cb"
      },
      "outputs": [],
      "source": [
        "# Training data"
      ]
    },
    {
      "cell_type": "code",
      "execution_count": 102,
      "id": "30fc8965-f49a-4d64-b791-1d4258d1476c",
      "metadata": {
        "id": "30fc8965-f49a-4d64-b791-1d4258d1476c"
      },
      "outputs": [],
      "source": [
        "from sklearn.model_selection import train_test_split\n",
        "X = df_2_stones[['0']]\n",
        "y = df_2_stones['color_0']\n",
        "X_train, X_test, y_train, y_test = train_test_split(X,\n",
        "                                                    y,\n",
        "                                                    test_size=0.20,\n",
        "                                                    random_state=42,\n",
        "                                                    stratify = y)"
      ]
    },
    {
      "cell_type": "code",
      "execution_count": 103,
      "id": "966cf2c9-6c99-4bdb-92a0-5963337df271",
      "metadata": {
        "id": "966cf2c9-6c99-4bdb-92a0-5963337df271"
      },
      "outputs": [],
      "source": [
        "from sklearn.preprocessing import PolynomialFeatures\n",
        "from sklearn.pipeline import Pipeline\n",
        "from sklearn.linear_model import LogisticRegression\n",
        "from sklearn.preprocessing import StandardScaler"
      ]
    },
    {
      "cell_type": "markdown",
      "id": "c00da4a5-7780-4ff4-a47c-dc09531ca4f4",
      "metadata": {
        "id": "c00da4a5-7780-4ff4-a47c-dc09531ca4f4"
      },
      "source": [
        "# Logistic regression"
      ]
    },
    {
      "cell_type": "code",
      "execution_count": 104,
      "id": "40765aff-1604-4bec-9ad1-9059ca7c1018",
      "metadata": {
        "id": "40765aff-1604-4bec-9ad1-9059ca7c1018"
      },
      "outputs": [],
      "source": [
        "pipe = Pipeline([('sc', StandardScaler()),\n",
        "                 ('poly', PolynomialFeatures(include_bias=False)),\n",
        "                 ('lr', LogisticRegression())\n",
        "                 ])"
      ]
    },
    {
      "cell_type": "code",
      "execution_count": 105,
      "id": "136d4b32-9969-4365-87d1-05f4cc1c5fed",
      "metadata": {
        "id": "136d4b32-9969-4365-87d1-05f4cc1c5fed"
      },
      "outputs": [],
      "source": [
        "from sklearn.model_selection import GridSearchCV"
      ]
    },
    {
      "cell_type": "code",
      "execution_count": 107,
      "id": "dbcc49c9-7ceb-4ed4-aca8-44f7759353c8",
      "metadata": {
        "colab": {
          "base_uri": "https://localhost:8080/",
          "height": 205
        },
        "id": "dbcc49c9-7ceb-4ed4-aca8-44f7759353c8",
        "outputId": "a36fbec0-d43e-4d6e-c349-874a3bbe4620"
      },
      "outputs": [
        {
          "output_type": "stream",
          "name": "stdout",
          "text": [
            "Fitting 10 folds for each of 60 candidates, totalling 600 fits\n"
          ]
        },
        {
          "output_type": "execute_result",
          "data": {
            "text/plain": [
              "GridSearchCV(cv=10,\n",
              "             estimator=Pipeline(steps=[('sc', StandardScaler()),\n",
              "                                       ('poly',\n",
              "                                        PolynomialFeatures(include_bias=False)),\n",
              "                                       ('lr', LogisticRegression())]),\n",
              "             n_jobs=2,\n",
              "             param_grid={'lr__C': array([0.001     , 0.00215443, 0.00464159, 0.01      , 0.02154435,\n",
              "       0.04641589, 0.1       , 0.21544347, 0.46415888, 1.        ]),\n",
              "                         'lr__penalty': ['l1', 'l2'],\n",
              "                         'poly__degree': array([0, 1, 2])},\n",
              "             return_train_score=True, scoring='accuracy', verbose=3)"
            ],
            "text/html": [
              "<style>#sk-container-id-7 {color: black;background-color: white;}#sk-container-id-7 pre{padding: 0;}#sk-container-id-7 div.sk-toggleable {background-color: white;}#sk-container-id-7 label.sk-toggleable__label {cursor: pointer;display: block;width: 100%;margin-bottom: 0;padding: 0.3em;box-sizing: border-box;text-align: center;}#sk-container-id-7 label.sk-toggleable__label-arrow:before {content: \"▸\";float: left;margin-right: 0.25em;color: #696969;}#sk-container-id-7 label.sk-toggleable__label-arrow:hover:before {color: black;}#sk-container-id-7 div.sk-estimator:hover label.sk-toggleable__label-arrow:before {color: black;}#sk-container-id-7 div.sk-toggleable__content {max-height: 0;max-width: 0;overflow: hidden;text-align: left;background-color: #f0f8ff;}#sk-container-id-7 div.sk-toggleable__content pre {margin: 0.2em;color: black;border-radius: 0.25em;background-color: #f0f8ff;}#sk-container-id-7 input.sk-toggleable__control:checked~div.sk-toggleable__content {max-height: 200px;max-width: 100%;overflow: auto;}#sk-container-id-7 input.sk-toggleable__control:checked~label.sk-toggleable__label-arrow:before {content: \"▾\";}#sk-container-id-7 div.sk-estimator input.sk-toggleable__control:checked~label.sk-toggleable__label {background-color: #d4ebff;}#sk-container-id-7 div.sk-label input.sk-toggleable__control:checked~label.sk-toggleable__label {background-color: #d4ebff;}#sk-container-id-7 input.sk-hidden--visually {border: 0;clip: rect(1px 1px 1px 1px);clip: rect(1px, 1px, 1px, 1px);height: 1px;margin: -1px;overflow: hidden;padding: 0;position: absolute;width: 1px;}#sk-container-id-7 div.sk-estimator {font-family: monospace;background-color: #f0f8ff;border: 1px dotted black;border-radius: 0.25em;box-sizing: border-box;margin-bottom: 0.5em;}#sk-container-id-7 div.sk-estimator:hover {background-color: #d4ebff;}#sk-container-id-7 div.sk-parallel-item::after {content: \"\";width: 100%;border-bottom: 1px solid gray;flex-grow: 1;}#sk-container-id-7 div.sk-label:hover label.sk-toggleable__label {background-color: #d4ebff;}#sk-container-id-7 div.sk-serial::before {content: \"\";position: absolute;border-left: 1px solid gray;box-sizing: border-box;top: 0;bottom: 0;left: 50%;z-index: 0;}#sk-container-id-7 div.sk-serial {display: flex;flex-direction: column;align-items: center;background-color: white;padding-right: 0.2em;padding-left: 0.2em;position: relative;}#sk-container-id-7 div.sk-item {position: relative;z-index: 1;}#sk-container-id-7 div.sk-parallel {display: flex;align-items: stretch;justify-content: center;background-color: white;position: relative;}#sk-container-id-7 div.sk-item::before, #sk-container-id-7 div.sk-parallel-item::before {content: \"\";position: absolute;border-left: 1px solid gray;box-sizing: border-box;top: 0;bottom: 0;left: 50%;z-index: -1;}#sk-container-id-7 div.sk-parallel-item {display: flex;flex-direction: column;z-index: 1;position: relative;background-color: white;}#sk-container-id-7 div.sk-parallel-item:first-child::after {align-self: flex-end;width: 50%;}#sk-container-id-7 div.sk-parallel-item:last-child::after {align-self: flex-start;width: 50%;}#sk-container-id-7 div.sk-parallel-item:only-child::after {width: 0;}#sk-container-id-7 div.sk-dashed-wrapped {border: 1px dashed gray;margin: 0 0.4em 0.5em 0.4em;box-sizing: border-box;padding-bottom: 0.4em;background-color: white;}#sk-container-id-7 div.sk-label label {font-family: monospace;font-weight: bold;display: inline-block;line-height: 1.2em;}#sk-container-id-7 div.sk-label-container {text-align: center;}#sk-container-id-7 div.sk-container {/* jupyter's `normalize.less` sets `[hidden] { display: none; }` but bootstrap.min.css set `[hidden] { display: none !important; }` so we also need the `!important` here to be able to override the default hidden behavior on the sphinx rendered scikit-learn.org. See: https://github.com/scikit-learn/scikit-learn/issues/21755 */display: inline-block !important;position: relative;}#sk-container-id-7 div.sk-text-repr-fallback {display: none;}</style><div id=\"sk-container-id-7\" class=\"sk-top-container\"><div class=\"sk-text-repr-fallback\"><pre>GridSearchCV(cv=10,\n",
              "             estimator=Pipeline(steps=[(&#x27;sc&#x27;, StandardScaler()),\n",
              "                                       (&#x27;poly&#x27;,\n",
              "                                        PolynomialFeatures(include_bias=False)),\n",
              "                                       (&#x27;lr&#x27;, LogisticRegression())]),\n",
              "             n_jobs=2,\n",
              "             param_grid={&#x27;lr__C&#x27;: array([0.001     , 0.00215443, 0.00464159, 0.01      , 0.02154435,\n",
              "       0.04641589, 0.1       , 0.21544347, 0.46415888, 1.        ]),\n",
              "                         &#x27;lr__penalty&#x27;: [&#x27;l1&#x27;, &#x27;l2&#x27;],\n",
              "                         &#x27;poly__degree&#x27;: array([0, 1, 2])},\n",
              "             return_train_score=True, scoring=&#x27;accuracy&#x27;, verbose=3)</pre><b>In a Jupyter environment, please rerun this cell to show the HTML representation or trust the notebook. <br />On GitHub, the HTML representation is unable to render, please try loading this page with nbviewer.org.</b></div><div class=\"sk-container\" hidden><div class=\"sk-item sk-dashed-wrapped\"><div class=\"sk-label-container\"><div class=\"sk-label sk-toggleable\"><input class=\"sk-toggleable__control sk-hidden--visually\" id=\"sk-estimator-id-29\" type=\"checkbox\" ><label for=\"sk-estimator-id-29\" class=\"sk-toggleable__label sk-toggleable__label-arrow\">GridSearchCV</label><div class=\"sk-toggleable__content\"><pre>GridSearchCV(cv=10,\n",
              "             estimator=Pipeline(steps=[(&#x27;sc&#x27;, StandardScaler()),\n",
              "                                       (&#x27;poly&#x27;,\n",
              "                                        PolynomialFeatures(include_bias=False)),\n",
              "                                       (&#x27;lr&#x27;, LogisticRegression())]),\n",
              "             n_jobs=2,\n",
              "             param_grid={&#x27;lr__C&#x27;: array([0.001     , 0.00215443, 0.00464159, 0.01      , 0.02154435,\n",
              "       0.04641589, 0.1       , 0.21544347, 0.46415888, 1.        ]),\n",
              "                         &#x27;lr__penalty&#x27;: [&#x27;l1&#x27;, &#x27;l2&#x27;],\n",
              "                         &#x27;poly__degree&#x27;: array([0, 1, 2])},\n",
              "             return_train_score=True, scoring=&#x27;accuracy&#x27;, verbose=3)</pre></div></div></div><div class=\"sk-parallel\"><div class=\"sk-parallel-item\"><div class=\"sk-item\"><div class=\"sk-label-container\"><div class=\"sk-label sk-toggleable\"><input class=\"sk-toggleable__control sk-hidden--visually\" id=\"sk-estimator-id-30\" type=\"checkbox\" ><label for=\"sk-estimator-id-30\" class=\"sk-toggleable__label sk-toggleable__label-arrow\">estimator: Pipeline</label><div class=\"sk-toggleable__content\"><pre>Pipeline(steps=[(&#x27;sc&#x27;, StandardScaler()),\n",
              "                (&#x27;poly&#x27;, PolynomialFeatures(include_bias=False)),\n",
              "                (&#x27;lr&#x27;, LogisticRegression())])</pre></div></div></div><div class=\"sk-serial\"><div class=\"sk-item\"><div class=\"sk-serial\"><div class=\"sk-item\"><div class=\"sk-estimator sk-toggleable\"><input class=\"sk-toggleable__control sk-hidden--visually\" id=\"sk-estimator-id-31\" type=\"checkbox\" ><label for=\"sk-estimator-id-31\" class=\"sk-toggleable__label sk-toggleable__label-arrow\">StandardScaler</label><div class=\"sk-toggleable__content\"><pre>StandardScaler()</pre></div></div></div><div class=\"sk-item\"><div class=\"sk-estimator sk-toggleable\"><input class=\"sk-toggleable__control sk-hidden--visually\" id=\"sk-estimator-id-32\" type=\"checkbox\" ><label for=\"sk-estimator-id-32\" class=\"sk-toggleable__label sk-toggleable__label-arrow\">PolynomialFeatures</label><div class=\"sk-toggleable__content\"><pre>PolynomialFeatures(include_bias=False)</pre></div></div></div><div class=\"sk-item\"><div class=\"sk-estimator sk-toggleable\"><input class=\"sk-toggleable__control sk-hidden--visually\" id=\"sk-estimator-id-33\" type=\"checkbox\" ><label for=\"sk-estimator-id-33\" class=\"sk-toggleable__label sk-toggleable__label-arrow\">LogisticRegression</label><div class=\"sk-toggleable__content\"><pre>LogisticRegression()</pre></div></div></div></div></div></div></div></div></div></div></div></div>"
            ]
          },
          "metadata": {},
          "execution_count": 107
        }
      ],
      "source": [
        "params = {'poly__degree': np.arange(3),\n",
        "          'lr__C': np.logspace(-3, 0, 10),\n",
        "          'lr__penalty': ['l1', 'l2']\n",
        "          }\n",
        "\n",
        "gs = GridSearchCV(pipe,\n",
        "                  param_grid = params,\n",
        "                  cv = 10,\n",
        "                  verbose = 3,\n",
        "                  return_train_score=True,\n",
        "                  n_jobs=2,\n",
        "                  scoring='accuracy'\n",
        ")\n",
        "gs.fit(X_train, y_train)"
      ]
    },
    {
      "cell_type": "code",
      "execution_count": 108,
      "id": "25e4c5fb-4b0f-4863-8e25-f6c266c6ae79",
      "metadata": {
        "colab": {
          "base_uri": "https://localhost:8080/"
        },
        "id": "25e4c5fb-4b0f-4863-8e25-f6c266c6ae79",
        "outputId": "318978df-b242-4674-dd36-d8ae2a57cb03"
      },
      "outputs": [
        {
          "output_type": "execute_result",
          "data": {
            "text/plain": [
              "{'lr__C': 0.0021544346900318843, 'lr__penalty': 'l2', 'poly__degree': 1}"
            ]
          },
          "metadata": {},
          "execution_count": 108
        }
      ],
      "source": [
        "gs.best_params_"
      ]
    },
    {
      "cell_type": "code",
      "execution_count": 109,
      "id": "4fae77b2-fa14-46cc-9d72-0742cba6ead5",
      "metadata": {
        "id": "4fae77b2-fa14-46cc-9d72-0742cba6ead5"
      },
      "outputs": [],
      "source": [
        "def predict_stone(y, threshold, X_train):\n",
        "    stones = list()\n",
        "    for i, prob in enumerate(y):\n",
        "        if prob[0] > threshold:\n",
        "            stones.append(\"black\")\n",
        "        elif prob[1] > threshold:\n",
        "            stones.append(\"none\")\n",
        "        elif prob[2] > threshold:\n",
        "            stones.append(\"white\")\n",
        "        else:\n",
        "            stones.append(\"misplaced\")\n",
        "            print(f\"Misplaced stone with index: {i} with probability of being black {prob[0]}, value {X_train.iloc[i].values}, probability of being none {prob[1]}, , probability of being white {prob[2]}\")\n",
        "    return stones"
      ]
    },
    {
      "cell_type": "code",
      "execution_count": 110,
      "id": "57f952e2-e8cb-43d0-b276-80c376d584d0",
      "metadata": {
        "id": "57f952e2-e8cb-43d0-b276-80c376d584d0",
        "colab": {
          "base_uri": "https://localhost:8080/"
        },
        "outputId": "cb925cf0-1076-4e02-8a3f-175fa213eb07"
      },
      "outputs": [
        {
          "output_type": "stream",
          "name": "stdout",
          "text": [
            "Misplaced stone with index: 0 with probability of being black 0.2595006134041749, value [4], probability of being none 0.3149361450243673, , probability of being white 0.4255632415714577\n",
            "Misplaced stone with index: 1 with probability of being black 0.2594830119662291, value [-11], probability of being none 0.3150001191645633, , probability of being white 0.4255168688692077\n",
            "Misplaced stone with index: 2 with probability of being black 0.2594853590441195, value [-9], probability of being none 0.31499158887860856, , probability of being white 0.42552305207727203\n",
            "Misplaced stone with index: 3 with probability of being black 0.25950178669829127, value [5], probability of being none 0.3149318803282264, , probability of being white 0.4255663329734823\n",
            "Misplaced stone with index: 4 with probability of being black 0.25961551595122373, value [102], probability of being none 0.31451835136676143, , probability of being white 0.42586613268201484\n",
            "Misplaced stone with index: 5 with probability of being black 0.2596225455301733, value [108], probability of being none 0.3144927817894512, , probability of being white 0.42588467268037544\n",
            "Misplaced stone with index: 6 with probability of being black 0.2596213739759267, value [107], probability of being none 0.31449704330849376, , probability of being white 0.4258815827155796\n",
            "Misplaced stone with index: 7 with probability of being black 0.22548602463549708, value [-24906], probability of being none 0.4291539950750939, , probability of being white 0.34535998028940906\n",
            "Misplaced stone with index: 8 with probability of being black 0.217456448012104, value [-30047], probability of being none 0.45414547998813115, , probability of being white 0.32839807199976484\n",
            "Misplaced stone with index: 9 with probability of being black 0.2595006134041749, value [4], probability of being none 0.3149361450243673, , probability of being white 0.4255632415714577\n",
            "Misplaced stone with index: 10 with probability of being black 0.21455407827441925, value [-31865], probability of being none 0.4630426491816945, , probability of being white 0.3224032725438863\n",
            "Misplaced stone with index: 11 with probability of being black 0.25961551595122373, value [102], probability of being none 0.31451835136676143, , probability of being white 0.42586613268201484\n",
            "Misplaced stone with index: 12 with probability of being black 0.25961551595122373, value [102], probability of being none 0.31451835136676143, , probability of being white 0.42586613268201484\n",
            "Misplaced stone with index: 13 with probability of being black 0.2182539739115843, value [-29544], probability of being none 0.45168848986350985, , probability of being white 0.3300575362249059\n",
            "Misplaced stone with index: 14 with probability of being black 0.25962020240478195, value [106], probability of being none 0.3145013048584072, , probability of being white 0.4258784927368108\n",
            "Misplaced stone with index: 15 with probability of being black 0.2182539739115843, value [-29544], probability of being none 0.45168848986350985, , probability of being white 0.3300575362249059\n",
            "Misplaced stone with index: 16 with probability of being black 0.25961434429559, value [101], probability of being none 0.3145226130710226, , probability of being white 0.4258630426333875\n",
            "Misplaced stone with index: 17 with probability of being black 0.2182539739115843, value [-29544], probability of being none 0.45168848986350985, , probability of being white 0.3300575362249059\n",
            "Misplaced stone with index: 18 with probability of being black 0.217456448012104, value [-30047], probability of being none 0.45414547998813115, , probability of being white 0.32839807199976484\n",
            "Misplaced stone with index: 19 with probability of being black 0.21623410031848572, value [-30815], probability of being none 0.4579009618631813, , probability of being white 0.32586493781833303\n",
            "Misplaced stone with index: 20 with probability of being black 0.21623410031848572, value [-30815], probability of being none 0.4579009618631813, , probability of being white 0.32586493781833303\n",
            "Misplaced stone with index: 21 with probability of being black 0.2596037986345163, value [92], probability of being none 0.3145609697983744, , probability of being white 0.42583523156710923\n",
            "Misplaced stone with index: 22 with probability of being black 0.2596213739759267, value [107], probability of being none 0.31449704330849376, , probability of being white 0.4258815827155796\n",
            "Misplaced stone with index: 23 with probability of being black 0.21785789457048071, value [-29794], probability of being none 0.45290938526551056, , probability of being white 0.32923272016400884\n",
            "Misplaced stone with index: 24 with probability of being black 0.2241423052223362, value [-25779], probability of being none 0.43337685612477095, , probability of being white 0.34248083865289286\n",
            "Misplaced stone with index: 25 with probability of being black 0.21903640983982625, value [-29049], probability of being none 0.4492727634115333, , probability of being white 0.3316908267486404\n",
            "Misplaced stone with index: 26 with probability of being black 0.2182539739115843, value [-29544], probability of being none 0.45168848986350985, , probability of being white 0.3300575362249059\n",
            "Misplaced stone with index: 27 with probability of being black 0.21664535238324617, value [-30557], probability of being none 0.4566388288994868, , probability of being white 0.32671581871726696\n",
            "Misplaced stone with index: 28 with probability of being black 0.2593667472202866, value [-110], probability of being none 0.3154225222840131, , probability of being white 0.4252107304957004\n",
            "Misplaced stone with index: 29 with probability of being black 0.2596225455301733, value [108], probability of being none 0.3144927817894512, , probability of being white 0.42588467268037544\n",
            "Misplaced stone with index: 30 with probability of being black 0.21903640983982625, value [-29049], probability of being none 0.4492727634115333, , probability of being white 0.3316908267486404\n",
            "Misplaced stone with index: 31 with probability of being black 0.25961434429559, value [101], probability of being none 0.3145226130710226, , probability of being white 0.4258630426333875\n",
            "Misplaced stone with index: 32 with probability of being black 0.217456448012104, value [-30047], probability of being none 0.45414547998813115, , probability of being white 0.32839807199976484\n",
            "Misplaced stone with index: 33 with probability of being black 0.21664535238324617, value [-30557], probability of being none 0.4566388288994868, , probability of being white 0.32671581871726696\n",
            "Misplaced stone with index: 34 with probability of being black 0.2154017454181197, value [-31336], probability of being none 0.460451228203195, , probability of being white 0.32414702637868525\n",
            "Misplaced stone with index: 35 with probability of being black 0.21281256232933082, value [-32947], probability of being none 0.4683487403864443, , probability of being white 0.31883869728422487\n",
            "Misplaced stone with index: 36 with probability of being black 0.21903640983982625, value [-29049], probability of being none 0.4492727634115333, , probability of being white 0.3316908267486404\n",
            "Misplaced stone with index: 37 with probability of being black 0.25950178669829127, value [5], probability of being none 0.3149318803282264, , probability of being white 0.4255663329734823\n",
            "Misplaced stone with index: 38 with probability of being black 0.2596166875899599, value [103], probability of being none 0.31451408969336886, , probability of being white 0.4258692227166712\n",
            "Misplaced stone with index: 39 with probability of being black 0.2182539739115843, value [-29544], probability of being none 0.45168848986350985, , probability of being white 0.3300575362249059\n",
            "Misplaced stone with index: 40 with probability of being black 0.22379771167017318, value [-26002], probability of being none 0.4344570727376331, , probability of being white 0.34174521559219373\n",
            "Misplaced stone with index: 41 with probability of being black 0.21664535238324617, value [-30557], probability of being none 0.4566388288994868, , probability of being white 0.32671581871726696\n",
            "Misplaced stone with index: 42 with probability of being black 0.2596213739759267, value [107], probability of being none 0.31449704330849376, , probability of being white 0.4258815827155796\n",
            "Misplaced stone with index: 43 with probability of being black 0.21705279873391028, value [-30301], probability of being none 0.4553870005158208, , probability of being white 0.3275602007502689\n",
            "Misplaced stone with index: 44 with probability of being black 0.2596213739759267, value [107], probability of being none 0.31449704330849376, , probability of being white 0.4258815827155796\n",
            "Misplaced stone with index: 45 with probability of being black 0.21412367949396544, value [-32133], probability of being none 0.46435622842364066, , probability of being white 0.32152009208239385\n",
            "Misplaced stone with index: 46 with probability of being black 0.217456448012104, value [-30047], probability of being none 0.45414547998813115, , probability of being white 0.32839807199976484\n",
            "Misplaced stone with index: 47 with probability of being black 0.2596166875899599, value [103], probability of being none 0.31451408969336886, , probability of being white 0.4258692227166712\n",
            "Misplaced stone with index: 48 with probability of being black 0.21664535238324617, value [-30557], probability of being none 0.4566388288994868, , probability of being white 0.32671581871726696\n",
            "Misplaced stone with index: 49 with probability of being black 0.2182539739115843, value [-29544], probability of being none 0.45168848986350985, , probability of being white 0.3300575362249059\n",
            "Misplaced stone with index: 50 with probability of being black 0.22613861552538667, value [-24480], probability of being none 0.4270969322062408, , probability of being white 0.34676445226837266\n",
            "Misplaced stone with index: 51 with probability of being black 0.25950178669829127, value [5], probability of being none 0.3149318803282264, , probability of being white 0.4255663329734823\n",
            "Misplaced stone with index: 52 with probability of being black 0.25961434429559, value [101], probability of being none 0.3145226130710226, , probability of being white 0.4258630426333875\n",
            "Misplaced stone with index: 53 with probability of being black 0.2594783176078444, value [-15], probability of being none 0.315017180106215, , probability of being white 0.42550450228594067\n",
            "Misplaced stone with index: 54 with probability of being black 0.25961551595122373, value [102], probability of being none 0.31451835136676143, , probability of being white 0.42586613268201484\n",
            "Misplaced stone with index: 55 with probability of being black 0.2596166875899599, value [103], probability of being none 0.31451408969336886, , probability of being white 0.4258692227166712\n",
            "Misplaced stone with index: 56 with probability of being black 0.25950178669829127, value [5], probability of being none 0.3149318803282264, , probability of being white 0.4255663329734823\n",
            "Misplaced stone with index: 57 with probability of being black 0.25950178669829127, value [5], probability of being none 0.3149318803282264, , probability of being white 0.4255663329734823\n",
            "Misplaced stone with index: 58 with probability of being black 0.259494746680312, value [-1], probability of being none 0.31495746896735716, , probability of being white 0.4255477843523309\n",
            "Misplaced stone with index: 59 with probability of being black 0.21705279873391028, value [-30301], probability of being none 0.4553870005158208, , probability of being white 0.3275602007502689\n",
            "Misplaced stone with index: 60 with probability of being black 0.2596166875899599, value [103], probability of being none 0.31451408969336886, , probability of being white 0.4258692227166712\n",
            "Misplaced stone with index: 61 with probability of being black 0.25949592005885497, value [0], probability of being none 0.3149532041171228, , probability of being white 0.4255508758240222\n",
            "Misplaced stone with index: 62 with probability of being black 0.25950178669829127, value [5], probability of being none 0.3149318803282264, , probability of being white 0.4255663329734823\n",
            "Misplaced stone with index: 63 with probability of being black 0.25950178669829127, value [5], probability of being none 0.3149318803282264, , probability of being white 0.4255663329734823\n",
            "Misplaced stone with index: 64 with probability of being black 0.2594783176078444, value [-15], probability of being none 0.315017180106215, , probability of being white 0.42550450228594067\n",
            "Misplaced stone with index: 65 with probability of being black 0.21864786381989665, value [-29295], probability of being none 0.45047302806990236, , probability of being white 0.3308791081102009\n",
            "Misplaced stone with index: 66 with probability of being black 0.2596225455301733, value [108], probability of being none 0.3144927817894512, , probability of being white 0.42588467268037544\n",
            "Misplaced stone with index: 67 with probability of being black 0.217456448012104, value [-30047], probability of being none 0.45414547998813115, , probability of being white 0.32839807199976484\n",
            "Misplaced stone with index: 68 with probability of being black 0.25934441486750887, value [-129], probability of being none 0.31550362404924664, , probability of being white 0.4251519610832445\n",
            "Misplaced stone with index: 69 with probability of being black 0.21582063168812146, value [-31074], probability of being none 0.45916850051380115, , probability of being white 0.32501086779807736\n",
            "Misplaced stone with index: 70 with probability of being black 0.2596166875899599, value [103], probability of being none 0.31451408969336886, , probability of being white 0.4258692227166712\n",
            "Misplaced stone with index: 71 with probability of being black 0.25947479666178136, value [-18], probability of being none 0.3150299761359625, , probability of being white 0.42549522720225613\n",
            "Misplaced stone with index: 72 with probability of being black 0.25942431307266584, value [-61], probability of being none 0.31521341635887906, , probability of being white 0.425362270568455\n",
            "Misplaced stone with index: 73 with probability of being black 0.2596166875899599, value [103], probability of being none 0.31451408969336886, , probability of being white 0.4258692227166712\n",
            "Misplaced stone with index: 74 with probability of being black 0.2596166875899599, value [103], probability of being none 0.31451408969336886, , probability of being white 0.4258692227166712\n",
            "Misplaced stone with index: 75 with probability of being black 0.21785789457048071, value [-29794], probability of being none 0.45290938526551056, , probability of being white 0.32923272016400884\n",
            "Misplaced stone with index: 76 with probability of being black 0.2593408881498388, value [-132], probability of being none 0.31551643060606605, , probability of being white 0.4251426812440951\n",
            "Misplaced stone with index: 77 with probability of being black 0.2596225455301733, value [108], probability of being none 0.3144927817894512, , probability of being white 0.42588467268037544\n",
            "Misplaced stone with index: 78 with probability of being black 0.217456448012104, value [-30047], probability of being none 0.45414547998813115, , probability of being white 0.32839807199976484\n",
            "Misplaced stone with index: 79 with probability of being black 0.21785789457048071, value [-29794], probability of being none 0.45290938526551056, , probability of being white 0.32923272016400884\n",
            "Misplaced stone with index: 80 with probability of being black 0.2596120009336303, value [99], probability of being none 0.3145311365721484, , probability of being white 0.42585686249422133\n",
            "Misplaced stone with index: 81 with probability of being black 0.25961551595122373, value [102], probability of being none 0.31451835136676143, , probability of being white 0.42586613268201484\n",
            "Misplaced stone with index: 82 with probability of being black 0.22203237772724507, value [-27139], probability of being none 0.4399738547995189, , probability of being white 0.33799376747323595\n",
            "Misplaced stone with index: 83 with probability of being black 0.2594982667652856, value [2], probability of being none 0.31494467450910774, , probability of being white 0.4255570587256067\n",
            "Misplaced stone with index: 84 with probability of being black 0.2594982667652856, value [2], probability of being none 0.31494467450910774, , probability of being white 0.4255570587256067\n",
            "Misplaced stone with index: 85 with probability of being black 0.21705279873391028, value [-30301], probability of being none 0.4553870005158208, , probability of being white 0.3275602007502689\n",
            "Misplaced stone with index: 86 with probability of being black 0.2149790286411513, value [-31600], probability of being none 0.46174424661838576, , probability of being white 0.323276724740463\n",
            "Misplaced stone with index: 87 with probability of being black 0.2596166875899599, value [103], probability of being none 0.31451408969336886, , probability of being white 0.4258692227166712\n",
            "Misplaced stone with index: 88 with probability of being black 0.2182539739115843, value [-29544], probability of being none 0.45168848986350985, , probability of being white 0.3300575362249059\n",
            "Misplaced stone with index: 89 with probability of being black 0.23720282880815396, value [-17025], probability of being none 0.3915524688230267, , probability of being white 0.37124470236881935\n",
            "Misplaced stone with index: 90 with probability of being black 0.2596225455301733, value [108], probability of being none 0.3144927817894512, , probability of being white 0.42588467268037544\n",
            "Misplaced stone with index: 91 with probability of being black 0.25950413323586674, value [7], probability of being none 0.31492335102840563, , probability of being white 0.4255725157357277\n",
            "Misplaced stone with index: 92 with probability of being black 0.25950178669829127, value [5], probability of being none 0.3149318803282264, , probability of being white 0.4255663329734823\n",
            "Misplaced stone with index: 93 with probability of being black 0.2154017454181197, value [-31336], probability of being none 0.460451228203195, , probability of being white 0.32414702637868525\n",
            "Misplaced stone with index: 94 with probability of being black 0.2596213739759267, value [107], probability of being none 0.31449704330849376, , probability of being white 0.4258815827155796\n",
            "Misplaced stone with index: 95 with probability of being black 0.2251543499806689, value [-25122], probability of being none 0.4301979227922276, , probability of being white 0.34464772722710346\n",
            "Misplaced stone with index: 96 with probability of being black 0.25938437372290973, value [-95], probability of being none 0.3153585024189176, , probability of being white 0.4252571238581726\n",
            "Misplaced stone with index: 97 with probability of being black 0.22613861552538667, value [-24480], probability of being none 0.4270969322062408, , probability of being white 0.34676445226837266\n",
            "Misplaced stone with index: 98 with probability of being black 0.2248190740217032, value [-25340], probability of being none 0.4312521252863345, , probability of being white 0.3439288006919623\n",
            "Misplaced stone with index: 99 with probability of being black 0.2596225455301733, value [108], probability of being none 0.3144927817894512, , probability of being white 0.42588467268037544\n",
            "Misplaced stone with index: 100 with probability of being black 0.25961434429559, value [101], probability of being none 0.3145226130710226, , probability of being white 0.4258630426333875\n",
            "Misplaced stone with index: 101 with probability of being black 0.25961551595122373, value [102], probability of being none 0.31451835136676143, , probability of being white 0.42586613268201484\n",
            "Misplaced stone with index: 102 with probability of being black 0.22581410934578616, value [-24692], probability of being none 0.4281203342825713, , probability of being white 0.3460655563716425\n",
            "Misplaced stone with index: 103 with probability of being black 0.21903640983982625, value [-29049], probability of being none 0.4492727634115333, , probability of being white 0.3316908267486404\n",
            "Misplaced stone with index: 104 with probability of being black 0.2596166875899599, value [103], probability of being none 0.31451408969336886, , probability of being white 0.4258692227166712\n",
            "Misplaced stone with index: 105 with probability of being black 0.25961551595122373, value [102], probability of being none 0.31451835136676143, , probability of being white 0.42586613268201484\n",
            "Misplaced stone with index: 106 with probability of being black 0.25950178669829127, value [5], probability of being none 0.3149318803282264, , probability of being white 0.4255663329734823\n",
            "Misplaced stone with index: 107 with probability of being black 0.25961551595122373, value [102], probability of being none 0.31451835136676143, , probability of being white 0.42586613268201484\n",
            "Misplaced stone with index: 108 with probability of being black 0.21864786381989665, value [-29295], probability of being none 0.45047302806990236, , probability of being white 0.3308791081102009\n",
            "Misplaced stone with index: 109 with probability of being black 0.25961551595122373, value [102], probability of being none 0.31451835136676143, , probability of being white 0.42586613268201484\n",
            "Misplaced stone with index: 110 with probability of being black 0.25926561534485976, value [-196], probability of being none 0.31578970306105664, , probability of being white 0.42494468159408355\n",
            "Misplaced stone with index: 111 with probability of being black 0.25949592005885497, value [0], probability of being none 0.3149532041171228, , probability of being white 0.4255508758240222\n",
            "Misplaced stone with index: 112 with probability of being black 0.2596213739759267, value [107], probability of being none 0.31449704330849376, , probability of being white 0.4258815827155796\n",
            "Misplaced stone with index: 113 with probability of being black 0.2596120009336303, value [99], probability of being none 0.3145311365721484, , probability of being white 0.42585686249422133\n",
            "Misplaced stone with index: 114 with probability of being black 0.21785789457048071, value [-29794], probability of being none 0.45290938526551056, , probability of being white 0.32923272016400884\n",
            "Misplaced stone with index: 115 with probability of being black 0.2594982667652856, value [2], probability of being none 0.31494467450910774, , probability of being white 0.4255570587256067\n",
            "Misplaced stone with index: 116 with probability of being black 0.25950178669829127, value [5], probability of being none 0.3149318803282264, , probability of being white 0.4255663329734823\n",
            "Misplaced stone with index: 117 with probability of being black 0.25950178669829127, value [5], probability of being none 0.3149318803282264, , probability of being white 0.4255663329734823\n",
            "Misplaced stone with index: 118 with probability of being black 0.25961551595122373, value [102], probability of being none 0.31451835136676143, , probability of being white 0.42586613268201484\n",
            "Misplaced stone with index: 119 with probability of being black 0.2592856164209443, value [-179], probability of being none 0.31571710278736603, , probability of being white 0.4249972807916898\n",
            "Misplaced stone with index: 120 with probability of being black 0.25950178669829127, value [5], probability of being none 0.3149318803282264, , probability of being white 0.4255663329734823\n",
            "Misplaced stone with index: 121 with probability of being black 0.2594982667652856, value [2], probability of being none 0.31494467450910774, , probability of being white 0.4255570587256067\n",
            "Misplaced stone with index: 122 with probability of being black 0.25961551595122373, value [102], probability of being none 0.31451835136676143, , probability of being white 0.42586613268201484\n",
            "Misplaced stone with index: 123 with probability of being black 0.21623410031848572, value [-30815], probability of being none 0.4579009618631813, , probability of being white 0.32586493781833303\n",
            "Misplaced stone with index: 124 with probability of being black 0.217456448012104, value [-30047], probability of being none 0.45414547998813115, , probability of being white 0.32839807199976484\n",
            "Misplaced stone with index: 125 with probability of being black 0.2182539739115843, value [-29544], probability of being none 0.45168848986350985, , probability of being white 0.3300575362249059\n",
            "Misplaced stone with index: 126 with probability of being black 0.2596225455301733, value [108], probability of being none 0.3144927817894512, , probability of being white 0.42588467268037544\n",
            "Misplaced stone with index: 127 with probability of being black 0.2182539739115843, value [-29544], probability of being none 0.45168848986350985, , probability of being white 0.3300575362249059\n",
            "Misplaced stone with index: 128 with probability of being black 0.2248190740217032, value [-25340], probability of being none 0.4312521252863345, , probability of being white 0.3439288006919623\n",
            "Misplaced stone with index: 129 with probability of being black 0.25936909763997545, value [-108], probability of being none 0.3154139859020493, , probability of being white 0.42521691645797527\n",
            "Misplaced stone with index: 130 with probability of being black 0.21455407827441925, value [-31865], probability of being none 0.4630426491816945, , probability of being white 0.3224032725438863\n",
            "Misplaced stone with index: 131 with probability of being black 0.25936087087581444, value [-115], probability of being none 0.3154438637772599, , probability of being white 0.42519526534692575\n",
            "Misplaced stone with index: 132 with probability of being black 0.25961551595122373, value [102], probability of being none 0.31451835136676143, , probability of being white 0.42586613268201484\n",
            "Misplaced stone with index: 133 with probability of being black 0.2596225455301733, value [108], probability of being none 0.3144927817894512, , probability of being white 0.42588467268037544\n",
            "Misplaced stone with index: 134 with probability of being black 0.2594043458362966, value [-78], probability of being none 0.3152859549413809, , probability of being white 0.4253096992223226\n",
            "Misplaced stone with index: 135 with probability of being black 0.2594407530166776, value [-47], probability of being none 0.31515368538341093, , probability of being white 0.42540556159991155\n",
            "Misplaced stone with index: 136 with probability of being black 0.2182539739115843, value [-29544], probability of being none 0.45168848986350985, , probability of being white 0.3300575362249059\n",
            "Misplaced stone with index: 137 with probability of being black 0.22548602463549708, value [-24906], probability of being none 0.4291539950750939, , probability of being white 0.34535998028940906\n",
            "Misplaced stone with index: 138 with probability of being black 0.259494746680312, value [-1], probability of being none 0.31495746896735716, , probability of being white 0.4255477843523309\n",
            "Misplaced stone with index: 139 with probability of being black 0.25946540672944235, value [-26], probability of being none 0.3150641002375017, , probability of being white 0.42547049303305595\n",
            "Misplaced stone with index: 140 with probability of being black 0.217456448012104, value [-30047], probability of being none 0.45414547998813115, , probability of being white 0.32839807199976484\n",
            "Misplaced stone with index: 141 with probability of being black 0.24923842461620904, value [-8262], probability of being none 0.35119046874239174, , probability of being white 0.39957110664139917\n",
            "Misplaced stone with index: 142 with probability of being black 0.25961551595122373, value [102], probability of being none 0.31451835136676143, , probability of being white 0.42586613268201484\n",
            "Misplaced stone with index: 143 with probability of being black 0.2596166875899599, value [103], probability of being none 0.31451408969336886, , probability of being white 0.4258692227166712\n",
            "Misplaced stone with index: 144 with probability of being black 0.25961551595122373, value [102], probability of being none 0.31451835136676143, , probability of being white 0.42586613268201484\n",
            "Misplaced stone with index: 145 with probability of being black 0.2595592574226078, value [54], probability of being none 0.3147229479818269, , probability of being white 0.42571779459556536\n",
            "Misplaced stone with index: 146 with probability of being black 0.2596120009336303, value [99], probability of being none 0.3145311365721484, , probability of being white 0.42585686249422133\n",
            "Misplaced stone with index: 147 with probability of being black 0.25961551595122373, value [102], probability of being none 0.31451835136676143, , probability of being white 0.42586613268201484\n",
            "Misplaced stone with index: 148 with probability of being black 0.25942431307266584, value [-61], probability of being none 0.31521341635887906, , probability of being white 0.425362270568455\n",
            "Misplaced stone with index: 149 with probability of being black 0.2595897356241619, value [80], probability of being none 0.31461211599025524, , probability of being white 0.4257981483855829\n",
            "Misplaced stone with index: 150 with probability of being black 0.25950178669829127, value [5], probability of being none 0.3149318803282264, , probability of being white 0.4255663329734823\n",
            "Misplaced stone with index: 151 with probability of being black 0.2182539739115843, value [-29544], probability of being none 0.45168848986350985, , probability of being white 0.3300575362249059\n",
            "Misplaced stone with index: 152 with probability of being black 0.2595897356241619, value [80], probability of being none 0.31461211599025524, , probability of being white 0.4257981483855829\n",
            "Misplaced stone with index: 153 with probability of being black 0.2596096575040819, value [97], probability of being none 0.31453966019674234, , probability of being white 0.4258506822991757\n",
            "Misplaced stone with index: 154 with probability of being black 0.217456448012104, value [-30047], probability of being none 0.45414547998813115, , probability of being white 0.32839807199976484\n",
            "Misplaced stone with index: 155 with probability of being black 0.2596213739759267, value [107], probability of being none 0.31449704330849376, , probability of being white 0.4258815827155796\n",
            "Misplaced stone with index: 156 with probability of being black 0.25961551595122373, value [102], probability of being none 0.31451835136676143, , probability of being white 0.42586613268201484\n",
            "Misplaced stone with index: 157 with probability of being black 0.23096089930585334, value [-21288], probability of being none 0.4117657000145385, , probability of being white 0.35727340067960817\n",
            "Misplaced stone with index: 158 with probability of being black 0.25961551595122373, value [102], probability of being none 0.31451835136676143, , probability of being white 0.42586613268201484\n",
            "Misplaced stone with index: 159 with probability of being black 0.2596096575040819, value [97], probability of being none 0.31453966019674234, , probability of being white 0.4258506822991757\n",
            "Misplaced stone with index: 160 with probability of being black 0.25961551595122373, value [102], probability of being none 0.31451835136676143, , probability of being white 0.42586613268201484\n",
            "Misplaced stone with index: 161 with probability of being black 0.21664535238324617, value [-30557], probability of being none 0.4566388288994868, , probability of being white 0.32671581871726696\n",
            "Misplaced stone with index: 162 with probability of being black 0.2596225455301733, value [108], probability of being none 0.3144927817894512, , probability of being white 0.42588467268037544\n",
            "Misplaced stone with index: 163 with probability of being black 0.25961551595122373, value [102], probability of being none 0.31451835136676143, , probability of being white 0.42586613268201484\n",
            "Misplaced stone with index: 164 with probability of being black 0.2596213739759267, value [107], probability of being none 0.31449704330849376, , probability of being white 0.4258815827155796\n",
            "Misplaced stone with index: 165 with probability of being black 0.21942278034599552, value [-28804], probability of being none 0.44807793788269124, , probability of being white 0.3324992817713132\n",
            "Misplaced stone with index: 166 with probability of being black 0.21785789457048071, value [-29794], probability of being none 0.45290938526551056, , probability of being white 0.32923272016400884\n",
            "Misplaced stone with index: 167 with probability of being black 0.2596213739759267, value [107], probability of being none 0.31449704330849376, , probability of being white 0.4258815827155796\n",
            "Misplaced stone with index: 168 with probability of being black 0.25959676743346, value [86], probability of being none 0.31458654233882466, , probability of being white 0.4258166902277154\n",
            "Misplaced stone with index: 169 with probability of being black 0.22613861552538667, value [-24480], probability of being none 0.4270969322062408, , probability of being white 0.34676445226837266\n",
            "Misplaced stone with index: 170 with probability of being black 0.22056102007586353, value [-28080], probability of being none 0.44455050313948113, , probability of being white 0.33488847678465544\n",
            "Misplaced stone with index: 171 with probability of being black 0.2596213739759267, value [107], probability of being none 0.31449704330849376, , probability of being white 0.4258815827155796\n",
            "Misplaced stone with index: 172 with probability of being black 0.2596225455301733, value [108], probability of being none 0.3144927817894512, , probability of being white 0.42588467268037544\n",
            "Misplaced stone with index: 173 with probability of being black 0.2595815310779325, value [73], probability of being none 0.31464195332093664, , probability of being white 0.4257765156011308\n",
            "Misplaced stone with index: 174 with probability of being black 0.2596166875899599, value [103], probability of being none 0.31451408969336886, , probability of being white 0.4258692227166712\n",
            "Misplaced stone with index: 175 with probability of being black 0.25961551595122373, value [102], probability of being none 0.31451835136676143, , probability of being white 0.42586613268201484\n",
            "Misplaced stone with index: 176 with probability of being black 0.25961551595122373, value [102], probability of being none 0.31451835136676143, , probability of being white 0.42586613268201484\n",
            "Misplaced stone with index: 177 with probability of being black 0.2594900529972915, value [-5], probability of being none 0.31497452867646136, , probability of being white 0.4255354183262471\n",
            "Misplaced stone with index: 178 with probability of being black 0.2596084857639621, value [96], probability of being none 0.31454392205533865, , probability of being white 0.4258475921806991\n",
            "Misplaced stone with index: 179 with probability of being black 0.2594818384019582, value [-12], probability of being none 0.3150043843537592, , probability of being white 0.4255137772442827\n",
            "Misplaced stone with index: 180 with probability of being black 0.2596213739759267, value [107], probability of being none 0.31449704330849376, , probability of being white 0.4258815827155796\n",
            "Misplaced stone with index: 181 with probability of being black 0.25947479666178136, value [-18], probability of being none 0.3150299761359625, , probability of being white 0.42549522720225613\n",
            "Misplaced stone with index: 182 with probability of being black 0.25961551595122373, value [102], probability of being none 0.31451835136676143, , probability of being white 0.42586613268201484\n",
            "Misplaced stone with index: 183 with probability of being black 0.2595006134041749, value [4], probability of being none 0.3149361450243673, , probability of being white 0.4255632415714577\n",
            "Misplaced stone with index: 184 with probability of being black 0.21903640983982625, value [-29049], probability of being none 0.4492727634115333, , probability of being white 0.3316908267486404\n",
            "Misplaced stone with index: 185 with probability of being black 0.217456448012104, value [-30047], probability of being none 0.45414547998813115, , probability of being white 0.32839807199976484\n",
            "Misplaced stone with index: 186 with probability of being black 0.2201858623187157, value [-28319], probability of being none 0.44571437221998883, , probability of being white 0.33409976546129555\n",
            "Misplaced stone with index: 187 with probability of being black 0.2182539739115843, value [-29544], probability of being none 0.45168848986350985, , probability of being white 0.3300575362249059\n",
            "Misplaced stone with index: 188 with probability of being black 0.25961551595122373, value [102], probability of being none 0.31451835136676143, , probability of being white 0.42586613268201484\n",
            "Misplaced stone with index: 189 with probability of being black 0.2595006134041749, value [4], probability of being none 0.3149361450243673, , probability of being white 0.4255632415714577\n",
            "Misplaced stone with index: 190 with probability of being black 0.21903640983982625, value [-29049], probability of being none 0.4492727634115333, , probability of being white 0.3316908267486404\n",
            "Misplaced stone with index: 191 with probability of being black 0.2594736229793278, value [-19], probability of being none 0.31503424154082976, , probability of being white 0.4254921354798425\n",
            "Misplaced stone with index: 192 with probability of being black 0.2596166875899599, value [103], probability of being none 0.31451408969336886, , probability of being white 0.4258692227166712\n",
            "Misplaced stone with index: 193 with probability of being black 0.25961903081673915, value [105], probability of being none 0.31450556643919125, , probability of being white 0.4258754027440696\n",
            "Misplaced stone with index: 194 with probability of being black 0.2596225455301733, value [108], probability of being none 0.3144927817894512, , probability of being white 0.42588467268037544\n",
            "Misplaced stone with index: 195 with probability of being black 0.2596213739759267, value [107], probability of being none 0.31449704330849376, , probability of being white 0.4258815827155796\n",
            "Misplaced stone with index: 196 with probability of being black 0.2593749733939393, value [-103], probability of being none 0.315392645485512, , probability of being white 0.42523238112054873\n",
            "Misplaced stone with index: 197 with probability of being black 0.25959442356460843, value [84], probability of being none 0.3145950667658645, , probability of being white 0.42581050966952705\n",
            "Misplaced stone with index: 198 with probability of being black 0.22613861552538667, value [-24480], probability of being none 0.4270969322062408, , probability of being white 0.34676445226837266\n",
            "Misplaced stone with index: 199 with probability of being black 0.21903640983982625, value [-29049], probability of being none 0.4492727634115333, , probability of being white 0.3316908267486404\n",
            "Misplaced stone with index: 200 with probability of being black 0.2593561694965593, value [-119], probability of being none 0.3154609375255425, , probability of being white 0.4251828929778982\n",
            "Misplaced stone with index: 201 with probability of being black 0.2596213739759267, value [107], probability of being none 0.31449704330849376, , probability of being white 0.4258815827155796\n",
            "Misplaced stone with index: 202 with probability of being black 0.2596213739759267, value [107], probability of being none 0.31449704330849376, , probability of being white 0.4258815827155796\n",
            "Misplaced stone with index: 203 with probability of being black 0.2596225455301733, value [108], probability of being none 0.3144927817894512, , probability of being white 0.42588467268037544\n"
          ]
        }
      ],
      "source": [
        "y_train_pred = gs.predict_proba(X_train) # predict_proba\n",
        "y_train_pred = predict_stone(y_train_pred, 0.6, X_train)"
      ]
    },
    {
      "cell_type": "code",
      "source": [
        "from sklearn.metrics import classification_report\n",
        "\n",
        "# Get predictions\n",
        "print(classification_report(y_train, y_train_pred))"
      ],
      "metadata": {
        "colab": {
          "base_uri": "https://localhost:8080/"
        },
        "id": "9FtsoagsM4Yw",
        "outputId": "b29bbfe1-3b23-4248-faf5-1962bd5247c0"
      },
      "id": "9FtsoagsM4Yw",
      "execution_count": 111,
      "outputs": [
        {
          "output_type": "stream",
          "name": "stdout",
          "text": [
            "              precision    recall  f1-score   support\n",
            "\n",
            "       black       0.00      0.00      0.00      50.0\n",
            "   misplaced       0.00      0.00      0.00       0.0\n",
            "        none       0.00      0.00      0.00      74.0\n",
            "       white       0.00      0.00      0.00      80.0\n",
            "\n",
            "    accuracy                           0.00     204.0\n",
            "   macro avg       0.00      0.00      0.00     204.0\n",
            "weighted avg       0.00      0.00      0.00     204.0\n",
            "\n"
          ]
        }
      ]
    },
    {
      "cell_type": "code",
      "source": [
        "y_train_pred_class = pd.DataFrame(y_train_pred).value_counts()\n",
        "y_train_pred_class"
      ],
      "metadata": {
        "colab": {
          "base_uri": "https://localhost:8080/"
        },
        "id": "vqoeiso5NUQi",
        "outputId": "586627cb-0791-4d8d-c5a2-b3fda682d7cb"
      },
      "id": "vqoeiso5NUQi",
      "execution_count": 112,
      "outputs": [
        {
          "output_type": "execute_result",
          "data": {
            "text/plain": [
              "misplaced    204\n",
              "dtype: int64"
            ]
          },
          "metadata": {},
          "execution_count": 112
        }
      ]
    },
    {
      "cell_type": "code",
      "source": [
        "y_test_pred = gs.predict_proba(X_test)\n",
        "y_test_pred = predict_stone(y_test_pred, 0.8, X_test)\n",
        "print(classification_report(y_test, y_test_pred))"
      ],
      "metadata": {
        "colab": {
          "base_uri": "https://localhost:8080/"
        },
        "id": "bn91P2xmuA4F",
        "outputId": "f3cfd28a-d7dc-43ec-d55f-f13cdb1fb1b1"
      },
      "id": "bn91P2xmuA4F",
      "execution_count": 113,
      "outputs": [
        {
          "output_type": "stream",
          "name": "stdout",
          "text": [
            "Misplaced stone with index: 0 with probability of being black 0.2596049704422226, value [93], probability of being none 0.3145567078163189, , probability of being white 0.4258383217414585\n",
            "Misplaced stone with index: 1 with probability of being black 0.25961551595122373, value [102], probability of being none 0.31451835136676143, , probability of being white 0.42586613268201484\n",
            "Misplaced stone with index: 2 with probability of being black 0.2595076529155851, value [10], probability of being none 0.3149105573098345, , probability of being white 0.42558178977458044\n",
            "Misplaced stone with index: 3 with probability of being black 0.21980540428028483, value [-28561], probability of being none 0.44689343142885407, , probability of being white 0.33330116429086115\n",
            "Misplaced stone with index: 4 with probability of being black 0.25943018486100483, value [-56], probability of being none 0.31519208317485753, , probability of being white 0.42537773196413775\n",
            "Misplaced stone with index: 5 with probability of being black 0.22548602463549708, value [-24906], probability of being none 0.4291539950750939, , probability of being white 0.34535998028940906\n",
            "Misplaced stone with index: 6 with probability of being black 0.2596225455301733, value [108], probability of being none 0.3144927817894512, , probability of being white 0.42588467268037544\n",
            "Misplaced stone with index: 7 with probability of being black 0.25950178669829127, value [5], probability of being none 0.3149318803282264, , probability of being white 0.4255663329734823\n",
            "Misplaced stone with index: 8 with probability of being black 0.21664535238324617, value [-30557], probability of being none 0.4566388288994868, , probability of being white 0.32671581871726696\n",
            "Misplaced stone with index: 9 with probability of being black 0.25950178669829127, value [5], probability of being none 0.3149318803282264, , probability of being white 0.4255663329734823\n",
            "Misplaced stone with index: 10 with probability of being black 0.2497655377698572, value [-7858], probability of being none 0.3493743464657483, , probability of being white 0.40086011576439445\n",
            "Misplaced stone with index: 11 with probability of being black 0.25949592005885497, value [0], probability of being none 0.3149532041171228, , probability of being white 0.4255508758240222\n",
            "Misplaced stone with index: 12 with probability of being black 0.25961434429559, value [101], probability of being none 0.3145226130710226, , probability of being white 0.4258630426333875\n",
            "Misplaced stone with index: 13 with probability of being black 0.25940786982064673, value [-75], probability of being none 0.3152731533686349, , probability of being white 0.42531897681071834\n",
            "Misplaced stone with index: 14 with probability of being black 0.2596225455301733, value [108], probability of being none 0.3144927817894512, , probability of being white 0.42588467268037544\n",
            "Misplaced stone with index: 15 with probability of being black 0.25962020240478195, value [106], probability of being none 0.3145013048584072, , probability of being white 0.4258784927368108\n",
            "Misplaced stone with index: 16 with probability of being black 0.2182539739115843, value [-29544], probability of being none 0.45168848986350985, , probability of being white 0.3300575362249059\n",
            "Misplaced stone with index: 17 with probability of being black 0.22613861552538667, value [-24480], probability of being none 0.4270969322062408, , probability of being white 0.34676445226837266\n",
            "Misplaced stone with index: 18 with probability of being black 0.25961551595122373, value [102], probability of being none 0.31451835136676143, , probability of being white 0.42586613268201484\n",
            "Misplaced stone with index: 19 with probability of being black 0.2596213739759267, value [107], probability of being none 0.31449704330849376, , probability of being white 0.4258815827155796\n",
            "Misplaced stone with index: 20 with probability of being black 0.25950178669829127, value [5], probability of being none 0.3149318803282264, , probability of being white 0.4255663329734823\n",
            "Misplaced stone with index: 21 with probability of being black 0.25961551595122373, value [102], probability of being none 0.31451835136676143, , probability of being white 0.42586613268201484\n",
            "Misplaced stone with index: 22 with probability of being black 0.2594888795343249, value [-6], probability of being none 0.31497879368077664, , probability of being white 0.4255323267848985\n",
            "Misplaced stone with index: 23 with probability of being black 0.21942278034599552, value [-28804], probability of being none 0.44807793788269124, , probability of being white 0.3324992817713132\n",
            "Misplaced stone with index: 24 with probability of being black 0.217456448012104, value [-30047], probability of being none 0.45414547998813115, , probability of being white 0.32839807199976484\n",
            "Misplaced stone with index: 25 with probability of being black 0.23991788414018003, value [-15117], probability of being none 0.3826178226429426, , probability of being white 0.3774642932168774\n",
            "Misplaced stone with index: 26 with probability of being black 0.25936087087581444, value [-115], probability of being none 0.3154438637772599, , probability of being white 0.42519526534692575\n",
            "Misplaced stone with index: 27 with probability of being black 0.25950178669829127, value [5], probability of being none 0.3149318803282264, , probability of being white 0.4255663329734823\n",
            "Misplaced stone with index: 28 with probability of being black 0.25961551595122373, value [102], probability of being none 0.31451835136676143, , probability of being white 0.42586613268201484\n",
            "Misplaced stone with index: 29 with probability of being black 0.25961551595122373, value [102], probability of being none 0.31451835136676143, , probability of being white 0.42586613268201484\n",
            "Misplaced stone with index: 30 with probability of being black 0.25950178669829127, value [5], probability of being none 0.3149318803282264, , probability of being white 0.4255663329734823\n",
            "Misplaced stone with index: 31 with probability of being black 0.25961551595122373, value [102], probability of being none 0.31451835136676143, , probability of being white 0.42586613268201484\n",
            "Misplaced stone with index: 32 with probability of being black 0.2501695702413119, value [-7547], probability of being none 0.34797921533946596, , probability of being white 0.40185121441922206\n",
            "Misplaced stone with index: 33 with probability of being black 0.25959793934254244, value [87], probability of being none 0.31458228017159523, , probability of being white 0.4258197804858623\n",
            "Misplaced stone with index: 34 with probability of being black 0.2596166875899599, value [103], probability of being none 0.31451408969336886, , probability of being white 0.4258692227166712\n",
            "Misplaced stone with index: 35 with probability of being black 0.25961434429559, value [101], probability of being none 0.3145226130710226, , probability of being white 0.4258630426333875\n",
            "Misplaced stone with index: 36 with probability of being black 0.21903640983982625, value [-29049], probability of being none 0.4492727634115333, , probability of being white 0.3316908267486404\n",
            "Misplaced stone with index: 37 with probability of being black 0.2596166875899599, value [103], probability of being none 0.31451408969336886, , probability of being white 0.4258692227166712\n",
            "Misplaced stone with index: 38 with probability of being black 0.25957449795086757, value [67], probability of being none 0.3146675293791226, , probability of being white 0.4257579726700098\n",
            "Misplaced stone with index: 39 with probability of being black 0.2596166875899599, value [103], probability of being none 0.31451408969336886, , probability of being white 0.4258692227166712\n",
            "Misplaced stone with index: 40 with probability of being black 0.2594724492799914, value [-20], probability of being none 0.31503850697650515, , probability of being white 0.4254890437435034\n",
            "Misplaced stone with index: 41 with probability of being black 0.25961551595122373, value [102], probability of being none 0.31451835136676143, , probability of being white 0.42586613268201484\n",
            "Misplaced stone with index: 42 with probability of being black 0.2182539739115843, value [-29544], probability of being none 0.45168848986350985, , probability of being white 0.3300575362249059\n",
            "Misplaced stone with index: 43 with probability of being black 0.2595076529155851, value [10], probability of being none 0.3149105573098345, , probability of being white 0.42558178977458044\n",
            "Misplaced stone with index: 44 with probability of being black 0.21903640983982625, value [-29049], probability of being none 0.4492727634115333, , probability of being white 0.3316908267486404\n",
            "Misplaced stone with index: 45 with probability of being black 0.21903640983982625, value [-29049], probability of being none 0.4492727634115333, , probability of being white 0.3316908267486404\n",
            "Misplaced stone with index: 46 with probability of being black 0.21623410031848572, value [-30815], probability of being none 0.4579009618631813, , probability of being white 0.32586493781833303\n",
            "Misplaced stone with index: 47 with probability of being black 0.217456448012104, value [-30047], probability of being none 0.45414547998813115, , probability of being white 0.32839807199976484\n",
            "Misplaced stone with index: 48 with probability of being black 0.25961551595122373, value [102], probability of being none 0.31451835136676143, , probability of being white 0.42586613268201484\n",
            "Misplaced stone with index: 49 with probability of being black 0.2182539739115843, value [-29544], probability of being none 0.45168848986350985, , probability of being white 0.3300575362249059\n",
            "Misplaced stone with index: 50 with probability of being black 0.217456448012104, value [-30047], probability of being none 0.45414547998813115, , probability of being white 0.32839807199976484\n",
            "              precision    recall  f1-score   support\n",
            "\n",
            "       black       0.00      0.00      0.00      13.0\n",
            "   misplaced       0.00      0.00      0.00       0.0\n",
            "        none       0.00      0.00      0.00      18.0\n",
            "       white       0.00      0.00      0.00      20.0\n",
            "\n",
            "    accuracy                           0.00      51.0\n",
            "   macro avg       0.00      0.00      0.00      51.0\n",
            "weighted avg       0.00      0.00      0.00      51.0\n",
            "\n"
          ]
        }
      ]
    },
    {
      "cell_type": "code",
      "source": [
        "y_test_pred_class = pd.DataFrame(y_test_pred).value_counts()\n",
        "y_test_pred_class"
      ],
      "metadata": {
        "colab": {
          "base_uri": "https://localhost:8080/"
        },
        "id": "pxUE2jp3uDc5",
        "outputId": "6095b4fc-de17-4466-a1df-607d988be4aa"
      },
      "id": "pxUE2jp3uDc5",
      "execution_count": 114,
      "outputs": [
        {
          "output_type": "execute_result",
          "data": {
            "text/plain": [
              "misplaced    51\n",
              "dtype: int64"
            ]
          },
          "metadata": {},
          "execution_count": 114
        }
      ]
    },
    {
      "cell_type": "markdown",
      "id": "e3b9e2e1-b55f-4485-bafb-93709b4041d9",
      "metadata": {
        "id": "e3b9e2e1-b55f-4485-bafb-93709b4041d9"
      },
      "source": [
        "# Random forest"
      ]
    },
    {
      "cell_type": "code",
      "execution_count": 115,
      "id": "14cac057-6483-40e4-ad14-37c351907f9d",
      "metadata": {
        "id": "14cac057-6483-40e4-ad14-37c351907f9d"
      },
      "outputs": [],
      "source": [
        "from sklearn.ensemble import RandomForestClassifier"
      ]
    },
    {
      "cell_type": "code",
      "execution_count": 116,
      "id": "883545f3-97c8-4716-98d6-036068153f32",
      "metadata": {
        "id": "883545f3-97c8-4716-98d6-036068153f32",
        "outputId": "7b6b1ece-caa2-4d61-8490-3d8fd26d454e",
        "colab": {
          "base_uri": "https://localhost:8080/",
          "height": 136
        }
      },
      "outputs": [
        {
          "output_type": "stream",
          "name": "stdout",
          "text": [
            "Fitting 10 folds for each of 576 candidates, totalling 5760 fits\n"
          ]
        },
        {
          "output_type": "execute_result",
          "data": {
            "text/plain": [
              "GridSearchCV(cv=10, estimator=RandomForestClassifier(), n_jobs=2,\n",
              "             param_grid={'max_depth': array([2, 3, 4]),\n",
              "                         'min_samples_leaf': array([2, 3, 4, 5, 6, 7, 8, 9]),\n",
              "                         'min_samples_split': array([2, 3, 4, 5, 6, 7, 8, 9]),\n",
              "                         'n_estimators': [10, 20, 30]},\n",
              "             scoring='accuracy', verbose=4)"
            ],
            "text/html": [
              "<style>#sk-container-id-8 {color: black;background-color: white;}#sk-container-id-8 pre{padding: 0;}#sk-container-id-8 div.sk-toggleable {background-color: white;}#sk-container-id-8 label.sk-toggleable__label {cursor: pointer;display: block;width: 100%;margin-bottom: 0;padding: 0.3em;box-sizing: border-box;text-align: center;}#sk-container-id-8 label.sk-toggleable__label-arrow:before {content: \"▸\";float: left;margin-right: 0.25em;color: #696969;}#sk-container-id-8 label.sk-toggleable__label-arrow:hover:before {color: black;}#sk-container-id-8 div.sk-estimator:hover label.sk-toggleable__label-arrow:before {color: black;}#sk-container-id-8 div.sk-toggleable__content {max-height: 0;max-width: 0;overflow: hidden;text-align: left;background-color: #f0f8ff;}#sk-container-id-8 div.sk-toggleable__content pre {margin: 0.2em;color: black;border-radius: 0.25em;background-color: #f0f8ff;}#sk-container-id-8 input.sk-toggleable__control:checked~div.sk-toggleable__content {max-height: 200px;max-width: 100%;overflow: auto;}#sk-container-id-8 input.sk-toggleable__control:checked~label.sk-toggleable__label-arrow:before {content: \"▾\";}#sk-container-id-8 div.sk-estimator input.sk-toggleable__control:checked~label.sk-toggleable__label {background-color: #d4ebff;}#sk-container-id-8 div.sk-label input.sk-toggleable__control:checked~label.sk-toggleable__label {background-color: #d4ebff;}#sk-container-id-8 input.sk-hidden--visually {border: 0;clip: rect(1px 1px 1px 1px);clip: rect(1px, 1px, 1px, 1px);height: 1px;margin: -1px;overflow: hidden;padding: 0;position: absolute;width: 1px;}#sk-container-id-8 div.sk-estimator {font-family: monospace;background-color: #f0f8ff;border: 1px dotted black;border-radius: 0.25em;box-sizing: border-box;margin-bottom: 0.5em;}#sk-container-id-8 div.sk-estimator:hover {background-color: #d4ebff;}#sk-container-id-8 div.sk-parallel-item::after {content: \"\";width: 100%;border-bottom: 1px solid gray;flex-grow: 1;}#sk-container-id-8 div.sk-label:hover label.sk-toggleable__label {background-color: #d4ebff;}#sk-container-id-8 div.sk-serial::before {content: \"\";position: absolute;border-left: 1px solid gray;box-sizing: border-box;top: 0;bottom: 0;left: 50%;z-index: 0;}#sk-container-id-8 div.sk-serial {display: flex;flex-direction: column;align-items: center;background-color: white;padding-right: 0.2em;padding-left: 0.2em;position: relative;}#sk-container-id-8 div.sk-item {position: relative;z-index: 1;}#sk-container-id-8 div.sk-parallel {display: flex;align-items: stretch;justify-content: center;background-color: white;position: relative;}#sk-container-id-8 div.sk-item::before, #sk-container-id-8 div.sk-parallel-item::before {content: \"\";position: absolute;border-left: 1px solid gray;box-sizing: border-box;top: 0;bottom: 0;left: 50%;z-index: -1;}#sk-container-id-8 div.sk-parallel-item {display: flex;flex-direction: column;z-index: 1;position: relative;background-color: white;}#sk-container-id-8 div.sk-parallel-item:first-child::after {align-self: flex-end;width: 50%;}#sk-container-id-8 div.sk-parallel-item:last-child::after {align-self: flex-start;width: 50%;}#sk-container-id-8 div.sk-parallel-item:only-child::after {width: 0;}#sk-container-id-8 div.sk-dashed-wrapped {border: 1px dashed gray;margin: 0 0.4em 0.5em 0.4em;box-sizing: border-box;padding-bottom: 0.4em;background-color: white;}#sk-container-id-8 div.sk-label label {font-family: monospace;font-weight: bold;display: inline-block;line-height: 1.2em;}#sk-container-id-8 div.sk-label-container {text-align: center;}#sk-container-id-8 div.sk-container {/* jupyter's `normalize.less` sets `[hidden] { display: none; }` but bootstrap.min.css set `[hidden] { display: none !important; }` so we also need the `!important` here to be able to override the default hidden behavior on the sphinx rendered scikit-learn.org. See: https://github.com/scikit-learn/scikit-learn/issues/21755 */display: inline-block !important;position: relative;}#sk-container-id-8 div.sk-text-repr-fallback {display: none;}</style><div id=\"sk-container-id-8\" class=\"sk-top-container\"><div class=\"sk-text-repr-fallback\"><pre>GridSearchCV(cv=10, estimator=RandomForestClassifier(), n_jobs=2,\n",
              "             param_grid={&#x27;max_depth&#x27;: array([2, 3, 4]),\n",
              "                         &#x27;min_samples_leaf&#x27;: array([2, 3, 4, 5, 6, 7, 8, 9]),\n",
              "                         &#x27;min_samples_split&#x27;: array([2, 3, 4, 5, 6, 7, 8, 9]),\n",
              "                         &#x27;n_estimators&#x27;: [10, 20, 30]},\n",
              "             scoring=&#x27;accuracy&#x27;, verbose=4)</pre><b>In a Jupyter environment, please rerun this cell to show the HTML representation or trust the notebook. <br />On GitHub, the HTML representation is unable to render, please try loading this page with nbviewer.org.</b></div><div class=\"sk-container\" hidden><div class=\"sk-item sk-dashed-wrapped\"><div class=\"sk-label-container\"><div class=\"sk-label sk-toggleable\"><input class=\"sk-toggleable__control sk-hidden--visually\" id=\"sk-estimator-id-34\" type=\"checkbox\" ><label for=\"sk-estimator-id-34\" class=\"sk-toggleable__label sk-toggleable__label-arrow\">GridSearchCV</label><div class=\"sk-toggleable__content\"><pre>GridSearchCV(cv=10, estimator=RandomForestClassifier(), n_jobs=2,\n",
              "             param_grid={&#x27;max_depth&#x27;: array([2, 3, 4]),\n",
              "                         &#x27;min_samples_leaf&#x27;: array([2, 3, 4, 5, 6, 7, 8, 9]),\n",
              "                         &#x27;min_samples_split&#x27;: array([2, 3, 4, 5, 6, 7, 8, 9]),\n",
              "                         &#x27;n_estimators&#x27;: [10, 20, 30]},\n",
              "             scoring=&#x27;accuracy&#x27;, verbose=4)</pre></div></div></div><div class=\"sk-parallel\"><div class=\"sk-parallel-item\"><div class=\"sk-item\"><div class=\"sk-label-container\"><div class=\"sk-label sk-toggleable\"><input class=\"sk-toggleable__control sk-hidden--visually\" id=\"sk-estimator-id-35\" type=\"checkbox\" ><label for=\"sk-estimator-id-35\" class=\"sk-toggleable__label sk-toggleable__label-arrow\">estimator: RandomForestClassifier</label><div class=\"sk-toggleable__content\"><pre>RandomForestClassifier()</pre></div></div></div><div class=\"sk-serial\"><div class=\"sk-item\"><div class=\"sk-estimator sk-toggleable\"><input class=\"sk-toggleable__control sk-hidden--visually\" id=\"sk-estimator-id-36\" type=\"checkbox\" ><label for=\"sk-estimator-id-36\" class=\"sk-toggleable__label sk-toggleable__label-arrow\">RandomForestClassifier</label><div class=\"sk-toggleable__content\"><pre>RandomForestClassifier()</pre></div></div></div></div></div></div></div></div></div></div>"
            ]
          },
          "metadata": {},
          "execution_count": 116
        }
      ],
      "source": [
        "rfc = RandomForestClassifier()\n",
        "param_grid = {\n",
        "    \"max_depth\": np.arange(2,5),\n",
        "    \"min_samples_split\": np.arange(2,10),\n",
        "    \"min_samples_leaf\": np.arange(2,10),\n",
        "    \"n_estimators\": [10, 20, 30]\n",
        "}\n",
        "\n",
        "gs = GridSearchCV(rfc,\n",
        "                  param_grid,\n",
        "                  cv = 10,\n",
        "                  verbose = 4,\n",
        "                  n_jobs=2,\n",
        "                  scoring='accuracy'\n",
        ")\n",
        "gs.fit(X_train, y_train)"
      ]
    },
    {
      "cell_type": "code",
      "execution_count": 117,
      "id": "043abaef-67f7-4148-af05-dd09c5f9d6e2",
      "metadata": {
        "id": "043abaef-67f7-4148-af05-dd09c5f9d6e2",
        "outputId": "df4ba573-89c0-41bd-ad11-5a406451a95f",
        "colab": {
          "base_uri": "https://localhost:8080/"
        }
      },
      "outputs": [
        {
          "output_type": "stream",
          "name": "stdout",
          "text": [
            "              precision    recall  f1-score   support\n",
            "\n",
            "       black       0.98      1.00      0.99        50\n",
            "        none       1.00      0.99      0.99        74\n",
            "       white       1.00      1.00      1.00        80\n",
            "\n",
            "    accuracy                           1.00       204\n",
            "   macro avg       0.99      1.00      0.99       204\n",
            "weighted avg       1.00      1.00      1.00       204\n",
            "\n"
          ]
        }
      ],
      "source": [
        "y_train_pred = gs.predict(X_train)\n",
        "print(classification_report(y_train, y_train_pred))"
      ]
    },
    {
      "cell_type": "markdown",
      "source": [
        "# Predict classes using probability"
      ],
      "metadata": {
        "id": "8mxUtfPabTlW"
      },
      "id": "8mxUtfPabTlW"
    },
    {
      "cell_type": "code",
      "execution_count": 118,
      "id": "c2fe01d5-6380-4414-9249-cdf01ff54608",
      "metadata": {
        "id": "c2fe01d5-6380-4414-9249-cdf01ff54608",
        "outputId": "86fbcaf6-f5f4-40b3-a93e-46bc2fc07f42",
        "colab": {
          "base_uri": "https://localhost:8080/"
        }
      },
      "outputs": [
        {
          "output_type": "stream",
          "name": "stdout",
          "text": [
            "204\n",
            "Misplaced stone with index: 141 with probability of being black 0.5, value [-8262], probability of being none 0.5, , probability of being white 0.0\n"
          ]
        }
      ],
      "source": [
        "y_train_pred = gs.predict_proba(X_train)\n",
        "print(len(y_train_pred))\n",
        "y_train_pred = predict_stone(y_train_pred, 0.8, X_train)"
      ]
    },
    {
      "cell_type": "code",
      "execution_count": 119,
      "id": "25920064-84a3-47ea-b843-25c221cb3f91",
      "metadata": {
        "id": "25920064-84a3-47ea-b843-25c221cb3f91"
      },
      "outputs": [],
      "source": [
        "values = pd.DataFrame(np.arange(100))\n",
        "values_predict = gs.predict_proba(values)"
      ]
    },
    {
      "cell_type": "code",
      "execution_count": 120,
      "id": "8ff61fbf-cbe4-43c6-9e79-fa0761656f2d",
      "metadata": {
        "id": "8ff61fbf-cbe4-43c6-9e79-fa0761656f2d",
        "outputId": "5abb2700-ad94-4766-a5f2-160a197048e7",
        "colab": {
          "base_uri": "https://localhost:8080/"
        }
      },
      "outputs": [
        {
          "output_type": "stream",
          "name": "stdout",
          "text": [
            "              precision    recall  f1-score   support\n",
            "\n",
            "       black       1.00      1.00      1.00        50\n",
            "   misplaced       0.00      0.00      0.00         0\n",
            "        none       1.00      0.99      0.99        74\n",
            "       white       1.00      1.00      1.00        80\n",
            "\n",
            "    accuracy                           1.00       204\n",
            "   macro avg       0.75      0.75      0.75       204\n",
            "weighted avg       1.00      1.00      1.00       204\n",
            "\n"
          ]
        }
      ],
      "source": [
        "print(classification_report(y_train, y_train_pred))"
      ]
    },
    {
      "cell_type": "code",
      "execution_count": 121,
      "id": "fdb59894-f410-48e0-8415-5c35149d9e85",
      "metadata": {
        "id": "fdb59894-f410-48e0-8415-5c35149d9e85",
        "outputId": "1684eb6b-8760-441c-b2d9-0b327d307d80",
        "colab": {
          "base_uri": "https://localhost:8080/"
        }
      },
      "outputs": [
        {
          "output_type": "execute_result",
          "data": {
            "text/plain": [
              "white        80\n",
              "none         73\n",
              "black        50\n",
              "misplaced     1\n",
              "dtype: int64"
            ]
          },
          "metadata": {},
          "execution_count": 121
        }
      ],
      "source": [
        "y_train_pred_class = pd.DataFrame(y_train_pred).value_counts()\n",
        "y_train_pred_class"
      ]
    },
    {
      "cell_type": "code",
      "execution_count": 122,
      "id": "f9e02494-b8b0-4613-80b2-d6a06be4910d",
      "metadata": {
        "id": "f9e02494-b8b0-4613-80b2-d6a06be4910d",
        "colab": {
          "base_uri": "https://localhost:8080/"
        },
        "outputId": "14a4f59b-2952-41f6-b8af-9ef84c04ee22"
      },
      "outputs": [
        {
          "output_type": "stream",
          "name": "stdout",
          "text": [
            "Misplaced stone with index: 10 with probability of being black 0.5, value [-7858], probability of being none 0.5, , probability of being white 0.0\n",
            "Misplaced stone with index: 32 with probability of being black 0.5, value [-7547], probability of being none 0.5, , probability of being white 0.0\n",
            "              precision    recall  f1-score   support\n",
            "\n",
            "       black       1.00      1.00      1.00        13\n",
            "   misplaced       0.00      0.00      0.00         0\n",
            "        none       1.00      0.89      0.94        18\n",
            "       white       1.00      1.00      1.00        20\n",
            "\n",
            "    accuracy                           0.96        51\n",
            "   macro avg       0.75      0.72      0.74        51\n",
            "weighted avg       1.00      0.96      0.98        51\n",
            "\n"
          ]
        }
      ],
      "source": [
        "y_test_pred = gs.predict_proba(X_test)\n",
        "y_test_pred = predict_stone(y_test_pred, 0.8, X_test)\n",
        "print(classification_report(y_test, y_test_pred))"
      ]
    },
    {
      "cell_type": "code",
      "execution_count": 123,
      "id": "9298ca72-c678-44a6-9e49-0ad60b6e1173",
      "metadata": {
        "id": "9298ca72-c678-44a6-9e49-0ad60b6e1173",
        "outputId": "c787f6e5-530e-432a-f7f1-b68bd1478f1c",
        "colab": {
          "base_uri": "https://localhost:8080/"
        }
      },
      "outputs": [
        {
          "output_type": "execute_result",
          "data": {
            "text/plain": [
              "white        20\n",
              "none         16\n",
              "black        13\n",
              "misplaced     2\n",
              "dtype: int64"
            ]
          },
          "metadata": {},
          "execution_count": 123
        }
      ],
      "source": [
        "y_test_pred_class = pd.DataFrame(y_test_pred).value_counts()\n",
        "y_test_pred_class"
      ]
    },
    {
      "cell_type": "code",
      "execution_count": 124,
      "id": "ebdae430-aa81-4e51-8e88-9e28942d5a4a",
      "metadata": {
        "id": "ebdae430-aa81-4e51-8e88-9e28942d5a4a",
        "outputId": "9502c340-d00b-4f4b-b6eb-9e59cbc811f2",
        "colab": {
          "base_uri": "https://localhost:8080/"
        }
      },
      "outputs": [
        {
          "output_type": "execute_result",
          "data": {
            "text/plain": [
              "['color_to_class.pkl']"
            ]
          },
          "metadata": {},
          "execution_count": 124
        }
      ],
      "source": [
        "import joblib\n",
        "joblib.dump(gs.best_estimator_, 'color_to_class.pkl')"
      ]
    },
    {
      "cell_type": "markdown",
      "source": [
        "# Adding median filter to filter out hand movement"
      ],
      "metadata": {
        "id": "mogimYqeBEux"
      },
      "id": "mogimYqeBEux"
    },
    {
      "cell_type": "code",
      "execution_count": 126,
      "id": "bf28dbbc-5215-4325-b19f-c63e8443e161",
      "metadata": {
        "colab": {
          "base_uri": "https://localhost:8080/",
          "height": 448
        },
        "id": "bf28dbbc-5215-4325-b19f-c63e8443e161",
        "outputId": "cf702c28-3a70-430d-e53e-09b00aaf014f"
      },
      "outputs": [
        {
          "output_type": "execute_result",
          "data": {
            "text/plain": [
              "<Axes: >"
            ]
          },
          "metadata": {},
          "execution_count": 126
        },
        {
          "output_type": "display_data",
          "data": {
            "text/plain": [
              "<Figure size 640x480 with 1 Axes>"
            ],
            "image/png": "[encoded data removed]"
          },
          "metadata": {}
        }
      ],
      "source": [
        "# Import raw data from an example game\n",
        "df = pd.read_csv(\"Colab_files/game_history_1.csv\", index_col='Unnamed: 0')\n",
        "df.head()\n",
        "\n",
        "# Calculate diffs\n",
        "for column in df.columns[:-1]:\n",
        "    diff_column_name = f'{column}_d'\n",
        "    df[diff_column_name] = df[column].diff()\n",
        "\n",
        "# Calculate the mean of moving 3 samples for each column\n",
        "window_size = 6\n",
        "raw_columns = df.columns\n",
        "\n",
        "for column in raw_columns:\n",
        "    new_column_name = f'{column}_mean'\n",
        "    df[new_column_name] = df[column].rolling(window=window_size).median()\n",
        "\n",
        "df['20'].plot()"
      ]
    },
    {
      "cell_type": "markdown",
      "source": [
        "# Check data for flat black stones"
      ],
      "metadata": {
        "id": "bzqle7fWA9po"
      },
      "id": "bzqle7fWA9po"
    },
    {
      "cell_type": "code",
      "execution_count": 128,
      "metadata": {
        "colab": {
          "base_uri": "https://localhost:8080/",
          "height": 1000
        },
        "id": "3fe59a94-bf98-4099-8f7c-edaa4a284ee0",
        "outputId": "d07bd9fa-0434-4b62-c74b-2a2958e4a391"
      },
      "outputs": [
        {
          "output_type": "display_data",
          "data": {
            "text/plain": [
              "<Figure size 1200x1200 with 81 Axes>"
            ],
            "image/png": "[encoded data removed]"
          },
          "metadata": {}
        }
      ],
      "source": [
        "# Check flat black stones readings:\n",
        "df = pd.read_csv(\"Colab_files/black_flat_1.csv\", index_col='Unnamed: 0')\n",
        "grid_plot(df)"
      ],
      "id": "3fe59a94-bf98-4099-8f7c-edaa4a284ee0"
    },
    {
      "cell_type": "code",
      "execution_count": 130,
      "metadata": {
        "id": "6bd2763f-d64b-4825-a447-bda710fa5db7",
        "outputId": "08ab0731-4695-4500-fb48-63d1a4730fcc",
        "colab": {
          "base_uri": "https://localhost:8080/",
          "height": 542
        }
      },
      "outputs": [
        {
          "output_type": "display_data",
          "data": {
            "text/html": [
              "<html>\n",
              "<head><meta charset=\"utf-8\" /></head>\n",
              "<body>\n",
              "    <div>            <script src=\"https://cdnjs.cloudflare.com/ajax/libs/mathjax/2.7.5/MathJax.js?config=TeX-AMS-MML_SVG\"></script><script type=\"text/javascript\">if (window.MathJax && window.MathJax.Hub && window.MathJax.Hub.Config) {window.MathJax.Hub.Config({SVG: {font: \"STIX-Web\"}});}</script>                <script type=\"text/javascript\">window.PlotlyConfig = {MathJaxConfig: 'local'};</script>\n",
              "        <script charset=\"utf-8\" src=\"https://cdn.plot.ly/plotly-2.24.1.min.js\"></script>                <div id=\"8d211c91-21f6-4a16-a7ee-06f96b9d6d43\" class=\"plotly-graph-div\" style=\"height:525px; width:100%;\"></div>            <script type=\"text/javascript\">                                    window.PLOTLYENV=window.PLOTLYENV || {};                                    if (document.getElementById(\"8d211c91-21f6-4a16-a7ee-06f96b9d6d43\")) {                    Plotly.newPlot(                        \"8d211c91-21f6-4a16-a7ee-06f96b9d6d43\",                        [{\"mode\":\"lines\",\"x\":[0,1,2,3,4,5,6,7,8,9,10,11,12,13,14,15,16,17,18,19,20,21,22,23,24,25,26,27,28,29,30,31,32,33],\"y\":[705.0,525.0,578.0,604.0,621.0,580.0,651.0,606.0,579.0,470.0,582.0,643.0,470.0,725.0,633.0,657.0,656.0,706.0,630.0,679.0,597.0,416.0,527.0,674.0,611.0,500.0,449.0,623.0,621.0,556.0,550.0,406.0,500.0,764.0],\"type\":\"scatter\"},{\"mode\":\"lines\",\"x\":[0,1,2,3,4,5,6,7,8,9,10,11,12,13,14,15,16,17,18,19,20,21,22,23,24,25,26,27,28,29,30,31,32,33],\"y\":[673.0,502.0,546.0,576.0,697.0,555.0,631.0,666.0,555.0,457.0,620.0,617.0,539.0,664.0,606.0,729.0,600.0,742.0,565.0,618.0,585.0,589.0,628.0,692.0,667.0,453.0,432.0,646.0,602.0,607.0,654.0,384.0,360.0,514.0],\"type\":\"scatter\"}],                        {\"template\":{\"data\":{\"histogram2dcontour\":[{\"type\":\"histogram2dcontour\",\"colorbar\":{\"outlinewidth\":0,\"ticks\":\"\"},\"colorscale\":[[0.0,\"#0d0887\"],[0.1111111111111111,\"#46039f\"],[0.2222222222222222,\"#7201a8\"],[0.3333333333333333,\"#9c179e\"],[0.4444444444444444,\"#bd3786\"],[0.5555555555555556,\"#d8576b\"],[0.6666666666666666,\"#ed7953\"],[0.7777777777777778,\"#fb9f3a\"],[0.8888888888888888,\"#fdca26\"],[1.0,\"#f0f921\"]]}],\"choropleth\":[{\"type\":\"choropleth\",\"colorbar\":{\"outlinewidth\":0,\"ticks\":\"\"}}],\"histogram2d\":[{\"type\":\"histogram2d\",\"colorbar\":{\"outlinewidth\":0,\"ticks\":\"\"},\"colorscale\":[[0.0,\"#0d0887\"],[0.1111111111111111,\"#46039f\"],[0.2222222222222222,\"#7201a8\"],[0.3333333333333333,\"#9c179e\"],[0.4444444444444444,\"#bd3786\"],[0.5555555555555556,\"#d8576b\"],[0.6666666666666666,\"#ed7953\"],[0.7777777777777778,\"#fb9f3a\"],[0.8888888888888888,\"#fdca26\"],[1.0,\"#f0f921\"]]}],\"heatmap\":[{\"type\":\"heatmap\",\"colorbar\":{\"outlinewidth\":0,\"ticks\":\"\"},\"colorscale\":[[0.0,\"#0d0887\"],[0.1111111111111111,\"#46039f\"],[0.2222222222222222,\"#7201a8\"],[0.3333333333333333,\"#9c179e\"],[0.4444444444444444,\"#bd3786\"],[0.5555555555555556,\"#d8576b\"],[0.6666666666666666,\"#ed7953\"],[0.7777777777777778,\"#fb9f3a\"],[0.8888888888888888,\"#fdca26\"],[1.0,\"#f0f921\"]]}],\"heatmapgl\":[{\"type\":\"heatmapgl\",\"colorbar\":{\"outlinewidth\":0,\"ticks\":\"\"},\"colorscale\":[[0.0,\"#0d0887\"],[0.1111111111111111,\"#46039f\"],[0.2222222222222222,\"#7201a8\"],[0.3333333333333333,\"#9c179e\"],[0.4444444444444444,\"#bd3786\"],[0.5555555555555556,\"#d8576b\"],[0.6666666666666666,\"#ed7953\"],[0.7777777777777778,\"#fb9f3a\"],[0.8888888888888888,\"#fdca26\"],[1.0,\"#f0f921\"]]}],\"contourcarpet\":[{\"type\":\"contourcarpet\",\"colorbar\":{\"outlinewidth\":0,\"ticks\":\"\"}}],\"contour\":[{\"type\":\"contour\",\"colorbar\":{\"outlinewidth\":0,\"ticks\":\"\"},\"colorscale\":[[0.0,\"#0d0887\"],[0.1111111111111111,\"#46039f\"],[0.2222222222222222,\"#7201a8\"],[0.3333333333333333,\"#9c179e\"],[0.4444444444444444,\"#bd3786\"],[0.5555555555555556,\"#d8576b\"],[0.6666666666666666,\"#ed7953\"],[0.7777777777777778,\"#fb9f3a\"],[0.8888888888888888,\"#fdca26\"],[1.0,\"#f0f921\"]]}],\"surface\":[{\"type\":\"surface\",\"colorbar\":{\"outlinewidth\":0,\"ticks\":\"\"},\"colorscale\":[[0.0,\"#0d0887\"],[0.1111111111111111,\"#46039f\"],[0.2222222222222222,\"#7201a8\"],[0.3333333333333333,\"#9c179e\"],[0.4444444444444444,\"#bd3786\"],[0.5555555555555556,\"#d8576b\"],[0.6666666666666666,\"#ed7953\"],[0.7777777777777778,\"#fb9f3a\"],[0.8888888888888888,\"#fdca26\"],[1.0,\"#f0f921\"]]}],\"mesh3d\":[{\"type\":\"mesh3d\",\"colorbar\":{\"outlinewidth\":0,\"ticks\":\"\"}}],\"scatter\":[{\"fillpattern\":{\"fillmode\":\"overlay\",\"size\":10,\"solidity\":0.2},\"type\":\"scatter\"}],\"parcoords\":[{\"type\":\"parcoords\",\"line\":{\"colorbar\":{\"outlinewidth\":0,\"ticks\":\"\"}}}],\"scatterpolargl\":[{\"type\":\"scatterpolargl\",\"marker\":{\"colorbar\":{\"outlinewidth\":0,\"ticks\":\"\"}}}],\"bar\":[{\"error_x\":{\"color\":\"#2a3f5f\"},\"error_y\":{\"color\":\"#2a3f5f\"},\"marker\":{\"line\":{\"color\":\"#E5ECF6\",\"width\":0.5},\"pattern\":{\"fillmode\":\"overlay\",\"size\":10,\"solidity\":0.2}},\"type\":\"bar\"}],\"scattergeo\":[{\"type\":\"scattergeo\",\"marker\":{\"colorbar\":{\"outlinewidth\":0,\"ticks\":\"\"}}}],\"scatterpolar\":[{\"type\":\"scatterpolar\",\"marker\":{\"colorbar\":{\"outlinewidth\":0,\"ticks\":\"\"}}}],\"histogram\":[{\"marker\":{\"pattern\":{\"fillmode\":\"overlay\",\"size\":10,\"solidity\":0.2}},\"type\":\"histogram\"}],\"scattergl\":[{\"type\":\"scattergl\",\"marker\":{\"colorbar\":{\"outlinewidth\":0,\"ticks\":\"\"}}}],\"scatter3d\":[{\"type\":\"scatter3d\",\"line\":{\"colorbar\":{\"outlinewidth\":0,\"ticks\":\"\"}},\"marker\":{\"colorbar\":{\"outlinewidth\":0,\"ticks\":\"\"}}}],\"scattermapbox\":[{\"type\":\"scattermapbox\",\"marker\":{\"colorbar\":{\"outlinewidth\":0,\"ticks\":\"\"}}}],\"scatterternary\":[{\"type\":\"scatterternary\",\"marker\":{\"colorbar\":{\"outlinewidth\":0,\"ticks\":\"\"}}}],\"scattercarpet\":[{\"type\":\"scattercarpet\",\"marker\":{\"colorbar\":{\"outlinewidth\":0,\"ticks\":\"\"}}}],\"carpet\":[{\"aaxis\":{\"endlinecolor\":\"#2a3f5f\",\"gridcolor\":\"white\",\"linecolor\":\"white\",\"minorgridcolor\":\"white\",\"startlinecolor\":\"#2a3f5f\"},\"baxis\":{\"endlinecolor\":\"#2a3f5f\",\"gridcolor\":\"white\",\"linecolor\":\"white\",\"minorgridcolor\":\"white\",\"startlinecolor\":\"#2a3f5f\"},\"type\":\"carpet\"}],\"table\":[{\"cells\":{\"fill\":{\"color\":\"#EBF0F8\"},\"line\":{\"color\":\"white\"}},\"header\":{\"fill\":{\"color\":\"#C8D4E3\"},\"line\":{\"color\":\"white\"}},\"type\":\"table\"}],\"barpolar\":[{\"marker\":{\"line\":{\"color\":\"#E5ECF6\",\"width\":0.5},\"pattern\":{\"fillmode\":\"overlay\",\"size\":10,\"solidity\":0.2}},\"type\":\"barpolar\"}],\"pie\":[{\"automargin\":true,\"type\":\"pie\"}]},\"layout\":{\"autotypenumbers\":\"strict\",\"colorway\":[\"#636efa\",\"#EF553B\",\"#00cc96\",\"#ab63fa\",\"#FFA15A\",\"#19d3f3\",\"#FF6692\",\"#B6E880\",\"#FF97FF\",\"#FECB52\"],\"font\":{\"color\":\"#2a3f5f\"},\"hovermode\":\"closest\",\"hoverlabel\":{\"align\":\"left\"},\"paper_bgcolor\":\"white\",\"plot_bgcolor\":\"#E5ECF6\",\"polar\":{\"bgcolor\":\"#E5ECF6\",\"angularaxis\":{\"gridcolor\":\"white\",\"linecolor\":\"white\",\"ticks\":\"\"},\"radialaxis\":{\"gridcolor\":\"white\",\"linecolor\":\"white\",\"ticks\":\"\"}},\"ternary\":{\"bgcolor\":\"#E5ECF6\",\"aaxis\":{\"gridcolor\":\"white\",\"linecolor\":\"white\",\"ticks\":\"\"},\"baxis\":{\"gridcolor\":\"white\",\"linecolor\":\"white\",\"ticks\":\"\"},\"caxis\":{\"gridcolor\":\"white\",\"linecolor\":\"white\",\"ticks\":\"\"}},\"coloraxis\":{\"colorbar\":{\"outlinewidth\":0,\"ticks\":\"\"}},\"colorscale\":{\"sequential\":[[0.0,\"#0d0887\"],[0.1111111111111111,\"#46039f\"],[0.2222222222222222,\"#7201a8\"],[0.3333333333333333,\"#9c179e\"],[0.4444444444444444,\"#bd3786\"],[0.5555555555555556,\"#d8576b\"],[0.6666666666666666,\"#ed7953\"],[0.7777777777777778,\"#fb9f3a\"],[0.8888888888888888,\"#fdca26\"],[1.0,\"#f0f921\"]],\"sequentialminus\":[[0.0,\"#0d0887\"],[0.1111111111111111,\"#46039f\"],[0.2222222222222222,\"#7201a8\"],[0.3333333333333333,\"#9c179e\"],[0.4444444444444444,\"#bd3786\"],[0.5555555555555556,\"#d8576b\"],[0.6666666666666666,\"#ed7953\"],[0.7777777777777778,\"#fb9f3a\"],[0.8888888888888888,\"#fdca26\"],[1.0,\"#f0f921\"]],\"diverging\":[[0,\"#8e0152\"],[0.1,\"#c51b7d\"],[0.2,\"#de77ae\"],[0.3,\"#f1b6da\"],[0.4,\"#fde0ef\"],[0.5,\"#f7f7f7\"],[0.6,\"#e6f5d0\"],[0.7,\"#b8e186\"],[0.8,\"#7fbc41\"],[0.9,\"#4d9221\"],[1,\"#276419\"]]},\"xaxis\":{\"gridcolor\":\"white\",\"linecolor\":\"white\",\"ticks\":\"\",\"title\":{\"standoff\":15},\"zerolinecolor\":\"white\",\"automargin\":true,\"zerolinewidth\":2},\"yaxis\":{\"gridcolor\":\"white\",\"linecolor\":\"white\",\"ticks\":\"\",\"title\":{\"standoff\":15},\"zerolinecolor\":\"white\",\"automargin\":true,\"zerolinewidth\":2},\"scene\":{\"xaxis\":{\"backgroundcolor\":\"#E5ECF6\",\"gridcolor\":\"white\",\"linecolor\":\"white\",\"showbackground\":true,\"ticks\":\"\",\"zerolinecolor\":\"white\",\"gridwidth\":2},\"yaxis\":{\"backgroundcolor\":\"#E5ECF6\",\"gridcolor\":\"white\",\"linecolor\":\"white\",\"showbackground\":true,\"ticks\":\"\",\"zerolinecolor\":\"white\",\"gridwidth\":2},\"zaxis\":{\"backgroundcolor\":\"#E5ECF6\",\"gridcolor\":\"white\",\"linecolor\":\"white\",\"showbackground\":true,\"ticks\":\"\",\"zerolinecolor\":\"white\",\"gridwidth\":2}},\"shapedefaults\":{\"line\":{\"color\":\"#2a3f5f\"}},\"annotationdefaults\":{\"arrowcolor\":\"#2a3f5f\",\"arrowhead\":0,\"arrowwidth\":1},\"geo\":{\"bgcolor\":\"white\",\"landcolor\":\"#E5ECF6\",\"subunitcolor\":\"white\",\"showland\":true,\"showlakes\":true,\"lakecolor\":\"white\"},\"title\":{\"x\":0.05},\"mapbox\":{\"style\":\"light\"}}},\"title\":{\"text\":\"Stacked plots\"}},                        {\"responsive\": true}                    ).then(function(){\n",
              "                            \n",
              "var gd = document.getElementById('8d211c91-21f6-4a16-a7ee-06f96b9d6d43');\n",
              "var x = new MutationObserver(function (mutations, observer) {{\n",
              "        var display = window.getComputedStyle(gd).display;\n",
              "        if (!display || display === 'none') {{\n",
              "            console.log([gd, 'removed!']);\n",
              "            Plotly.purge(gd);\n",
              "            observer.disconnect();\n",
              "        }}\n",
              "}});\n",
              "\n",
              "// Listen for the removal of the full notebook cells\n",
              "var notebookContainer = gd.closest('#notebook-container');\n",
              "if (notebookContainer) {{\n",
              "    x.observe(notebookContainer, {childList: true});\n",
              "}}\n",
              "\n",
              "// Listen for the clearing of the current output cell\n",
              "var outputEl = gd.closest('.output');\n",
              "if (outputEl) {{\n",
              "    x.observe(outputEl, {childList: true});\n",
              "}}\n",
              "\n",
              "                        })                };                            </script>        </div>\n",
              "</body>\n",
              "</html>"
            ]
          },
          "metadata": {}
        }
      ],
      "source": [
        "# Calculate median readings for first 34 stones\n",
        "df_stones = pd.DataFrame(index=range(34))\n",
        "cols = [str(x) for x in range(34)]\n",
        "for file_nr in range(1, 3):\n",
        "    df = pd.read_csv(f\"Colab_files/black_flat_{file_nr}.csv\", index_col='Unnamed: 0')\n",
        "    for column in cols:\n",
        "        # Use loc to insert the new row at the end\n",
        "        df_stones.loc[int(column), f\"{str(file_nr-1)}\"] = df[column].median()\n",
        "\n",
        "line_plots(df_stones, 2)"
      ],
      "id": "6bd2763f-d64b-4825-a447-bda710fa5db7"
    },
    {
      "cell_type": "code",
      "execution_count": 131,
      "metadata": {
        "id": "40750097-efb0-49f6-80df-4356eb19e083",
        "outputId": "b52ccf69-5aaa-4f09-aede-babf562ec10a",
        "colab": {
          "base_uri": "https://localhost:8080/",
          "height": 542
        }
      },
      "outputs": [
        {
          "output_type": "display_data",
          "data": {
            "text/html": [
              "<html>\n",
              "<head><meta charset=\"utf-8\" /></head>\n",
              "<body>\n",
              "    <div>            <script src=\"https://cdnjs.cloudflare.com/ajax/libs/mathjax/2.7.5/MathJax.js?config=TeX-AMS-MML_SVG\"></script><script type=\"text/javascript\">if (window.MathJax && window.MathJax.Hub && window.MathJax.Hub.Config) {window.MathJax.Hub.Config({SVG: {font: \"STIX-Web\"}});}</script>                <script type=\"text/javascript\">window.PlotlyConfig = {MathJaxConfig: 'local'};</script>\n",
              "        <script charset=\"utf-8\" src=\"https://cdn.plot.ly/plotly-2.24.1.min.js\"></script>                <div id=\"866cfb31-0bd2-45fd-9039-d1e9ee49c8a3\" class=\"plotly-graph-div\" style=\"height:525px; width:100%;\"></div>            <script type=\"text/javascript\">                                    window.PLOTLYENV=window.PLOTLYENV || {};                                    if (document.getElementById(\"866cfb31-0bd2-45fd-9039-d1e9ee49c8a3\")) {                    Plotly.newPlot(                        \"866cfb31-0bd2-45fd-9039-d1e9ee49c8a3\",                        [{\"mode\":\"lines\",\"x\":[0,1,2,3,4,5,6,7,8,9,10,11,12,13,14,15,16,17,18,19,20,21,22,23,24,25,26,27,28,29,30,31,32,33,34,35,36,37,38,39,40,41,42,43,44,45,46,47,48,49,50,51,52,53,54,55,56,57,58,59,60,61,62,63,64,65,66,67,68,69,70,71,72,73,74,75,76,77,78,79,80,81,82,83,84,85,86,87,88,89,90,91,92,93,94,95,96,97,98,99,100,101,102,103,104,105,106,107,108,109,110,111,112,113,114,115,116,117,118,119,120,121,122,123,124,125,126,127,128,129,130,131,132,133,134,135,136,137,138,139,140,141,142,143,144,145,146,147,148,149,150,151,152,153,154,155,156,157,158,159,160,161,162,163,164,165,166,167,168,169,170,171,172,173,174,175,176,177,178,179,180,181,182,183,184,185,186,187,188,189,190,191,192,193,194,195,196,197,198,199,200,201,202,203,204,205,206,207,208,209,210,211,212,213,214,215,216,217,218,219,220,221,222,223,224,225,226,227,228,229,230,231,232,233,234,235,236,237,238,239,240,241,242,243,244,245,246,247,248,249,250,251,252,253,254,255,256,257,258,259,260,261,262,263,264,265,266,267,268,269,270,271,272,273,274,275,276,277,278,279,280,281,282,283,284,285,286,287,288,289,290,291,292,293,294,295,296,297,298,299,300,301,302,303,304,305,306,307,308,309,310,311,312,313,314,315,316,317,318,319,320,321,322,323,324,325,326,327,328,329,330,331,332,333,334,335,336,337,338,339,340,341,342,343,344,345,346,347,348,349],\"y\":[987,989,987,987,989,988,992,651,651,650,649,639,657,985,987,989,989,989,987,1002,676,673,660,659,615,986,989,988,988,989,989,987,1002,609,609,623,644,989,989,987,989,989,985,557,571,554,664,988,987,989,987,989,990,974,591,577,593,651,987,989,989,987,987,990,970,661,661,647,988,989,987,987,989,989,974,627,668,670,682,926,989,989,989,989,1003,643,633,632,634,990,989,989,987,989,1001,633,648,648,610,945,989,989,986,987,612,590,590,576,955,989,989,989,987,650,587,586,604,989,989,989,989,989,1002,665,670,672,864,989,989,987,989,987,581,502,494,530,982,989,987,989,989,981,600,598,583,967,989,987,989,989,1000,653,665,652,982,989,989,989,987,989,987,990,605,619,606,620,988,989,987,989,989,971,613,598,598,554,973,989,989,987,989,993,621,621,621,591,987,986,986,988,989,986,706,675,674,674,984,986,986,986,986,986,994,617,603,603,971,989,988,988,988,998,627,584,582,568,583,989,988,988,988,986,929,648,648,649,888,987,988,988,988,998,703,680,682,684,985,984,984,982,983,920,579,579,579,982,983,985,985,985,984,748,645,658,658,980,982,984,985,985,982,652,605,605,578,978,985,984,984,984,984,984,982,993,634,620,634,982,984,984,984,984,743,730,742,740,986,984,984,984,982,964,670,669,669,978,982,982,982,985,980,695,697,695,640,984,982,982,982,984,596,582,585,565,986,982,984,982,985,998,674,674,673,974,984,984,984,985,989,655,653,653,984,985,982,982,985,984,724,683,671,671,851,983,982,984,982,985,984,985],\"type\":\"scatter\"}],                        {\"template\":{\"data\":{\"histogram2dcontour\":[{\"type\":\"histogram2dcontour\",\"colorbar\":{\"outlinewidth\":0,\"ticks\":\"\"},\"colorscale\":[[0.0,\"#0d0887\"],[0.1111111111111111,\"#46039f\"],[0.2222222222222222,\"#7201a8\"],[0.3333333333333333,\"#9c179e\"],[0.4444444444444444,\"#bd3786\"],[0.5555555555555556,\"#d8576b\"],[0.6666666666666666,\"#ed7953\"],[0.7777777777777778,\"#fb9f3a\"],[0.8888888888888888,\"#fdca26\"],[1.0,\"#f0f921\"]]}],\"choropleth\":[{\"type\":\"choropleth\",\"colorbar\":{\"outlinewidth\":0,\"ticks\":\"\"}}],\"histogram2d\":[{\"type\":\"histogram2d\",\"colorbar\":{\"outlinewidth\":0,\"ticks\":\"\"},\"colorscale\":[[0.0,\"#0d0887\"],[0.1111111111111111,\"#46039f\"],[0.2222222222222222,\"#7201a8\"],[0.3333333333333333,\"#9c179e\"],[0.4444444444444444,\"#bd3786\"],[0.5555555555555556,\"#d8576b\"],[0.6666666666666666,\"#ed7953\"],[0.7777777777777778,\"#fb9f3a\"],[0.8888888888888888,\"#fdca26\"],[1.0,\"#f0f921\"]]}],\"heatmap\":[{\"type\":\"heatmap\",\"colorbar\":{\"outlinewidth\":0,\"ticks\":\"\"},\"colorscale\":[[0.0,\"#0d0887\"],[0.1111111111111111,\"#46039f\"],[0.2222222222222222,\"#7201a8\"],[0.3333333333333333,\"#9c179e\"],[0.4444444444444444,\"#bd3786\"],[0.5555555555555556,\"#d8576b\"],[0.6666666666666666,\"#ed7953\"],[0.7777777777777778,\"#fb9f3a\"],[0.8888888888888888,\"#fdca26\"],[1.0,\"#f0f921\"]]}],\"heatmapgl\":[{\"type\":\"heatmapgl\",\"colorbar\":{\"outlinewidth\":0,\"ticks\":\"\"},\"colorscale\":[[0.0,\"#0d0887\"],[0.1111111111111111,\"#46039f\"],[0.2222222222222222,\"#7201a8\"],[0.3333333333333333,\"#9c179e\"],[0.4444444444444444,\"#bd3786\"],[0.5555555555555556,\"#d8576b\"],[0.6666666666666666,\"#ed7953\"],[0.7777777777777778,\"#fb9f3a\"],[0.8888888888888888,\"#fdca26\"],[1.0,\"#f0f921\"]]}],\"contourcarpet\":[{\"type\":\"contourcarpet\",\"colorbar\":{\"outlinewidth\":0,\"ticks\":\"\"}}],\"contour\":[{\"type\":\"contour\",\"colorbar\":{\"outlinewidth\":0,\"ticks\":\"\"},\"colorscale\":[[0.0,\"#0d0887\"],[0.1111111111111111,\"#46039f\"],[0.2222222222222222,\"#7201a8\"],[0.3333333333333333,\"#9c179e\"],[0.4444444444444444,\"#bd3786\"],[0.5555555555555556,\"#d8576b\"],[0.6666666666666666,\"#ed7953\"],[0.7777777777777778,\"#fb9f3a\"],[0.8888888888888888,\"#fdca26\"],[1.0,\"#f0f921\"]]}],\"surface\":[{\"type\":\"surface\",\"colorbar\":{\"outlinewidth\":0,\"ticks\":\"\"},\"colorscale\":[[0.0,\"#0d0887\"],[0.1111111111111111,\"#46039f\"],[0.2222222222222222,\"#7201a8\"],[0.3333333333333333,\"#9c179e\"],[0.4444444444444444,\"#bd3786\"],[0.5555555555555556,\"#d8576b\"],[0.6666666666666666,\"#ed7953\"],[0.7777777777777778,\"#fb9f3a\"],[0.8888888888888888,\"#fdca26\"],[1.0,\"#f0f921\"]]}],\"mesh3d\":[{\"type\":\"mesh3d\",\"colorbar\":{\"outlinewidth\":0,\"ticks\":\"\"}}],\"scatter\":[{\"fillpattern\":{\"fillmode\":\"overlay\",\"size\":10,\"solidity\":0.2},\"type\":\"scatter\"}],\"parcoords\":[{\"type\":\"parcoords\",\"line\":{\"colorbar\":{\"outlinewidth\":0,\"ticks\":\"\"}}}],\"scatterpolargl\":[{\"type\":\"scatterpolargl\",\"marker\":{\"colorbar\":{\"outlinewidth\":0,\"ticks\":\"\"}}}],\"bar\":[{\"error_x\":{\"color\":\"#2a3f5f\"},\"error_y\":{\"color\":\"#2a3f5f\"},\"marker\":{\"line\":{\"color\":\"#E5ECF6\",\"width\":0.5},\"pattern\":{\"fillmode\":\"overlay\",\"size\":10,\"solidity\":0.2}},\"type\":\"bar\"}],\"scattergeo\":[{\"type\":\"scattergeo\",\"marker\":{\"colorbar\":{\"outlinewidth\":0,\"ticks\":\"\"}}}],\"scatterpolar\":[{\"type\":\"scatterpolar\",\"marker\":{\"colorbar\":{\"outlinewidth\":0,\"ticks\":\"\"}}}],\"histogram\":[{\"marker\":{\"pattern\":{\"fillmode\":\"overlay\",\"size\":10,\"solidity\":0.2}},\"type\":\"histogram\"}],\"scattergl\":[{\"type\":\"scattergl\",\"marker\":{\"colorbar\":{\"outlinewidth\":0,\"ticks\":\"\"}}}],\"scatter3d\":[{\"type\":\"scatter3d\",\"line\":{\"colorbar\":{\"outlinewidth\":0,\"ticks\":\"\"}},\"marker\":{\"colorbar\":{\"outlinewidth\":0,\"ticks\":\"\"}}}],\"scattermapbox\":[{\"type\":\"scattermapbox\",\"marker\":{\"colorbar\":{\"outlinewidth\":0,\"ticks\":\"\"}}}],\"scatterternary\":[{\"type\":\"scatterternary\",\"marker\":{\"colorbar\":{\"outlinewidth\":0,\"ticks\":\"\"}}}],\"scattercarpet\":[{\"type\":\"scattercarpet\",\"marker\":{\"colorbar\":{\"outlinewidth\":0,\"ticks\":\"\"}}}],\"carpet\":[{\"aaxis\":{\"endlinecolor\":\"#2a3f5f\",\"gridcolor\":\"white\",\"linecolor\":\"white\",\"minorgridcolor\":\"white\",\"startlinecolor\":\"#2a3f5f\"},\"baxis\":{\"endlinecolor\":\"#2a3f5f\",\"gridcolor\":\"white\",\"linecolor\":\"white\",\"minorgridcolor\":\"white\",\"startlinecolor\":\"#2a3f5f\"},\"type\":\"carpet\"}],\"table\":[{\"cells\":{\"fill\":{\"color\":\"#EBF0F8\"},\"line\":{\"color\":\"white\"}},\"header\":{\"fill\":{\"color\":\"#C8D4E3\"},\"line\":{\"color\":\"white\"}},\"type\":\"table\"}],\"barpolar\":[{\"marker\":{\"line\":{\"color\":\"#E5ECF6\",\"width\":0.5},\"pattern\":{\"fillmode\":\"overlay\",\"size\":10,\"solidity\":0.2}},\"type\":\"barpolar\"}],\"pie\":[{\"automargin\":true,\"type\":\"pie\"}]},\"layout\":{\"autotypenumbers\":\"strict\",\"colorway\":[\"#636efa\",\"#EF553B\",\"#00cc96\",\"#ab63fa\",\"#FFA15A\",\"#19d3f3\",\"#FF6692\",\"#B6E880\",\"#FF97FF\",\"#FECB52\"],\"font\":{\"color\":\"#2a3f5f\"},\"hovermode\":\"closest\",\"hoverlabel\":{\"align\":\"left\"},\"paper_bgcolor\":\"white\",\"plot_bgcolor\":\"#E5ECF6\",\"polar\":{\"bgcolor\":\"#E5ECF6\",\"angularaxis\":{\"gridcolor\":\"white\",\"linecolor\":\"white\",\"ticks\":\"\"},\"radialaxis\":{\"gridcolor\":\"white\",\"linecolor\":\"white\",\"ticks\":\"\"}},\"ternary\":{\"bgcolor\":\"#E5ECF6\",\"aaxis\":{\"gridcolor\":\"white\",\"linecolor\":\"white\",\"ticks\":\"\"},\"baxis\":{\"gridcolor\":\"white\",\"linecolor\":\"white\",\"ticks\":\"\"},\"caxis\":{\"gridcolor\":\"white\",\"linecolor\":\"white\",\"ticks\":\"\"}},\"coloraxis\":{\"colorbar\":{\"outlinewidth\":0,\"ticks\":\"\"}},\"colorscale\":{\"sequential\":[[0.0,\"#0d0887\"],[0.1111111111111111,\"#46039f\"],[0.2222222222222222,\"#7201a8\"],[0.3333333333333333,\"#9c179e\"],[0.4444444444444444,\"#bd3786\"],[0.5555555555555556,\"#d8576b\"],[0.6666666666666666,\"#ed7953\"],[0.7777777777777778,\"#fb9f3a\"],[0.8888888888888888,\"#fdca26\"],[1.0,\"#f0f921\"]],\"sequentialminus\":[[0.0,\"#0d0887\"],[0.1111111111111111,\"#46039f\"],[0.2222222222222222,\"#7201a8\"],[0.3333333333333333,\"#9c179e\"],[0.4444444444444444,\"#bd3786\"],[0.5555555555555556,\"#d8576b\"],[0.6666666666666666,\"#ed7953\"],[0.7777777777777778,\"#fb9f3a\"],[0.8888888888888888,\"#fdca26\"],[1.0,\"#f0f921\"]],\"diverging\":[[0,\"#8e0152\"],[0.1,\"#c51b7d\"],[0.2,\"#de77ae\"],[0.3,\"#f1b6da\"],[0.4,\"#fde0ef\"],[0.5,\"#f7f7f7\"],[0.6,\"#e6f5d0\"],[0.7,\"#b8e186\"],[0.8,\"#7fbc41\"],[0.9,\"#4d9221\"],[1,\"#276419\"]]},\"xaxis\":{\"gridcolor\":\"white\",\"linecolor\":\"white\",\"ticks\":\"\",\"title\":{\"standoff\":15},\"zerolinecolor\":\"white\",\"automargin\":true,\"zerolinewidth\":2},\"yaxis\":{\"gridcolor\":\"white\",\"linecolor\":\"white\",\"ticks\":\"\",\"title\":{\"standoff\":15},\"zerolinecolor\":\"white\",\"automargin\":true,\"zerolinewidth\":2},\"scene\":{\"xaxis\":{\"backgroundcolor\":\"#E5ECF6\",\"gridcolor\":\"white\",\"linecolor\":\"white\",\"showbackground\":true,\"ticks\":\"\",\"zerolinecolor\":\"white\",\"gridwidth\":2},\"yaxis\":{\"backgroundcolor\":\"#E5ECF6\",\"gridcolor\":\"white\",\"linecolor\":\"white\",\"showbackground\":true,\"ticks\":\"\",\"zerolinecolor\":\"white\",\"gridwidth\":2},\"zaxis\":{\"backgroundcolor\":\"#E5ECF6\",\"gridcolor\":\"white\",\"linecolor\":\"white\",\"showbackground\":true,\"ticks\":\"\",\"zerolinecolor\":\"white\",\"gridwidth\":2}},\"shapedefaults\":{\"line\":{\"color\":\"#2a3f5f\"}},\"annotationdefaults\":{\"arrowcolor\":\"#2a3f5f\",\"arrowhead\":0,\"arrowwidth\":1},\"geo\":{\"bgcolor\":\"white\",\"landcolor\":\"#E5ECF6\",\"subunitcolor\":\"white\",\"showland\":true,\"showlakes\":true,\"lakecolor\":\"white\"},\"title\":{\"x\":0.05},\"mapbox\":{\"style\":\"light\"}}},\"title\":{\"text\":\"Stacked plots\"}},                        {\"responsive\": true}                    ).then(function(){\n",
              "                            \n",
              "var gd = document.getElementById('866cfb31-0bd2-45fd-9039-d1e9ee49c8a3');\n",
              "var x = new MutationObserver(function (mutations, observer) {{\n",
              "        var display = window.getComputedStyle(gd).display;\n",
              "        if (!display || display === 'none') {{\n",
              "            console.log([gd, 'removed!']);\n",
              "            Plotly.purge(gd);\n",
              "            observer.disconnect();\n",
              "        }}\n",
              "}});\n",
              "\n",
              "// Listen for the removal of the full notebook cells\n",
              "var notebookContainer = gd.closest('#notebook-container');\n",
              "if (notebookContainer) {{\n",
              "    x.observe(notebookContainer, {childList: true});\n",
              "}}\n",
              "\n",
              "// Listen for the clearing of the current output cell\n",
              "var outputEl = gd.closest('.output');\n",
              "if (outputEl) {{\n",
              "    x.observe(outputEl, {childList: true});\n",
              "}}\n",
              "\n",
              "                        })                };                            </script>        </div>\n",
              "</body>\n",
              "</html>"
            ]
          },
          "metadata": {}
        }
      ],
      "source": [
        "# Check 34 black flat stones on sensors\n",
        "df_stones = pd.DataFrame()\n",
        "nr_of_files = 1\n",
        "for file_nr in range(1, nr_of_files + 1):\n",
        "    df = pd.read_csv(f\"Colab_files/black_flat_sensor_1_{file_nr}.csv\", index_col='Unnamed: 0')\n",
        "    df_stones[f\"{str(file_nr-1)}\"] = df[['0']]\n",
        "line_plots(df_stones, nr_of_files)"
      ],
      "id": "40750097-efb0-49f6-80df-4356eb19e083"
    },
    {
      "cell_type": "markdown",
      "source": [],
      "metadata": {
        "id": "KcRAZ9SWC2FS"
      },
      "id": "KcRAZ9SWC2FS"
    }
  ],
  "metadata": {
    "kernelspec": {
      "display_name": "Python 3",
      "name": "python3"
    },
    "language_info": {
      "codemirror_mode": {
        "name": "ipython",
        "version": 3
      },
      "file_extension": ".py",
      "mimetype": "text/x-python",
      "name": "python",
      "nbconvert_exporter": "python",
      "pygments_lexer": "ipython3",
      "version": "3.11.2"
    },
    "colab": {
      "provenance": [],
      "collapsed_sections": [
        "5tXvUtF6C9ex"
      ],
      "gpuType": "T4"
    },
    "accelerator": "GPU"
  },
  "nbformat": 4,
  "nbformat_minor": 5
}